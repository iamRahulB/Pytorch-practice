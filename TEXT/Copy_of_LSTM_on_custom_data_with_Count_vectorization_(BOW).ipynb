{
  "nbformat": 4,
  "nbformat_minor": 0,
  "metadata": {
    "colab": {
      "provenance": [],
      "gpuType": "T4",
      "authorship_tag": "ABX9TyPHo78lQvhAZT5iWF6jbWIy",
      "include_colab_link": true
    },
    "kernelspec": {
      "name": "python3",
      "display_name": "Python 3"
    },
    "language_info": {
      "name": "python"
    },
    "accelerator": "GPU",
    "widgets": {
      "application/vnd.jupyter.widget-state+json": {
        "c82700b132144778ad5812530c37c93e": {
          "model_module": "@jupyter-widgets/controls",
          "model_name": "HBoxModel",
          "model_module_version": "1.5.0",
          "state": {
            "_dom_classes": [],
            "_model_module": "@jupyter-widgets/controls",
            "_model_module_version": "1.5.0",
            "_model_name": "HBoxModel",
            "_view_count": null,
            "_view_module": "@jupyter-widgets/controls",
            "_view_module_version": "1.5.0",
            "_view_name": "HBoxView",
            "box_style": "",
            "children": [
              "IPY_MODEL_8989022a17ba4f36b06890f79915ec84",
              "IPY_MODEL_8dfc32f3b15b48728b14a68e2948414f",
              "IPY_MODEL_3877a58b2a3a40ee83c1ebb66bb79d4f"
            ],
            "layout": "IPY_MODEL_5b5903b4c8c54b879cc011f96c95633e"
          }
        },
        "8989022a17ba4f36b06890f79915ec84": {
          "model_module": "@jupyter-widgets/controls",
          "model_name": "HTMLModel",
          "model_module_version": "1.5.0",
          "state": {
            "_dom_classes": [],
            "_model_module": "@jupyter-widgets/controls",
            "_model_module_version": "1.5.0",
            "_model_name": "HTMLModel",
            "_view_count": null,
            "_view_module": "@jupyter-widgets/controls",
            "_view_module_version": "1.5.0",
            "_view_name": "HTMLView",
            "description": "",
            "description_tooltip": null,
            "layout": "IPY_MODEL_fccd48c0a1a843dda1c50c348a00b35f",
            "placeholder": "​",
            "style": "IPY_MODEL_11d2389d23214f55a100c94fdb2c207e",
            "value": "100%"
          }
        },
        "8dfc32f3b15b48728b14a68e2948414f": {
          "model_module": "@jupyter-widgets/controls",
          "model_name": "FloatProgressModel",
          "model_module_version": "1.5.0",
          "state": {
            "_dom_classes": [],
            "_model_module": "@jupyter-widgets/controls",
            "_model_module_version": "1.5.0",
            "_model_name": "FloatProgressModel",
            "_view_count": null,
            "_view_module": "@jupyter-widgets/controls",
            "_view_module_version": "1.5.0",
            "_view_name": "ProgressView",
            "bar_style": "success",
            "description": "",
            "description_tooltip": null,
            "layout": "IPY_MODEL_219d27a6bbf446c9898ea97827045185",
            "max": 5,
            "min": 0,
            "orientation": "horizontal",
            "style": "IPY_MODEL_8b2737d3546946389fbd84d7676aa314",
            "value": 5
          }
        },
        "3877a58b2a3a40ee83c1ebb66bb79d4f": {
          "model_module": "@jupyter-widgets/controls",
          "model_name": "HTMLModel",
          "model_module_version": "1.5.0",
          "state": {
            "_dom_classes": [],
            "_model_module": "@jupyter-widgets/controls",
            "_model_module_version": "1.5.0",
            "_model_name": "HTMLModel",
            "_view_count": null,
            "_view_module": "@jupyter-widgets/controls",
            "_view_module_version": "1.5.0",
            "_view_name": "HTMLView",
            "description": "",
            "description_tooltip": null,
            "layout": "IPY_MODEL_8850b1b31d58415e939f1a13b9f487a5",
            "placeholder": "​",
            "style": "IPY_MODEL_dfac1786c1f14da9944d74badc9a00f5",
            "value": " 5/5 [02:02&lt;00:00, 24.61s/it]"
          }
        },
        "5b5903b4c8c54b879cc011f96c95633e": {
          "model_module": "@jupyter-widgets/base",
          "model_name": "LayoutModel",
          "model_module_version": "1.2.0",
          "state": {
            "_model_module": "@jupyter-widgets/base",
            "_model_module_version": "1.2.0",
            "_model_name": "LayoutModel",
            "_view_count": null,
            "_view_module": "@jupyter-widgets/base",
            "_view_module_version": "1.2.0",
            "_view_name": "LayoutView",
            "align_content": null,
            "align_items": null,
            "align_self": null,
            "border": null,
            "bottom": null,
            "display": null,
            "flex": null,
            "flex_flow": null,
            "grid_area": null,
            "grid_auto_columns": null,
            "grid_auto_flow": null,
            "grid_auto_rows": null,
            "grid_column": null,
            "grid_gap": null,
            "grid_row": null,
            "grid_template_areas": null,
            "grid_template_columns": null,
            "grid_template_rows": null,
            "height": null,
            "justify_content": null,
            "justify_items": null,
            "left": null,
            "margin": null,
            "max_height": null,
            "max_width": null,
            "min_height": null,
            "min_width": null,
            "object_fit": null,
            "object_position": null,
            "order": null,
            "overflow": null,
            "overflow_x": null,
            "overflow_y": null,
            "padding": null,
            "right": null,
            "top": null,
            "visibility": null,
            "width": null
          }
        },
        "fccd48c0a1a843dda1c50c348a00b35f": {
          "model_module": "@jupyter-widgets/base",
          "model_name": "LayoutModel",
          "model_module_version": "1.2.0",
          "state": {
            "_model_module": "@jupyter-widgets/base",
            "_model_module_version": "1.2.0",
            "_model_name": "LayoutModel",
            "_view_count": null,
            "_view_module": "@jupyter-widgets/base",
            "_view_module_version": "1.2.0",
            "_view_name": "LayoutView",
            "align_content": null,
            "align_items": null,
            "align_self": null,
            "border": null,
            "bottom": null,
            "display": null,
            "flex": null,
            "flex_flow": null,
            "grid_area": null,
            "grid_auto_columns": null,
            "grid_auto_flow": null,
            "grid_auto_rows": null,
            "grid_column": null,
            "grid_gap": null,
            "grid_row": null,
            "grid_template_areas": null,
            "grid_template_columns": null,
            "grid_template_rows": null,
            "height": null,
            "justify_content": null,
            "justify_items": null,
            "left": null,
            "margin": null,
            "max_height": null,
            "max_width": null,
            "min_height": null,
            "min_width": null,
            "object_fit": null,
            "object_position": null,
            "order": null,
            "overflow": null,
            "overflow_x": null,
            "overflow_y": null,
            "padding": null,
            "right": null,
            "top": null,
            "visibility": null,
            "width": null
          }
        },
        "11d2389d23214f55a100c94fdb2c207e": {
          "model_module": "@jupyter-widgets/controls",
          "model_name": "DescriptionStyleModel",
          "model_module_version": "1.5.0",
          "state": {
            "_model_module": "@jupyter-widgets/controls",
            "_model_module_version": "1.5.0",
            "_model_name": "DescriptionStyleModel",
            "_view_count": null,
            "_view_module": "@jupyter-widgets/base",
            "_view_module_version": "1.2.0",
            "_view_name": "StyleView",
            "description_width": ""
          }
        },
        "219d27a6bbf446c9898ea97827045185": {
          "model_module": "@jupyter-widgets/base",
          "model_name": "LayoutModel",
          "model_module_version": "1.2.0",
          "state": {
            "_model_module": "@jupyter-widgets/base",
            "_model_module_version": "1.2.0",
            "_model_name": "LayoutModel",
            "_view_count": null,
            "_view_module": "@jupyter-widgets/base",
            "_view_module_version": "1.2.0",
            "_view_name": "LayoutView",
            "align_content": null,
            "align_items": null,
            "align_self": null,
            "border": null,
            "bottom": null,
            "display": null,
            "flex": null,
            "flex_flow": null,
            "grid_area": null,
            "grid_auto_columns": null,
            "grid_auto_flow": null,
            "grid_auto_rows": null,
            "grid_column": null,
            "grid_gap": null,
            "grid_row": null,
            "grid_template_areas": null,
            "grid_template_columns": null,
            "grid_template_rows": null,
            "height": null,
            "justify_content": null,
            "justify_items": null,
            "left": null,
            "margin": null,
            "max_height": null,
            "max_width": null,
            "min_height": null,
            "min_width": null,
            "object_fit": null,
            "object_position": null,
            "order": null,
            "overflow": null,
            "overflow_x": null,
            "overflow_y": null,
            "padding": null,
            "right": null,
            "top": null,
            "visibility": null,
            "width": null
          }
        },
        "8b2737d3546946389fbd84d7676aa314": {
          "model_module": "@jupyter-widgets/controls",
          "model_name": "ProgressStyleModel",
          "model_module_version": "1.5.0",
          "state": {
            "_model_module": "@jupyter-widgets/controls",
            "_model_module_version": "1.5.0",
            "_model_name": "ProgressStyleModel",
            "_view_count": null,
            "_view_module": "@jupyter-widgets/base",
            "_view_module_version": "1.2.0",
            "_view_name": "StyleView",
            "bar_color": null,
            "description_width": ""
          }
        },
        "8850b1b31d58415e939f1a13b9f487a5": {
          "model_module": "@jupyter-widgets/base",
          "model_name": "LayoutModel",
          "model_module_version": "1.2.0",
          "state": {
            "_model_module": "@jupyter-widgets/base",
            "_model_module_version": "1.2.0",
            "_model_name": "LayoutModel",
            "_view_count": null,
            "_view_module": "@jupyter-widgets/base",
            "_view_module_version": "1.2.0",
            "_view_name": "LayoutView",
            "align_content": null,
            "align_items": null,
            "align_self": null,
            "border": null,
            "bottom": null,
            "display": null,
            "flex": null,
            "flex_flow": null,
            "grid_area": null,
            "grid_auto_columns": null,
            "grid_auto_flow": null,
            "grid_auto_rows": null,
            "grid_column": null,
            "grid_gap": null,
            "grid_row": null,
            "grid_template_areas": null,
            "grid_template_columns": null,
            "grid_template_rows": null,
            "height": null,
            "justify_content": null,
            "justify_items": null,
            "left": null,
            "margin": null,
            "max_height": null,
            "max_width": null,
            "min_height": null,
            "min_width": null,
            "object_fit": null,
            "object_position": null,
            "order": null,
            "overflow": null,
            "overflow_x": null,
            "overflow_y": null,
            "padding": null,
            "right": null,
            "top": null,
            "visibility": null,
            "width": null
          }
        },
        "dfac1786c1f14da9944d74badc9a00f5": {
          "model_module": "@jupyter-widgets/controls",
          "model_name": "DescriptionStyleModel",
          "model_module_version": "1.5.0",
          "state": {
            "_model_module": "@jupyter-widgets/controls",
            "_model_module_version": "1.5.0",
            "_model_name": "DescriptionStyleModel",
            "_view_count": null,
            "_view_module": "@jupyter-widgets/base",
            "_view_module_version": "1.2.0",
            "_view_name": "StyleView",
            "description_width": ""
          }
        }
      }
    }
  },
  "cells": [
    {
      "cell_type": "markdown",
      "metadata": {
        "id": "view-in-github",
        "colab_type": "text"
      },
      "source": [
        "<a href=\"https://colab.research.google.com/github/iamRahulB/Pytorch-practice/blob/main/TEXT/Copy_of_LSTM_on_custom_data_with_Count_vectorization_(BOW).ipynb\" target=\"_parent\"><img src=\"https://colab.research.google.com/assets/colab-badge.svg\" alt=\"Open In Colab\"/></a>"
      ]
    },
    {
      "cell_type": "code",
      "source": [
        "!pip3 install -q torch==2.2.0 torchtext==0.17.0 --index-url https://download.pytorch.org/whl/cu118"
      ],
      "metadata": {
        "id": "hYRS4fjLekTi",
        "colab": {
          "base_uri": "https://localhost:8080/"
        },
        "outputId": "a0c38d81-65a8-43c3-96a8-03370269f6f1"
      },
      "execution_count": 1,
      "outputs": [
        {
          "output_type": "stream",
          "name": "stdout",
          "text": [
            "\u001b[2K     \u001b[90m━━━━━━━━━━━━━━━━━━━━━━━━━━━━━━━━━━━━━━━━\u001b[0m \u001b[32m811.7/811.7 MB\u001b[0m \u001b[31m1.5 MB/s\u001b[0m eta \u001b[36m0:00:00\u001b[0m\n",
            "\u001b[2K     \u001b[90m━━━━━━━━━━━━━━━━━━━━━━━━━━━━━━━━━━━━━━━━\u001b[0m \u001b[32m2.0/2.0 MB\u001b[0m \u001b[31m20.3 MB/s\u001b[0m eta \u001b[36m0:00:00\u001b[0m\n",
            "\u001b[2K     \u001b[90m━━━━━━━━━━━━━━━━━━━━━━━━━━━━━━━━━━━━━━━━\u001b[0m \u001b[32m23.2/23.2 MB\u001b[0m \u001b[31m19.5 MB/s\u001b[0m eta \u001b[36m0:00:00\u001b[0m\n",
            "\u001b[2K     \u001b[90m━━━━━━━━━━━━━━━━━━━━━━━━━━━━━━━━━━━━━━━━\u001b[0m \u001b[32m875.6/875.6 kB\u001b[0m \u001b[31m20.5 MB/s\u001b[0m eta \u001b[36m0:00:00\u001b[0m\n",
            "\u001b[2K     \u001b[90m━━━━━━━━━━━━━━━━━━━━━━━━━━━━━━━━━━━━━━━━\u001b[0m \u001b[32m13.1/13.1 MB\u001b[0m \u001b[31m50.3 MB/s\u001b[0m eta \u001b[36m0:00:00\u001b[0m\n",
            "\u001b[2K     \u001b[90m━━━━━━━━━━━━━━━━━━━━━━━━━━━━━━━━━━━━━━━━\u001b[0m \u001b[32m728.5/728.5 MB\u001b[0m \u001b[31m2.5 MB/s\u001b[0m eta \u001b[36m0:00:00\u001b[0m\n",
            "\u001b[2K     \u001b[90m━━━━━━━━━━━━━━━━━━━━━━━━━━━━━━━━━━━━━━━━\u001b[0m \u001b[32m417.9/417.9 MB\u001b[0m \u001b[31m4.0 MB/s\u001b[0m eta \u001b[36m0:00:00\u001b[0m\n",
            "\u001b[2K     \u001b[90m━━━━━━━━━━━━━━━━━━━━━━━━━━━━━━━━━━━━━━━━\u001b[0m \u001b[32m168.4/168.4 MB\u001b[0m \u001b[31m7.6 MB/s\u001b[0m eta \u001b[36m0:00:00\u001b[0m\n",
            "\u001b[2K     \u001b[90m━━━━━━━━━━━━━━━━━━━━━━━━━━━━━━━━━━━━━━━━\u001b[0m \u001b[32m58.1/58.1 MB\u001b[0m \u001b[31m19.9 MB/s\u001b[0m eta \u001b[36m0:00:00\u001b[0m\n",
            "\u001b[2K     \u001b[90m━━━━━━━━━━━━━━━━━━━━━━━━━━━━━━━━━━━━━━━━\u001b[0m \u001b[32m128.2/128.2 MB\u001b[0m \u001b[31m7.8 MB/s\u001b[0m eta \u001b[36m0:00:00\u001b[0m\n",
            "\u001b[2K     \u001b[90m━━━━━━━━━━━━━━━━━━━━━━━━━━━━━━━━━━━━━━━━\u001b[0m \u001b[32m204.1/204.1 MB\u001b[0m \u001b[31m6.1 MB/s\u001b[0m eta \u001b[36m0:00:00\u001b[0m\n",
            "\u001b[2K     \u001b[90m━━━━━━━━━━━━━━━━━━━━━━━━━━━━━━━━━━━━━━━━\u001b[0m \u001b[32m135.3/135.3 MB\u001b[0m \u001b[31m6.8 MB/s\u001b[0m eta \u001b[36m0:00:00\u001b[0m\n",
            "\u001b[2K     \u001b[90m━━━━━━━━━━━━━━━━━━━━━━━━━━━━━━━━━━━━━━━━\u001b[0m \u001b[32m99.1/99.1 kB\u001b[0m \u001b[31m9.5 MB/s\u001b[0m eta \u001b[36m0:00:00\u001b[0m\n",
            "\u001b[2K     \u001b[90m━━━━━━━━━━━━━━━━━━━━━━━━━━━━━━━━━━━━━━━━\u001b[0m \u001b[32m167.9/167.9 MB\u001b[0m \u001b[31m6.7 MB/s\u001b[0m eta \u001b[36m0:00:00\u001b[0m\n",
            "\u001b[2K     \u001b[90m━━━━━━━━━━━━━━━━━━━━━━━━━━━━━━━━━━━━━━━━\u001b[0m \u001b[32m4.7/4.7 MB\u001b[0m \u001b[31m95.4 MB/s\u001b[0m eta \u001b[36m0:00:00\u001b[0m\n",
            "\u001b[?25h\u001b[31mERROR: pip's dependency resolver does not currently take into account all the packages that are installed. This behaviour is the source of the following dependency conflicts.\n",
            "torchaudio 2.4.1+cu121 requires torch==2.4.1, but you have torch 2.2.0+cu118 which is incompatible.\n",
            "torchvision 0.19.1+cu121 requires torch==2.4.1, but you have torch 2.2.0+cu118 which is incompatible.\u001b[0m\u001b[31m\n",
            "\u001b[0m"
          ]
        }
      ]
    },
    {
      "cell_type": "code",
      "source": [
        "!pip install -q -U portalocker==2.8.2"
      ],
      "metadata": {
        "id": "PzsrPvcieoLO"
      },
      "execution_count": 2,
      "outputs": []
    },
    {
      "cell_type": "code",
      "execution_count": 3,
      "metadata": {
        "id": "FOseffHVYByy"
      },
      "outputs": [],
      "source": [
        "import torch\n",
        "from torch import nn\n",
        "import torch.optim as optim\n",
        "from torchtext import datasets\n",
        "from torch.utils.data import DataLoader, Dataset\n",
        "from torchtext.data import get_tokenizer\n",
        "from torchtext.vocab import build_vocab_from_iterator\n",
        "import pandas as pd\n",
        "import matplotlib.pyplot as plt\n",
        "import nltk\n",
        "from nltk.corpus import stopwords\n",
        "from nltk.stem import WordNetLemmatizer\n",
        "from nltk.tokenize import word_tokenize\n",
        "from sklearn.model_selection import train_test_split\n",
        "import re\n"
      ]
    },
    {
      "cell_type": "code",
      "source": [
        "nltk.download('stopwords')\n",
        "nltk.download('wordnet')\n",
        "nltk.download('punkt')"
      ],
      "metadata": {
        "colab": {
          "base_uri": "https://localhost:8080/"
        },
        "id": "Jm9MAzFDhBNz",
        "outputId": "13321170-37ca-47ab-96c0-64ddad1bc17a"
      },
      "execution_count": 4,
      "outputs": [
        {
          "output_type": "stream",
          "name": "stderr",
          "text": [
            "[nltk_data] Downloading package stopwords to /root/nltk_data...\n",
            "[nltk_data]   Unzipping corpora/stopwords.zip.\n",
            "[nltk_data] Downloading package wordnet to /root/nltk_data...\n",
            "[nltk_data] Downloading package punkt to /root/nltk_data...\n",
            "[nltk_data]   Unzipping tokenizers/punkt.zip.\n"
          ]
        },
        {
          "output_type": "execute_result",
          "data": {
            "text/plain": [
              "True"
            ]
          },
          "metadata": {},
          "execution_count": 4
        }
      ]
    },
    {
      "cell_type": "code",
      "source": [
        "df=pd.read_csv('https://github.com/LawrenceDuan/IMDb-Review-Analysis/raw/refs/heads/master/IMDb_Reviews.csv')"
      ],
      "metadata": {
        "id": "Z0x-mZsDgHqW"
      },
      "execution_count": 5,
      "outputs": []
    },
    {
      "cell_type": "code",
      "source": [
        "df.head()"
      ],
      "metadata": {
        "colab": {
          "base_uri": "https://localhost:8080/",
          "height": 206
        },
        "id": "0R1odgaPgOKx",
        "outputId": "34ebd123-909f-4784-94d5-64860c24485d"
      },
      "execution_count": 6,
      "outputs": [
        {
          "output_type": "execute_result",
          "data": {
            "text/plain": [
              "                                              review  sentiment\n",
              "0  My family and I normally do not watch local mo...          1\n",
              "1  Believe it or not, this was at one time the wo...          0\n",
              "2  After some internet surfing, I found the \"Home...          0\n",
              "3  One of the most unheralded great works of anim...          1\n",
              "4  It was the Sixties, and anyone with long hair ...          0"
            ],
            "text/html": [
              "\n",
              "  <div id=\"df-ba405f8e-ac00-4fd6-8f33-d5e32fb76d42\" class=\"colab-df-container\">\n",
              "    <div>\n",
              "<style scoped>\n",
              "    .dataframe tbody tr th:only-of-type {\n",
              "        vertical-align: middle;\n",
              "    }\n",
              "\n",
              "    .dataframe tbody tr th {\n",
              "        vertical-align: top;\n",
              "    }\n",
              "\n",
              "    .dataframe thead th {\n",
              "        text-align: right;\n",
              "    }\n",
              "</style>\n",
              "<table border=\"1\" class=\"dataframe\">\n",
              "  <thead>\n",
              "    <tr style=\"text-align: right;\">\n",
              "      <th></th>\n",
              "      <th>review</th>\n",
              "      <th>sentiment</th>\n",
              "    </tr>\n",
              "  </thead>\n",
              "  <tbody>\n",
              "    <tr>\n",
              "      <th>0</th>\n",
              "      <td>My family and I normally do not watch local mo...</td>\n",
              "      <td>1</td>\n",
              "    </tr>\n",
              "    <tr>\n",
              "      <th>1</th>\n",
              "      <td>Believe it or not, this was at one time the wo...</td>\n",
              "      <td>0</td>\n",
              "    </tr>\n",
              "    <tr>\n",
              "      <th>2</th>\n",
              "      <td>After some internet surfing, I found the \"Home...</td>\n",
              "      <td>0</td>\n",
              "    </tr>\n",
              "    <tr>\n",
              "      <th>3</th>\n",
              "      <td>One of the most unheralded great works of anim...</td>\n",
              "      <td>1</td>\n",
              "    </tr>\n",
              "    <tr>\n",
              "      <th>4</th>\n",
              "      <td>It was the Sixties, and anyone with long hair ...</td>\n",
              "      <td>0</td>\n",
              "    </tr>\n",
              "  </tbody>\n",
              "</table>\n",
              "</div>\n",
              "    <div class=\"colab-df-buttons\">\n",
              "\n",
              "  <div class=\"colab-df-container\">\n",
              "    <button class=\"colab-df-convert\" onclick=\"convertToInteractive('df-ba405f8e-ac00-4fd6-8f33-d5e32fb76d42')\"\n",
              "            title=\"Convert this dataframe to an interactive table.\"\n",
              "            style=\"display:none;\">\n",
              "\n",
              "  <svg xmlns=\"http://www.w3.org/2000/svg\" height=\"24px\" viewBox=\"0 -960 960 960\">\n",
              "    <path d=\"M120-120v-720h720v720H120Zm60-500h600v-160H180v160Zm220 220h160v-160H400v160Zm0 220h160v-160H400v160ZM180-400h160v-160H180v160Zm440 0h160v-160H620v160ZM180-180h160v-160H180v160Zm440 0h160v-160H620v160Z\"/>\n",
              "  </svg>\n",
              "    </button>\n",
              "\n",
              "  <style>\n",
              "    .colab-df-container {\n",
              "      display:flex;\n",
              "      gap: 12px;\n",
              "    }\n",
              "\n",
              "    .colab-df-convert {\n",
              "      background-color: #E8F0FE;\n",
              "      border: none;\n",
              "      border-radius: 50%;\n",
              "      cursor: pointer;\n",
              "      display: none;\n",
              "      fill: #1967D2;\n",
              "      height: 32px;\n",
              "      padding: 0 0 0 0;\n",
              "      width: 32px;\n",
              "    }\n",
              "\n",
              "    .colab-df-convert:hover {\n",
              "      background-color: #E2EBFA;\n",
              "      box-shadow: 0px 1px 2px rgba(60, 64, 67, 0.3), 0px 1px 3px 1px rgba(60, 64, 67, 0.15);\n",
              "      fill: #174EA6;\n",
              "    }\n",
              "\n",
              "    .colab-df-buttons div {\n",
              "      margin-bottom: 4px;\n",
              "    }\n",
              "\n",
              "    [theme=dark] .colab-df-convert {\n",
              "      background-color: #3B4455;\n",
              "      fill: #D2E3FC;\n",
              "    }\n",
              "\n",
              "    [theme=dark] .colab-df-convert:hover {\n",
              "      background-color: #434B5C;\n",
              "      box-shadow: 0px 1px 3px 1px rgba(0, 0, 0, 0.15);\n",
              "      filter: drop-shadow(0px 1px 2px rgba(0, 0, 0, 0.3));\n",
              "      fill: #FFFFFF;\n",
              "    }\n",
              "  </style>\n",
              "\n",
              "    <script>\n",
              "      const buttonEl =\n",
              "        document.querySelector('#df-ba405f8e-ac00-4fd6-8f33-d5e32fb76d42 button.colab-df-convert');\n",
              "      buttonEl.style.display =\n",
              "        google.colab.kernel.accessAllowed ? 'block' : 'none';\n",
              "\n",
              "      async function convertToInteractive(key) {\n",
              "        const element = document.querySelector('#df-ba405f8e-ac00-4fd6-8f33-d5e32fb76d42');\n",
              "        const dataTable =\n",
              "          await google.colab.kernel.invokeFunction('convertToInteractive',\n",
              "                                                    [key], {});\n",
              "        if (!dataTable) return;\n",
              "\n",
              "        const docLinkHtml = 'Like what you see? Visit the ' +\n",
              "          '<a target=\"_blank\" href=https://colab.research.google.com/notebooks/data_table.ipynb>data table notebook</a>'\n",
              "          + ' to learn more about interactive tables.';\n",
              "        element.innerHTML = '';\n",
              "        dataTable['output_type'] = 'display_data';\n",
              "        await google.colab.output.renderOutput(dataTable, element);\n",
              "        const docLink = document.createElement('div');\n",
              "        docLink.innerHTML = docLinkHtml;\n",
              "        element.appendChild(docLink);\n",
              "      }\n",
              "    </script>\n",
              "  </div>\n",
              "\n",
              "\n",
              "<div id=\"df-4a1d4b70-77f6-450a-b1db-9a7963bc7e74\">\n",
              "  <button class=\"colab-df-quickchart\" onclick=\"quickchart('df-4a1d4b70-77f6-450a-b1db-9a7963bc7e74')\"\n",
              "            title=\"Suggest charts\"\n",
              "            style=\"display:none;\">\n",
              "\n",
              "<svg xmlns=\"http://www.w3.org/2000/svg\" height=\"24px\"viewBox=\"0 0 24 24\"\n",
              "     width=\"24px\">\n",
              "    <g>\n",
              "        <path d=\"M19 3H5c-1.1 0-2 .9-2 2v14c0 1.1.9 2 2 2h14c1.1 0 2-.9 2-2V5c0-1.1-.9-2-2-2zM9 17H7v-7h2v7zm4 0h-2V7h2v10zm4 0h-2v-4h2v4z\"/>\n",
              "    </g>\n",
              "</svg>\n",
              "  </button>\n",
              "\n",
              "<style>\n",
              "  .colab-df-quickchart {\n",
              "      --bg-color: #E8F0FE;\n",
              "      --fill-color: #1967D2;\n",
              "      --hover-bg-color: #E2EBFA;\n",
              "      --hover-fill-color: #174EA6;\n",
              "      --disabled-fill-color: #AAA;\n",
              "      --disabled-bg-color: #DDD;\n",
              "  }\n",
              "\n",
              "  [theme=dark] .colab-df-quickchart {\n",
              "      --bg-color: #3B4455;\n",
              "      --fill-color: #D2E3FC;\n",
              "      --hover-bg-color: #434B5C;\n",
              "      --hover-fill-color: #FFFFFF;\n",
              "      --disabled-bg-color: #3B4455;\n",
              "      --disabled-fill-color: #666;\n",
              "  }\n",
              "\n",
              "  .colab-df-quickchart {\n",
              "    background-color: var(--bg-color);\n",
              "    border: none;\n",
              "    border-radius: 50%;\n",
              "    cursor: pointer;\n",
              "    display: none;\n",
              "    fill: var(--fill-color);\n",
              "    height: 32px;\n",
              "    padding: 0;\n",
              "    width: 32px;\n",
              "  }\n",
              "\n",
              "  .colab-df-quickchart:hover {\n",
              "    background-color: var(--hover-bg-color);\n",
              "    box-shadow: 0 1px 2px rgba(60, 64, 67, 0.3), 0 1px 3px 1px rgba(60, 64, 67, 0.15);\n",
              "    fill: var(--button-hover-fill-color);\n",
              "  }\n",
              "\n",
              "  .colab-df-quickchart-complete:disabled,\n",
              "  .colab-df-quickchart-complete:disabled:hover {\n",
              "    background-color: var(--disabled-bg-color);\n",
              "    fill: var(--disabled-fill-color);\n",
              "    box-shadow: none;\n",
              "  }\n",
              "\n",
              "  .colab-df-spinner {\n",
              "    border: 2px solid var(--fill-color);\n",
              "    border-color: transparent;\n",
              "    border-bottom-color: var(--fill-color);\n",
              "    animation:\n",
              "      spin 1s steps(1) infinite;\n",
              "  }\n",
              "\n",
              "  @keyframes spin {\n",
              "    0% {\n",
              "      border-color: transparent;\n",
              "      border-bottom-color: var(--fill-color);\n",
              "      border-left-color: var(--fill-color);\n",
              "    }\n",
              "    20% {\n",
              "      border-color: transparent;\n",
              "      border-left-color: var(--fill-color);\n",
              "      border-top-color: var(--fill-color);\n",
              "    }\n",
              "    30% {\n",
              "      border-color: transparent;\n",
              "      border-left-color: var(--fill-color);\n",
              "      border-top-color: var(--fill-color);\n",
              "      border-right-color: var(--fill-color);\n",
              "    }\n",
              "    40% {\n",
              "      border-color: transparent;\n",
              "      border-right-color: var(--fill-color);\n",
              "      border-top-color: var(--fill-color);\n",
              "    }\n",
              "    60% {\n",
              "      border-color: transparent;\n",
              "      border-right-color: var(--fill-color);\n",
              "    }\n",
              "    80% {\n",
              "      border-color: transparent;\n",
              "      border-right-color: var(--fill-color);\n",
              "      border-bottom-color: var(--fill-color);\n",
              "    }\n",
              "    90% {\n",
              "      border-color: transparent;\n",
              "      border-bottom-color: var(--fill-color);\n",
              "    }\n",
              "  }\n",
              "</style>\n",
              "\n",
              "  <script>\n",
              "    async function quickchart(key) {\n",
              "      const quickchartButtonEl =\n",
              "        document.querySelector('#' + key + ' button');\n",
              "      quickchartButtonEl.disabled = true;  // To prevent multiple clicks.\n",
              "      quickchartButtonEl.classList.add('colab-df-spinner');\n",
              "      try {\n",
              "        const charts = await google.colab.kernel.invokeFunction(\n",
              "            'suggestCharts', [key], {});\n",
              "      } catch (error) {\n",
              "        console.error('Error during call to suggestCharts:', error);\n",
              "      }\n",
              "      quickchartButtonEl.classList.remove('colab-df-spinner');\n",
              "      quickchartButtonEl.classList.add('colab-df-quickchart-complete');\n",
              "    }\n",
              "    (() => {\n",
              "      let quickchartButtonEl =\n",
              "        document.querySelector('#df-4a1d4b70-77f6-450a-b1db-9a7963bc7e74 button');\n",
              "      quickchartButtonEl.style.display =\n",
              "        google.colab.kernel.accessAllowed ? 'block' : 'none';\n",
              "    })();\n",
              "  </script>\n",
              "</div>\n",
              "\n",
              "    </div>\n",
              "  </div>\n"
            ],
            "application/vnd.google.colaboratory.intrinsic+json": {
              "type": "dataframe",
              "variable_name": "df",
              "summary": "{\n  \"name\": \"df\",\n  \"rows\": 50000,\n  \"fields\": [\n    {\n      \"column\": \"review\",\n      \"properties\": {\n        \"dtype\": \"string\",\n        \"num_unique_values\": 49582,\n        \"samples\": [\n          \"Perhaps you won't care for the social commentary, or the film makers point of view (I myself am mystified at the \\u0091insignificance' angle Kasdan seemed to promote \\u0096 when clearly, the actions taken in the movie promote CERTAIN significance. The ending confused me). However, there's absolutely no denying the manner in which the story is presented; the magnificent symbolism throughout; the threaded character arcs; visuals; dialogue \\u0096 is absolute masterwork. I've watched the movie dozens of times, and I still marvel at its perfection. There's not a moment, action, cut, or line that doesn't have everything to do with the theme. Realistic human performances from all the actors. Scene to scene it's woven fantastically.<br /><br />I have a pretty level sap-meter. The buzzer never went off during this film. If you're a thinker (rather than a casual viewer) \\u0096 this movie delivers. Exponentially. Absolutely mesmerizing. (Do you have to agree with the message to appreciate the display? Who cares if it made you warm and fuzzy or not, was it interesting?)<br /><br />Personally, the movie affected me \\u0096 significantly. In my top 5.<br /><br />Note: The front-page reviewer clearly speaks from a flawed African American perception. What he may have failed to recognize, is, there was a hand \\u0096 shake. Not a hand - out. The \\u0091spiritually dead white man', simply saw a man to respect, and admire. And he did something about it. The fact he was black had little, if anything, to do with it (color is simply used to draw the parallel. And the chasm. It's no accident the opening sequence shifts from black and white to color either). If you view the blacks in this movie as \\u0091token' \\u0096 you may want to reassess YOUR angst. You may be seeing only black and white yourself, eh. Just a thought.\",\n          \"Good Folks, I stumbled on this film on evening while I was grading papers. My academic specialty is Anglo-Saxon literature, and I can say that no one has ever done the genre the honor it deserves. The Icelandic \\\"Beowulf and Grendel\\\" is the least offensive I have seen, and I did pay $3.00 for my copy. This Sci-Fi version ranks with the Christopher Lambert version. Yuck.<br /><br />What didn't I like? CGI for one. Amazingly bad. More importantly is the faithfulness to the storyline, not to mention the stilted acting. I am used to both with all the versions I have seen.<br /><br />Delighted Regardless, Peter\",\n          \"\\\"Tipping The Velvet\\\" is one of the modern day television productions that prove that some television can be just as good or even better(as this is) than what you see at your local theater. <br /><br />If you want to read the plot, read this and if you want other details skip down to the next paragraph. This is the unforgettable portrait of an unconventional young girl named Nan who works as a naive oyster girl,until she discovers her repressed homosexuality when she falls in love with a successful woman named Kitty who dresses as a male for her stage profession. The young girl soon joins the act as another male impersonator and they are a major hit. Soon the both of them embark on a tender affair. Kitty eventually becomes enveloped in a marriage of convenience and ravages young Nan's heart. From then on, Nan works as male impersonated prostitute to men looking to have sex with boys, then she becomes the private sex slave to the evil and sadomasochistic Diana where Nan experiences severe emotional abuse. When that ends badly, Nan is on the streets again where she recalls a young woman named Florence; a good-hearted socialist who had the true potential of being a wonderful partner. That's where Nan will discover the power of socialism and learn how to get back to fame. <br /><br />The region 1 transfer is of exceptional picture quality, there is a very good scene selection, an eloquent photo gallery and a fun interview between novelist Sara Waters and the film's writer Andrew Davies. <br /><br />The sets, costumes, cinematography and music are gorgeous. The acting, writing and directing are extremely strong and filled with realism, class and originality. I loved the film and the novel. Section III in the film is much different in the film than in the novel, because section III in the novel is great written down, but isn't screen material. I will be brave and say that I love the films interpretation of it much more. <br /><br />This breathtaking historical ingeniously combines Drama, Comedy, Erotica and Romance to vibrant perfection in a way that is both deeply moving and spiritually uplifting. For every mature and open-minded adult who has ever felt the pleasures, pains and power of falling in love and living life to it's fullest. A revolutionary production; an absolute must-see!\"\n        ],\n        \"semantic_type\": \"\",\n        \"description\": \"\"\n      }\n    },\n    {\n      \"column\": \"sentiment\",\n      \"properties\": {\n        \"dtype\": \"number\",\n        \"std\": 0,\n        \"min\": 0,\n        \"max\": 1,\n        \"num_unique_values\": 2,\n        \"samples\": [\n          0,\n          1\n        ],\n        \"semantic_type\": \"\",\n        \"description\": \"\"\n      }\n    }\n  ]\n}"
            }
          },
          "metadata": {},
          "execution_count": 6
        }
      ]
    },
    {
      "cell_type": "code",
      "source": [
        "stop_words=stopwords.words('english')\n",
        "lemma=WordNetLemmatizer()\n",
        "print(f\"Lemmatizer Result : {lemma.lemmatize('butterflies')}\")\n",
        "print(f'Stopwords Result: {stop_words}')"
      ],
      "metadata": {
        "colab": {
          "base_uri": "https://localhost:8080/"
        },
        "id": "I8BMKGo5gYHj",
        "outputId": "c40d19f8-318f-4c80-9c76-a3e5c4053024"
      },
      "execution_count": 7,
      "outputs": [
        {
          "output_type": "stream",
          "name": "stdout",
          "text": [
            "Lemmatizer Result : butterfly\n",
            "Stopwords Result: ['i', 'me', 'my', 'myself', 'we', 'our', 'ours', 'ourselves', 'you', \"you're\", \"you've\", \"you'll\", \"you'd\", 'your', 'yours', 'yourself', 'yourselves', 'he', 'him', 'his', 'himself', 'she', \"she's\", 'her', 'hers', 'herself', 'it', \"it's\", 'its', 'itself', 'they', 'them', 'their', 'theirs', 'themselves', 'what', 'which', 'who', 'whom', 'this', 'that', \"that'll\", 'these', 'those', 'am', 'is', 'are', 'was', 'were', 'be', 'been', 'being', 'have', 'has', 'had', 'having', 'do', 'does', 'did', 'doing', 'a', 'an', 'the', 'and', 'but', 'if', 'or', 'because', 'as', 'until', 'while', 'of', 'at', 'by', 'for', 'with', 'about', 'against', 'between', 'into', 'through', 'during', 'before', 'after', 'above', 'below', 'to', 'from', 'up', 'down', 'in', 'out', 'on', 'off', 'over', 'under', 'again', 'further', 'then', 'once', 'here', 'there', 'when', 'where', 'why', 'how', 'all', 'any', 'both', 'each', 'few', 'more', 'most', 'other', 'some', 'such', 'no', 'nor', 'not', 'only', 'own', 'same', 'so', 'than', 'too', 'very', 's', 't', 'can', 'will', 'just', 'don', \"don't\", 'should', \"should've\", 'now', 'd', 'll', 'm', 'o', 're', 've', 'y', 'ain', 'aren', \"aren't\", 'couldn', \"couldn't\", 'didn', \"didn't\", 'doesn', \"doesn't\", 'hadn', \"hadn't\", 'hasn', \"hasn't\", 'haven', \"haven't\", 'isn', \"isn't\", 'ma', 'mightn', \"mightn't\", 'mustn', \"mustn't\", 'needn', \"needn't\", 'shan', \"shan't\", 'shouldn', \"shouldn't\", 'wasn', \"wasn't\", 'weren', \"weren't\", 'won', \"won't\", 'wouldn', \"wouldn't\"]\n"
          ]
        }
      ]
    },
    {
      "cell_type": "code",
      "source": [
        "sample_data=df.sample(4000)\n",
        "sample_data['sentiment'].value_counts()"
      ],
      "metadata": {
        "colab": {
          "base_uri": "https://localhost:8080/",
          "height": 178
        },
        "id": "x53ik9rihY8l",
        "outputId": "f1cc634d-503c-4df2-a80d-d712df72fdbc"
      },
      "execution_count": 8,
      "outputs": [
        {
          "output_type": "execute_result",
          "data": {
            "text/plain": [
              "sentiment\n",
              "1    2027\n",
              "0    1973\n",
              "Name: count, dtype: int64"
            ],
            "text/html": [
              "<div>\n",
              "<style scoped>\n",
              "    .dataframe tbody tr th:only-of-type {\n",
              "        vertical-align: middle;\n",
              "    }\n",
              "\n",
              "    .dataframe tbody tr th {\n",
              "        vertical-align: top;\n",
              "    }\n",
              "\n",
              "    .dataframe thead th {\n",
              "        text-align: right;\n",
              "    }\n",
              "</style>\n",
              "<table border=\"1\" class=\"dataframe\">\n",
              "  <thead>\n",
              "    <tr style=\"text-align: right;\">\n",
              "      <th></th>\n",
              "      <th>count</th>\n",
              "    </tr>\n",
              "    <tr>\n",
              "      <th>sentiment</th>\n",
              "      <th></th>\n",
              "    </tr>\n",
              "  </thead>\n",
              "  <tbody>\n",
              "    <tr>\n",
              "      <th>1</th>\n",
              "      <td>2027</td>\n",
              "    </tr>\n",
              "    <tr>\n",
              "      <th>0</th>\n",
              "      <td>1973</td>\n",
              "    </tr>\n",
              "  </tbody>\n",
              "</table>\n",
              "</div><br><label><b>dtype:</b> int64</label>"
            ]
          },
          "metadata": {},
          "execution_count": 8
        }
      ]
    },
    {
      "cell_type": "code",
      "source": [
        "# Upon analysing above data we can see that its not imbalanced dataset as i picked this version on purpose so there will not be any problem ahead"
      ],
      "metadata": {
        "id": "RQ_GnnuzkfR5"
      },
      "execution_count": 9,
      "outputs": []
    },
    {
      "cell_type": "code",
      "source": [
        "def preprocess(text):\n",
        "    text = re.sub(r'<[^>]+>', '', text)\n",
        "    text = re.sub(r'[^a-z\\s]', '', text, flags=re.IGNORECASE)\n",
        "    text=[lemma.lemmatize(token.lower()) for token in word_tokenize(text) if token not in stop_words]\n",
        "    return \" \".join(text)\n",
        "\n",
        "sample_data['cleaned']=sample_data['review'].apply(preprocess)"
      ],
      "metadata": {
        "id": "M_SK-3LGlE3u"
      },
      "execution_count": 10,
      "outputs": []
    },
    {
      "cell_type": "code",
      "source": [
        "sample_data.reset_index(inplace=True,drop=True)\n",
        "sample_data.head(7)"
      ],
      "metadata": {
        "colab": {
          "base_uri": "https://localhost:8080/",
          "height": 269
        },
        "id": "tl_ZMtalnPl1",
        "outputId": "f7d3175b-534c-41ae-9dd9-1c3eed25b10b"
      },
      "execution_count": 11,
      "outputs": [
        {
          "output_type": "execute_result",
          "data": {
            "text/plain": [
              "                                              review  sentiment  \\\n",
              "0  The people who bash this movie were looking fo...          0   \n",
              "1  4 realz son my game iz mad tite yo I cant wait...          0   \n",
              "2  It is terrible! It is like somebody gave a kid...          0   \n",
              "3  No way this overly simplistic script, with bas...          0   \n",
              "4  1st watched 11/7/2002 - 2 out of 10(Dir-John B...          0   \n",
              "5  admittedly, I first picked up Ranma 1/2 when I...          1   \n",
              "6  This may not be one of the best movies ever ma...          1   \n",
              "\n",
              "                                             cleaned  \n",
              "0  the people bash movie looking cool slick first...  \n",
              "1  realz son game iz mad tite yo i cant wait get ...  \n",
              "2  it terrible it like somebody gave kid faulty v...  \n",
              "3  no way overly simplistic script basically one ...  \n",
              "4  st watched dirjohn bianco pretty lame gangster...  \n",
              "5  admittedly i first picked ranma i around twelv...  \n",
              "6  this may one best movie ever made overall enjo...  "
            ],
            "text/html": [
              "\n",
              "  <div id=\"df-4e3e2900-ad41-4bfa-8f22-5b5eb163ea39\" class=\"colab-df-container\">\n",
              "    <div>\n",
              "<style scoped>\n",
              "    .dataframe tbody tr th:only-of-type {\n",
              "        vertical-align: middle;\n",
              "    }\n",
              "\n",
              "    .dataframe tbody tr th {\n",
              "        vertical-align: top;\n",
              "    }\n",
              "\n",
              "    .dataframe thead th {\n",
              "        text-align: right;\n",
              "    }\n",
              "</style>\n",
              "<table border=\"1\" class=\"dataframe\">\n",
              "  <thead>\n",
              "    <tr style=\"text-align: right;\">\n",
              "      <th></th>\n",
              "      <th>review</th>\n",
              "      <th>sentiment</th>\n",
              "      <th>cleaned</th>\n",
              "    </tr>\n",
              "  </thead>\n",
              "  <tbody>\n",
              "    <tr>\n",
              "      <th>0</th>\n",
              "      <td>The people who bash this movie were looking fo...</td>\n",
              "      <td>0</td>\n",
              "      <td>the people bash movie looking cool slick first...</td>\n",
              "    </tr>\n",
              "    <tr>\n",
              "      <th>1</th>\n",
              "      <td>4 realz son my game iz mad tite yo I cant wait...</td>\n",
              "      <td>0</td>\n",
              "      <td>realz son game iz mad tite yo i cant wait get ...</td>\n",
              "    </tr>\n",
              "    <tr>\n",
              "      <th>2</th>\n",
              "      <td>It is terrible! It is like somebody gave a kid...</td>\n",
              "      <td>0</td>\n",
              "      <td>it terrible it like somebody gave kid faulty v...</td>\n",
              "    </tr>\n",
              "    <tr>\n",
              "      <th>3</th>\n",
              "      <td>No way this overly simplistic script, with bas...</td>\n",
              "      <td>0</td>\n",
              "      <td>no way overly simplistic script basically one ...</td>\n",
              "    </tr>\n",
              "    <tr>\n",
              "      <th>4</th>\n",
              "      <td>1st watched 11/7/2002 - 2 out of 10(Dir-John B...</td>\n",
              "      <td>0</td>\n",
              "      <td>st watched dirjohn bianco pretty lame gangster...</td>\n",
              "    </tr>\n",
              "    <tr>\n",
              "      <th>5</th>\n",
              "      <td>admittedly, I first picked up Ranma 1/2 when I...</td>\n",
              "      <td>1</td>\n",
              "      <td>admittedly i first picked ranma i around twelv...</td>\n",
              "    </tr>\n",
              "    <tr>\n",
              "      <th>6</th>\n",
              "      <td>This may not be one of the best movies ever ma...</td>\n",
              "      <td>1</td>\n",
              "      <td>this may one best movie ever made overall enjo...</td>\n",
              "    </tr>\n",
              "  </tbody>\n",
              "</table>\n",
              "</div>\n",
              "    <div class=\"colab-df-buttons\">\n",
              "\n",
              "  <div class=\"colab-df-container\">\n",
              "    <button class=\"colab-df-convert\" onclick=\"convertToInteractive('df-4e3e2900-ad41-4bfa-8f22-5b5eb163ea39')\"\n",
              "            title=\"Convert this dataframe to an interactive table.\"\n",
              "            style=\"display:none;\">\n",
              "\n",
              "  <svg xmlns=\"http://www.w3.org/2000/svg\" height=\"24px\" viewBox=\"0 -960 960 960\">\n",
              "    <path d=\"M120-120v-720h720v720H120Zm60-500h600v-160H180v160Zm220 220h160v-160H400v160Zm0 220h160v-160H400v160ZM180-400h160v-160H180v160Zm440 0h160v-160H620v160ZM180-180h160v-160H180v160Zm440 0h160v-160H620v160Z\"/>\n",
              "  </svg>\n",
              "    </button>\n",
              "\n",
              "  <style>\n",
              "    .colab-df-container {\n",
              "      display:flex;\n",
              "      gap: 12px;\n",
              "    }\n",
              "\n",
              "    .colab-df-convert {\n",
              "      background-color: #E8F0FE;\n",
              "      border: none;\n",
              "      border-radius: 50%;\n",
              "      cursor: pointer;\n",
              "      display: none;\n",
              "      fill: #1967D2;\n",
              "      height: 32px;\n",
              "      padding: 0 0 0 0;\n",
              "      width: 32px;\n",
              "    }\n",
              "\n",
              "    .colab-df-convert:hover {\n",
              "      background-color: #E2EBFA;\n",
              "      box-shadow: 0px 1px 2px rgba(60, 64, 67, 0.3), 0px 1px 3px 1px rgba(60, 64, 67, 0.15);\n",
              "      fill: #174EA6;\n",
              "    }\n",
              "\n",
              "    .colab-df-buttons div {\n",
              "      margin-bottom: 4px;\n",
              "    }\n",
              "\n",
              "    [theme=dark] .colab-df-convert {\n",
              "      background-color: #3B4455;\n",
              "      fill: #D2E3FC;\n",
              "    }\n",
              "\n",
              "    [theme=dark] .colab-df-convert:hover {\n",
              "      background-color: #434B5C;\n",
              "      box-shadow: 0px 1px 3px 1px rgba(0, 0, 0, 0.15);\n",
              "      filter: drop-shadow(0px 1px 2px rgba(0, 0, 0, 0.3));\n",
              "      fill: #FFFFFF;\n",
              "    }\n",
              "  </style>\n",
              "\n",
              "    <script>\n",
              "      const buttonEl =\n",
              "        document.querySelector('#df-4e3e2900-ad41-4bfa-8f22-5b5eb163ea39 button.colab-df-convert');\n",
              "      buttonEl.style.display =\n",
              "        google.colab.kernel.accessAllowed ? 'block' : 'none';\n",
              "\n",
              "      async function convertToInteractive(key) {\n",
              "        const element = document.querySelector('#df-4e3e2900-ad41-4bfa-8f22-5b5eb163ea39');\n",
              "        const dataTable =\n",
              "          await google.colab.kernel.invokeFunction('convertToInteractive',\n",
              "                                                    [key], {});\n",
              "        if (!dataTable) return;\n",
              "\n",
              "        const docLinkHtml = 'Like what you see? Visit the ' +\n",
              "          '<a target=\"_blank\" href=https://colab.research.google.com/notebooks/data_table.ipynb>data table notebook</a>'\n",
              "          + ' to learn more about interactive tables.';\n",
              "        element.innerHTML = '';\n",
              "        dataTable['output_type'] = 'display_data';\n",
              "        await google.colab.output.renderOutput(dataTable, element);\n",
              "        const docLink = document.createElement('div');\n",
              "        docLink.innerHTML = docLinkHtml;\n",
              "        element.appendChild(docLink);\n",
              "      }\n",
              "    </script>\n",
              "  </div>\n",
              "\n",
              "\n",
              "<div id=\"df-dedca075-7b71-4f92-a5d9-9a619b2742d4\">\n",
              "  <button class=\"colab-df-quickchart\" onclick=\"quickchart('df-dedca075-7b71-4f92-a5d9-9a619b2742d4')\"\n",
              "            title=\"Suggest charts\"\n",
              "            style=\"display:none;\">\n",
              "\n",
              "<svg xmlns=\"http://www.w3.org/2000/svg\" height=\"24px\"viewBox=\"0 0 24 24\"\n",
              "     width=\"24px\">\n",
              "    <g>\n",
              "        <path d=\"M19 3H5c-1.1 0-2 .9-2 2v14c0 1.1.9 2 2 2h14c1.1 0 2-.9 2-2V5c0-1.1-.9-2-2-2zM9 17H7v-7h2v7zm4 0h-2V7h2v10zm4 0h-2v-4h2v4z\"/>\n",
              "    </g>\n",
              "</svg>\n",
              "  </button>\n",
              "\n",
              "<style>\n",
              "  .colab-df-quickchart {\n",
              "      --bg-color: #E8F0FE;\n",
              "      --fill-color: #1967D2;\n",
              "      --hover-bg-color: #E2EBFA;\n",
              "      --hover-fill-color: #174EA6;\n",
              "      --disabled-fill-color: #AAA;\n",
              "      --disabled-bg-color: #DDD;\n",
              "  }\n",
              "\n",
              "  [theme=dark] .colab-df-quickchart {\n",
              "      --bg-color: #3B4455;\n",
              "      --fill-color: #D2E3FC;\n",
              "      --hover-bg-color: #434B5C;\n",
              "      --hover-fill-color: #FFFFFF;\n",
              "      --disabled-bg-color: #3B4455;\n",
              "      --disabled-fill-color: #666;\n",
              "  }\n",
              "\n",
              "  .colab-df-quickchart {\n",
              "    background-color: var(--bg-color);\n",
              "    border: none;\n",
              "    border-radius: 50%;\n",
              "    cursor: pointer;\n",
              "    display: none;\n",
              "    fill: var(--fill-color);\n",
              "    height: 32px;\n",
              "    padding: 0;\n",
              "    width: 32px;\n",
              "  }\n",
              "\n",
              "  .colab-df-quickchart:hover {\n",
              "    background-color: var(--hover-bg-color);\n",
              "    box-shadow: 0 1px 2px rgba(60, 64, 67, 0.3), 0 1px 3px 1px rgba(60, 64, 67, 0.15);\n",
              "    fill: var(--button-hover-fill-color);\n",
              "  }\n",
              "\n",
              "  .colab-df-quickchart-complete:disabled,\n",
              "  .colab-df-quickchart-complete:disabled:hover {\n",
              "    background-color: var(--disabled-bg-color);\n",
              "    fill: var(--disabled-fill-color);\n",
              "    box-shadow: none;\n",
              "  }\n",
              "\n",
              "  .colab-df-spinner {\n",
              "    border: 2px solid var(--fill-color);\n",
              "    border-color: transparent;\n",
              "    border-bottom-color: var(--fill-color);\n",
              "    animation:\n",
              "      spin 1s steps(1) infinite;\n",
              "  }\n",
              "\n",
              "  @keyframes spin {\n",
              "    0% {\n",
              "      border-color: transparent;\n",
              "      border-bottom-color: var(--fill-color);\n",
              "      border-left-color: var(--fill-color);\n",
              "    }\n",
              "    20% {\n",
              "      border-color: transparent;\n",
              "      border-left-color: var(--fill-color);\n",
              "      border-top-color: var(--fill-color);\n",
              "    }\n",
              "    30% {\n",
              "      border-color: transparent;\n",
              "      border-left-color: var(--fill-color);\n",
              "      border-top-color: var(--fill-color);\n",
              "      border-right-color: var(--fill-color);\n",
              "    }\n",
              "    40% {\n",
              "      border-color: transparent;\n",
              "      border-right-color: var(--fill-color);\n",
              "      border-top-color: var(--fill-color);\n",
              "    }\n",
              "    60% {\n",
              "      border-color: transparent;\n",
              "      border-right-color: var(--fill-color);\n",
              "    }\n",
              "    80% {\n",
              "      border-color: transparent;\n",
              "      border-right-color: var(--fill-color);\n",
              "      border-bottom-color: var(--fill-color);\n",
              "    }\n",
              "    90% {\n",
              "      border-color: transparent;\n",
              "      border-bottom-color: var(--fill-color);\n",
              "    }\n",
              "  }\n",
              "</style>\n",
              "\n",
              "  <script>\n",
              "    async function quickchart(key) {\n",
              "      const quickchartButtonEl =\n",
              "        document.querySelector('#' + key + ' button');\n",
              "      quickchartButtonEl.disabled = true;  // To prevent multiple clicks.\n",
              "      quickchartButtonEl.classList.add('colab-df-spinner');\n",
              "      try {\n",
              "        const charts = await google.colab.kernel.invokeFunction(\n",
              "            'suggestCharts', [key], {});\n",
              "      } catch (error) {\n",
              "        console.error('Error during call to suggestCharts:', error);\n",
              "      }\n",
              "      quickchartButtonEl.classList.remove('colab-df-spinner');\n",
              "      quickchartButtonEl.classList.add('colab-df-quickchart-complete');\n",
              "    }\n",
              "    (() => {\n",
              "      let quickchartButtonEl =\n",
              "        document.querySelector('#df-dedca075-7b71-4f92-a5d9-9a619b2742d4 button');\n",
              "      quickchartButtonEl.style.display =\n",
              "        google.colab.kernel.accessAllowed ? 'block' : 'none';\n",
              "    })();\n",
              "  </script>\n",
              "</div>\n",
              "\n",
              "    </div>\n",
              "  </div>\n"
            ],
            "application/vnd.google.colaboratory.intrinsic+json": {
              "type": "dataframe",
              "variable_name": "sample_data",
              "summary": "{\n  \"name\": \"sample_data\",\n  \"rows\": 4000,\n  \"fields\": [\n    {\n      \"column\": \"review\",\n      \"properties\": {\n        \"dtype\": \"string\",\n        \"num_unique_values\": 3996,\n        \"samples\": [\n          \"I had the privilege to watch Mar Adentro last Friday, and I am still shocked by its beauty, the powerful work of every single actor and actress and Amenabar's unbelievable ability to narrate the story of Ram\\u00f3n Sampedro, who was well known in Spain for asking for a legal euthanasia, lost the court cause, and eventually died in front of a camera drinking a glass with poison, freezing all our hearts with his determination not to go on living forever immobilized because of an accident. <br /><br />Before watching the movie I was already mesmerized by the strong symbology in its title, which I would translate as \\\"Into the Sea\\\" and not as some suggest \\\"Out to sea\\\", and which is taken from an original poem written by the man this story is about. Then I watched the movie. Oh my friends. This is Cinema with a capital C. The narration flows to take you to the heart of every single character: Sampedro, reincarnated in a Bardem that you forget from the very beginning, is in the center as a man full of sense of humour and full of hope, and his hope is to die, because for him, the life he is living is not worthy to be lived. The rest of the characters but one dance around him and respect his decision because they see him as a human independent being (forgetting he depends on the others for everything), even though they do love him so much. And this is what the movie is about: love. You can feel it, you can breathe it in the skin of every character. You witness the growing of the feeling within three women who meet him in the movie: Gen\\u00e9, the member of the association that defend his right to die with dignity, his friend, her story in the movie is the hope for us the lucky ones that can live a normal life in this world; Rosa, the woman who meets a good man in the middle of her list of broken relationships and pain in the hands of all the men who used her and despised her; Julia, the woman who shares a tragic destiny with Ram\\u00f3n, and eventually acts in a way we cannot but only understand.<br /><br />However, before meeting these women Ram\\u00f3n knew what was love like, because you cannot meet him without loving him, and he is deeply loved by his abnegated family: Four characters unique in their humbleness and bravery, each with their own thoughts about his decision, each thought respectable in its own way, because the terrible thing about this story is that nobody is to blame for what happened. That, sadly, life sometimes is that terrible. From this familiar quartet I specially liked Mabel Rivera's work as Ram\\u00f3n's sister in law, Manuela: a terrific performance.<br /><br />I would like to draw attention to three episodes that are for me the best climax points I have seen in a long time, and if you haven't seen the movie don't read this, pass over this paragraph and read again from the next one starting \\\"Mar adentro\\\", let the movie show its secrets to you. The episodes I loved were: 3. The best love scene I have seen in a movie, when I really felt love invading the screen, is when Ram\\u00f3n dreams awake that he is flying to meet Julia in the beach and they kiss each other. 2. Gen\\u00e9 speaking by phone with Ram\\u00f3n, the day before he is going to do it, and he tells her it is better they say goodbye at that very moment, not to put her in trouble with the authorities. And then she knows it is the last time they are going to talk, and she has fought for his right to die... but she does not want to lose him, because she loves him as a true friend, and even though she is respecting his decision at all cost. 1. The best. A young Ram\\u00f3n in the beach, looking at his girlfriend under the sun, jumping to the water from the rocks to a sea that is retreating. We see the crash, we hear his voice recalling what happened and claiming he should have died that very moment. The face of Bardem, face downward, shown to us from the bottom. And the hand of a friend who pulls him from the forehead and brings him back to a life that will be a hell for him in the next 30 years. There are many others, like the impressive ending, in spite of the fact that in Spain we know too well what Ramon did.<br /><br />Mar adentro did not deceive me, Amenabar never does, but this time he has to thank the actors that took part in the project, and who maybe took it personally, because this is not just a movie, it is an elegy to a man who died alone when he was asking to die \\\"legally\\\", which meant for him, as Bardem pointed out, dying with the people he loved and who loved him around.\",\n          \"As previously stated in one of my great reviews, the Universal Pictures'Trilogy of FLASH GORDON should not be classified with the other serials. For,indeed the three of these have made a sort of celluloid-electronic mythology for a punchy, war phobic mid twentieth century world. They stand alone in many peoples' minds as THE example of just what a cliff hanger was.<br /><br />We can recall seeing Buster Crabbhe as a guest on NBC's late night talk show, TOMORROW, hosted by Tom Snyder. This was circa 1979-80. During the interview Mr. Crabbe was asked about his personal fitness habits. He credited weight training and swimming, coupled with some sound dietary habits-which included vitamin and protein supplementation.(And would you believe it, he smoked several cigarettes!)<br /><br />When questioned about his career, Mr. Snyder of course got to the subject of his portrayal (and strong identification with) the character of Flash. Buster stated that he had read and enjoyed the feature in its original medium, that is a comic strip the property of Hearst's King Features Syndicate. He stated that he had thought that it would not work once transferred to the screen! Luckily he was wrong.<br /><br />As for the 1st serial, it was a very good adaption of the original continuity from the Sunday Color Comics. The world is about to end because of impending collision with Planet Mongo.It's up to independent working Dr. Zarkov to rocket to the wild planet to change its course. He enlists the aid of Flash and Miss Dale Arden, newly acquainted parachuters from airliner, landing in Zarkov's property.<br /><br />The Serial has excitement through out and manages to make one feel that there is always some other peril lurking just outside the film frame. The costuming and decor is varied,from Romanesque to Oriental to Art Decco. It would be easy to surmise that this was due to frugality on the part of Universal,but once again this was being faithful to creator,cartoonist Alex Raymond's visual concepts.(just look at the old strips as reprinted in many collections) The rockets were used before in JUST IMAGINE! (Fox 1930), a science fiction musical comedy.The other scientific lab equipment was provided by Universal's prop dept.,being the top Hollywood company doing Horror and SciFi.<br /><br />The cast features Jean Rogers(Dale Arden) and Priscilla Lawson (Princess Aura)who get into a good girl vs. bad girl battle over Flash. Charles Middleton portrays Emperor Ming in a sort of overly melodramatic villain,but makes it work. Zarkov(Frank Shannon)is toned down from the sheer madness that he suffered in his appearance in newsprint. (by the way, ever wonder how Zar-KOV has a brogue?) Richard Alexander makes a fine, powerfully built Prince Barin, ever helpful and so noble.<br /><br />Comic actor Jack \\\"Tiny\\\" Lipson is the surprise of the cast, stealing scene after scene as a lecherous, Henry VIII like scoundrel turned ally, King Vultan,ruler of the Hawkmen. Among the others, most notable is Jim Pierce as Prince Thun of the Lion Men. Pierce,like Crabbe, had also portrayed Tarzan in a film-but he later married Tarzan Creator, Edgar Rice Bourroughs' daughter, Joan.<br /><br />FLASH GORDON and the two sequels, FLASH GORDON's TRIP TO MARS(1938) and FLASH GORDON CONQUERS THE UNIVERSE(1940), have been a staple juvenile fare for generations,first in the movie houses then in Television release. Like fine wine, they seen to get better with age.<br /><br />We're all so glad that Mr.Crabbe was wrong.\",\n          \"There is no story! The plot is hopeless! A filmed based on a car with a stuck accelerator, no brakes, and a stuck automatic transmission gear lever cannot be good! I would have stopped that car within one minute whether I was in it or in the police car constantly following it. I feel sorry for the actors that had to put up with such a poor script. The few scenes that some similarity to action was heavily over-dramatized, and as far from reality you can get. In addition, there were a lot of blunders, for instance the hood of the runaway car, which was popped doing 100mph. At first it just folded over the windshield, like it would in reality, but then, afterwards, it blew off. The car was later in the movie observed with the hood on....<br /><br />This film was nothing but annoying, stay away from it!\"\n        ],\n        \"semantic_type\": \"\",\n        \"description\": \"\"\n      }\n    },\n    {\n      \"column\": \"sentiment\",\n      \"properties\": {\n        \"dtype\": \"number\",\n        \"std\": 0,\n        \"min\": 0,\n        \"max\": 1,\n        \"num_unique_values\": 2,\n        \"samples\": [\n          1,\n          0\n        ],\n        \"semantic_type\": \"\",\n        \"description\": \"\"\n      }\n    },\n    {\n      \"column\": \"cleaned\",\n      \"properties\": {\n        \"dtype\": \"string\",\n        \"num_unique_values\": 3996,\n        \"samples\": [\n          \"i privilege watch mar adentro last friday i still shocked beauty powerful work every single actor actress amenabars unbelievable ability narrate story ramn sampedro well known spain asking legal euthanasia lost court cause eventually died front camera drinking glass poison freezing heart determination go living forever immobilized accident before watching movie i already mesmerized strong symbology title i would translate into sea suggest out sea taken original poem written man story then i watched movie oh friend this cinema capital c the narration flow take heart every single character sampedro reincarnated bardem forget beginning center man full sense humour full hope hope die life living worthy lived the rest character one dance around respect decision see human independent forgetting depends others everything even though love much and movie love you feel breathe skin every character you witness growing feeling within three woman meet movie gen member association defend right die dignity friend story movie hope u lucky one live normal life world rosa woman meet good man middle list broken relationship pain hand men used despised julia woman share tragic destiny ramn eventually act way understandhowever meeting woman ramn knew love like meet without loving deeply loved abnegated family four character unique humbleness bravery thought decision thought respectable way terrible thing story nobody blame happened that sadly life sometimes terrible from familiar quartet i specially liked mabel rivera work ramns sister law manuela terrific performancei would like draw attention three episode best climax point i seen long time havent seen movie dont read pas paragraph read next one starting mar adentro let movie show secret the episode i loved the best love scene i seen movie i really felt love invading screen ramn dream awake flying meet julia beach kiss gen speaking phone ramn day going tell better say goodbye moment put trouble authority and know last time going talk fought right die want lose love true friend even though respecting decision cost the best a young ramn beach looking girlfriend sun jumping water rock sea retreating we see crash hear voice recalling happened claiming died moment the face bardem face downward shown u bottom and hand friend pull forehead brings back life hell next year there many others like impressive ending spite fact spain know well ramon didmar adentro deceive amenabar never time thank actor took part project maybe took personally movie elegy man died alone asking die legally meant bardem pointed dying people loved loved around\",\n          \"a previously stated one great review universal picturestrilogy flash gordon classified serial forindeed three made sort celluloidelectronic mythology punchy war phobic mid twentieth century world they stand alone many people mind the example cliff hanger waswe recall seeing buster crabbhe guest nbcs late night talk show tomorrow hosted tom snyder this circa during interview mr crabbe asked personal fitness habit he credited weight training swimming coupled sound dietary habitswhich included vitamin protein supplementationand would believe smoked several cigaretteswhen questioned career mr snyder course got subject portrayal strong identification character flash buster stated read enjoyed feature original medium comic strip property hearst king feature syndicate he stated thought would work transferred screen luckily wrongas st serial good adaption original continuity sunday color comic the world end impending collision planet mongoits independent working dr zarkov rocket wild planet change course he enlists aid flash miss dale arden newly acquainted parachuter airliner landing zarkovs propertythe serial excitement manages make one feel always peril lurking outside film frame the costuming decor variedfrom romanesque oriental art decco it would easy surmise due frugality part universalbut faithful creatorcartoonist alex raymonds visual conceptsjust look old strip reprinted many collection the rocket used just imagine fox science fiction musical comedythe scientific lab equipment provided universal prop deptbeing top hollywood company horror scifithe cast feature jean rogersdale arden priscilla lawson princess aurawho get good girl v bad girl battle flash charles middleton portrays emperor ming sort overly melodramatic villainbut make work zarkovfrank shannonis toned sheer madness suffered appearance newsprint way ever wonder zarkov brogue richard alexander make fine powerfully built prince barin ever helpful noblecomic actor jack tiny lipson surprise cast stealing scene scene lecherous henry viii like scoundrel turned ally king vultanruler hawkmen among others notable jim pierce prince thun lion men piercelike crabbe also portrayed tarzan filmbut later married tarzan creator edgar rice bourroughs daughter joanflash gordon two sequel flash gordons trip to mar flash gordon conquers the universe staple juvenile fare generationsfirst movie house television release like fine wine seen get better agewere glad mrcrabbe wrong\"\n        ],\n        \"semantic_type\": \"\",\n        \"description\": \"\"\n      }\n    }\n  ]\n}"
            }
          },
          "metadata": {},
          "execution_count": 11
        }
      ]
    },
    {
      "cell_type": "code",
      "source": [
        "#  so this looks good as its not imbalanced dataset\n",
        "\n",
        "train_data,test_data=train_test_split(sample_data,random_state=42,test_size=0.3,shuffle=True)\n",
        "pd.DataFrame({\"train\":train_data['sentiment'].value_counts().to_dict(),\"Test\" :test_data['sentiment'].value_counts().to_dict()})"
      ],
      "metadata": {
        "colab": {
          "base_uri": "https://localhost:8080/",
          "height": 112
        },
        "id": "azVFk4dbnEty",
        "outputId": "7ebe41cd-c0bf-49b9-c5f6-ecdaa44f27b3"
      },
      "execution_count": 12,
      "outputs": [
        {
          "output_type": "execute_result",
          "data": {
            "text/plain": [
              "   train  Test\n",
              "1   1404   623\n",
              "0   1396   577"
            ],
            "text/html": [
              "\n",
              "  <div id=\"df-5593bc4c-78db-4d5a-a46a-a1d66d19a893\" class=\"colab-df-container\">\n",
              "    <div>\n",
              "<style scoped>\n",
              "    .dataframe tbody tr th:only-of-type {\n",
              "        vertical-align: middle;\n",
              "    }\n",
              "\n",
              "    .dataframe tbody tr th {\n",
              "        vertical-align: top;\n",
              "    }\n",
              "\n",
              "    .dataframe thead th {\n",
              "        text-align: right;\n",
              "    }\n",
              "</style>\n",
              "<table border=\"1\" class=\"dataframe\">\n",
              "  <thead>\n",
              "    <tr style=\"text-align: right;\">\n",
              "      <th></th>\n",
              "      <th>train</th>\n",
              "      <th>Test</th>\n",
              "    </tr>\n",
              "  </thead>\n",
              "  <tbody>\n",
              "    <tr>\n",
              "      <th>1</th>\n",
              "      <td>1404</td>\n",
              "      <td>623</td>\n",
              "    </tr>\n",
              "    <tr>\n",
              "      <th>0</th>\n",
              "      <td>1396</td>\n",
              "      <td>577</td>\n",
              "    </tr>\n",
              "  </tbody>\n",
              "</table>\n",
              "</div>\n",
              "    <div class=\"colab-df-buttons\">\n",
              "\n",
              "  <div class=\"colab-df-container\">\n",
              "    <button class=\"colab-df-convert\" onclick=\"convertToInteractive('df-5593bc4c-78db-4d5a-a46a-a1d66d19a893')\"\n",
              "            title=\"Convert this dataframe to an interactive table.\"\n",
              "            style=\"display:none;\">\n",
              "\n",
              "  <svg xmlns=\"http://www.w3.org/2000/svg\" height=\"24px\" viewBox=\"0 -960 960 960\">\n",
              "    <path d=\"M120-120v-720h720v720H120Zm60-500h600v-160H180v160Zm220 220h160v-160H400v160Zm0 220h160v-160H400v160ZM180-400h160v-160H180v160Zm440 0h160v-160H620v160ZM180-180h160v-160H180v160Zm440 0h160v-160H620v160Z\"/>\n",
              "  </svg>\n",
              "    </button>\n",
              "\n",
              "  <style>\n",
              "    .colab-df-container {\n",
              "      display:flex;\n",
              "      gap: 12px;\n",
              "    }\n",
              "\n",
              "    .colab-df-convert {\n",
              "      background-color: #E8F0FE;\n",
              "      border: none;\n",
              "      border-radius: 50%;\n",
              "      cursor: pointer;\n",
              "      display: none;\n",
              "      fill: #1967D2;\n",
              "      height: 32px;\n",
              "      padding: 0 0 0 0;\n",
              "      width: 32px;\n",
              "    }\n",
              "\n",
              "    .colab-df-convert:hover {\n",
              "      background-color: #E2EBFA;\n",
              "      box-shadow: 0px 1px 2px rgba(60, 64, 67, 0.3), 0px 1px 3px 1px rgba(60, 64, 67, 0.15);\n",
              "      fill: #174EA6;\n",
              "    }\n",
              "\n",
              "    .colab-df-buttons div {\n",
              "      margin-bottom: 4px;\n",
              "    }\n",
              "\n",
              "    [theme=dark] .colab-df-convert {\n",
              "      background-color: #3B4455;\n",
              "      fill: #D2E3FC;\n",
              "    }\n",
              "\n",
              "    [theme=dark] .colab-df-convert:hover {\n",
              "      background-color: #434B5C;\n",
              "      box-shadow: 0px 1px 3px 1px rgba(0, 0, 0, 0.15);\n",
              "      filter: drop-shadow(0px 1px 2px rgba(0, 0, 0, 0.3));\n",
              "      fill: #FFFFFF;\n",
              "    }\n",
              "  </style>\n",
              "\n",
              "    <script>\n",
              "      const buttonEl =\n",
              "        document.querySelector('#df-5593bc4c-78db-4d5a-a46a-a1d66d19a893 button.colab-df-convert');\n",
              "      buttonEl.style.display =\n",
              "        google.colab.kernel.accessAllowed ? 'block' : 'none';\n",
              "\n",
              "      async function convertToInteractive(key) {\n",
              "        const element = document.querySelector('#df-5593bc4c-78db-4d5a-a46a-a1d66d19a893');\n",
              "        const dataTable =\n",
              "          await google.colab.kernel.invokeFunction('convertToInteractive',\n",
              "                                                    [key], {});\n",
              "        if (!dataTable) return;\n",
              "\n",
              "        const docLinkHtml = 'Like what you see? Visit the ' +\n",
              "          '<a target=\"_blank\" href=https://colab.research.google.com/notebooks/data_table.ipynb>data table notebook</a>'\n",
              "          + ' to learn more about interactive tables.';\n",
              "        element.innerHTML = '';\n",
              "        dataTable['output_type'] = 'display_data';\n",
              "        await google.colab.output.renderOutput(dataTable, element);\n",
              "        const docLink = document.createElement('div');\n",
              "        docLink.innerHTML = docLinkHtml;\n",
              "        element.appendChild(docLink);\n",
              "      }\n",
              "    </script>\n",
              "  </div>\n",
              "\n",
              "\n",
              "<div id=\"df-5a4fec17-336e-4cbb-901d-524f82811b3b\">\n",
              "  <button class=\"colab-df-quickchart\" onclick=\"quickchart('df-5a4fec17-336e-4cbb-901d-524f82811b3b')\"\n",
              "            title=\"Suggest charts\"\n",
              "            style=\"display:none;\">\n",
              "\n",
              "<svg xmlns=\"http://www.w3.org/2000/svg\" height=\"24px\"viewBox=\"0 0 24 24\"\n",
              "     width=\"24px\">\n",
              "    <g>\n",
              "        <path d=\"M19 3H5c-1.1 0-2 .9-2 2v14c0 1.1.9 2 2 2h14c1.1 0 2-.9 2-2V5c0-1.1-.9-2-2-2zM9 17H7v-7h2v7zm4 0h-2V7h2v10zm4 0h-2v-4h2v4z\"/>\n",
              "    </g>\n",
              "</svg>\n",
              "  </button>\n",
              "\n",
              "<style>\n",
              "  .colab-df-quickchart {\n",
              "      --bg-color: #E8F0FE;\n",
              "      --fill-color: #1967D2;\n",
              "      --hover-bg-color: #E2EBFA;\n",
              "      --hover-fill-color: #174EA6;\n",
              "      --disabled-fill-color: #AAA;\n",
              "      --disabled-bg-color: #DDD;\n",
              "  }\n",
              "\n",
              "  [theme=dark] .colab-df-quickchart {\n",
              "      --bg-color: #3B4455;\n",
              "      --fill-color: #D2E3FC;\n",
              "      --hover-bg-color: #434B5C;\n",
              "      --hover-fill-color: #FFFFFF;\n",
              "      --disabled-bg-color: #3B4455;\n",
              "      --disabled-fill-color: #666;\n",
              "  }\n",
              "\n",
              "  .colab-df-quickchart {\n",
              "    background-color: var(--bg-color);\n",
              "    border: none;\n",
              "    border-radius: 50%;\n",
              "    cursor: pointer;\n",
              "    display: none;\n",
              "    fill: var(--fill-color);\n",
              "    height: 32px;\n",
              "    padding: 0;\n",
              "    width: 32px;\n",
              "  }\n",
              "\n",
              "  .colab-df-quickchart:hover {\n",
              "    background-color: var(--hover-bg-color);\n",
              "    box-shadow: 0 1px 2px rgba(60, 64, 67, 0.3), 0 1px 3px 1px rgba(60, 64, 67, 0.15);\n",
              "    fill: var(--button-hover-fill-color);\n",
              "  }\n",
              "\n",
              "  .colab-df-quickchart-complete:disabled,\n",
              "  .colab-df-quickchart-complete:disabled:hover {\n",
              "    background-color: var(--disabled-bg-color);\n",
              "    fill: var(--disabled-fill-color);\n",
              "    box-shadow: none;\n",
              "  }\n",
              "\n",
              "  .colab-df-spinner {\n",
              "    border: 2px solid var(--fill-color);\n",
              "    border-color: transparent;\n",
              "    border-bottom-color: var(--fill-color);\n",
              "    animation:\n",
              "      spin 1s steps(1) infinite;\n",
              "  }\n",
              "\n",
              "  @keyframes spin {\n",
              "    0% {\n",
              "      border-color: transparent;\n",
              "      border-bottom-color: var(--fill-color);\n",
              "      border-left-color: var(--fill-color);\n",
              "    }\n",
              "    20% {\n",
              "      border-color: transparent;\n",
              "      border-left-color: var(--fill-color);\n",
              "      border-top-color: var(--fill-color);\n",
              "    }\n",
              "    30% {\n",
              "      border-color: transparent;\n",
              "      border-left-color: var(--fill-color);\n",
              "      border-top-color: var(--fill-color);\n",
              "      border-right-color: var(--fill-color);\n",
              "    }\n",
              "    40% {\n",
              "      border-color: transparent;\n",
              "      border-right-color: var(--fill-color);\n",
              "      border-top-color: var(--fill-color);\n",
              "    }\n",
              "    60% {\n",
              "      border-color: transparent;\n",
              "      border-right-color: var(--fill-color);\n",
              "    }\n",
              "    80% {\n",
              "      border-color: transparent;\n",
              "      border-right-color: var(--fill-color);\n",
              "      border-bottom-color: var(--fill-color);\n",
              "    }\n",
              "    90% {\n",
              "      border-color: transparent;\n",
              "      border-bottom-color: var(--fill-color);\n",
              "    }\n",
              "  }\n",
              "</style>\n",
              "\n",
              "  <script>\n",
              "    async function quickchart(key) {\n",
              "      const quickchartButtonEl =\n",
              "        document.querySelector('#' + key + ' button');\n",
              "      quickchartButtonEl.disabled = true;  // To prevent multiple clicks.\n",
              "      quickchartButtonEl.classList.add('colab-df-spinner');\n",
              "      try {\n",
              "        const charts = await google.colab.kernel.invokeFunction(\n",
              "            'suggestCharts', [key], {});\n",
              "      } catch (error) {\n",
              "        console.error('Error during call to suggestCharts:', error);\n",
              "      }\n",
              "      quickchartButtonEl.classList.remove('colab-df-spinner');\n",
              "      quickchartButtonEl.classList.add('colab-df-quickchart-complete');\n",
              "    }\n",
              "    (() => {\n",
              "      let quickchartButtonEl =\n",
              "        document.querySelector('#df-5a4fec17-336e-4cbb-901d-524f82811b3b button');\n",
              "      quickchartButtonEl.style.display =\n",
              "        google.colab.kernel.accessAllowed ? 'block' : 'none';\n",
              "    })();\n",
              "  </script>\n",
              "</div>\n",
              "\n",
              "    </div>\n",
              "  </div>\n"
            ],
            "application/vnd.google.colaboratory.intrinsic+json": {
              "type": "dataframe",
              "summary": "{\n  \"name\": \"pd\",\n  \"rows\": 2,\n  \"fields\": [\n    {\n      \"column\": \"train\",\n      \"properties\": {\n        \"dtype\": \"number\",\n        \"std\": 5,\n        \"min\": 1396,\n        \"max\": 1404,\n        \"num_unique_values\": 2,\n        \"samples\": [\n          1396,\n          1404\n        ],\n        \"semantic_type\": \"\",\n        \"description\": \"\"\n      }\n    },\n    {\n      \"column\": \"Test\",\n      \"properties\": {\n        \"dtype\": \"number\",\n        \"std\": 32,\n        \"min\": 577,\n        \"max\": 623,\n        \"num_unique_values\": 2,\n        \"samples\": [\n          577,\n          623\n        ],\n        \"semantic_type\": \"\",\n        \"description\": \"\"\n      }\n    }\n  ]\n}"
            }
          },
          "metadata": {},
          "execution_count": 12
        }
      ]
    },
    {
      "cell_type": "code",
      "source": [
        "train_data.head(5)"
      ],
      "metadata": {
        "colab": {
          "base_uri": "https://localhost:8080/",
          "height": 206
        },
        "id": "GYq9CJVzXlaH",
        "outputId": "ac91e265-4a7f-49b0-e069-74cfba4e28d2"
      },
      "execution_count": 13,
      "outputs": [
        {
          "output_type": "execute_result",
          "data": {
            "text/plain": [
              "                                                 review  sentiment  \\\n",
              "3215  The Hollow is a wonderful murder mystery that ...          1   \n",
              "3126  This is just a bad movie. With what seemed to ...          0   \n",
              "697   Having only seen two of his pictures previousl...          1   \n",
              "3613  No wonder Pamela Springsteen gave up acting to...          0   \n",
              "2374  These days Spielberg's \"The Color Purple\" is m...          1   \n",
              "\n",
              "                                                cleaned  \n",
              "3215  the hollow wonderful murder mystery provides e...  \n",
              "3126  this bad movie with seemed quite nice budget p...  \n",
              "697   having seen two picture previously ive come te...  \n",
              "3613  no wonder pamela springsteen gave acting becom...  \n",
              "2374  these day spielberg the color purple mostly re...  "
            ],
            "text/html": [
              "\n",
              "  <div id=\"df-f7a87561-f5f9-4c7f-9205-2615d5ece190\" class=\"colab-df-container\">\n",
              "    <div>\n",
              "<style scoped>\n",
              "    .dataframe tbody tr th:only-of-type {\n",
              "        vertical-align: middle;\n",
              "    }\n",
              "\n",
              "    .dataframe tbody tr th {\n",
              "        vertical-align: top;\n",
              "    }\n",
              "\n",
              "    .dataframe thead th {\n",
              "        text-align: right;\n",
              "    }\n",
              "</style>\n",
              "<table border=\"1\" class=\"dataframe\">\n",
              "  <thead>\n",
              "    <tr style=\"text-align: right;\">\n",
              "      <th></th>\n",
              "      <th>review</th>\n",
              "      <th>sentiment</th>\n",
              "      <th>cleaned</th>\n",
              "    </tr>\n",
              "  </thead>\n",
              "  <tbody>\n",
              "    <tr>\n",
              "      <th>3215</th>\n",
              "      <td>The Hollow is a wonderful murder mystery that ...</td>\n",
              "      <td>1</td>\n",
              "      <td>the hollow wonderful murder mystery provides e...</td>\n",
              "    </tr>\n",
              "    <tr>\n",
              "      <th>3126</th>\n",
              "      <td>This is just a bad movie. With what seemed to ...</td>\n",
              "      <td>0</td>\n",
              "      <td>this bad movie with seemed quite nice budget p...</td>\n",
              "    </tr>\n",
              "    <tr>\n",
              "      <th>697</th>\n",
              "      <td>Having only seen two of his pictures previousl...</td>\n",
              "      <td>1</td>\n",
              "      <td>having seen two picture previously ive come te...</td>\n",
              "    </tr>\n",
              "    <tr>\n",
              "      <th>3613</th>\n",
              "      <td>No wonder Pamela Springsteen gave up acting to...</td>\n",
              "      <td>0</td>\n",
              "      <td>no wonder pamela springsteen gave acting becom...</td>\n",
              "    </tr>\n",
              "    <tr>\n",
              "      <th>2374</th>\n",
              "      <td>These days Spielberg's \"The Color Purple\" is m...</td>\n",
              "      <td>1</td>\n",
              "      <td>these day spielberg the color purple mostly re...</td>\n",
              "    </tr>\n",
              "  </tbody>\n",
              "</table>\n",
              "</div>\n",
              "    <div class=\"colab-df-buttons\">\n",
              "\n",
              "  <div class=\"colab-df-container\">\n",
              "    <button class=\"colab-df-convert\" onclick=\"convertToInteractive('df-f7a87561-f5f9-4c7f-9205-2615d5ece190')\"\n",
              "            title=\"Convert this dataframe to an interactive table.\"\n",
              "            style=\"display:none;\">\n",
              "\n",
              "  <svg xmlns=\"http://www.w3.org/2000/svg\" height=\"24px\" viewBox=\"0 -960 960 960\">\n",
              "    <path d=\"M120-120v-720h720v720H120Zm60-500h600v-160H180v160Zm220 220h160v-160H400v160Zm0 220h160v-160H400v160ZM180-400h160v-160H180v160Zm440 0h160v-160H620v160ZM180-180h160v-160H180v160Zm440 0h160v-160H620v160Z\"/>\n",
              "  </svg>\n",
              "    </button>\n",
              "\n",
              "  <style>\n",
              "    .colab-df-container {\n",
              "      display:flex;\n",
              "      gap: 12px;\n",
              "    }\n",
              "\n",
              "    .colab-df-convert {\n",
              "      background-color: #E8F0FE;\n",
              "      border: none;\n",
              "      border-radius: 50%;\n",
              "      cursor: pointer;\n",
              "      display: none;\n",
              "      fill: #1967D2;\n",
              "      height: 32px;\n",
              "      padding: 0 0 0 0;\n",
              "      width: 32px;\n",
              "    }\n",
              "\n",
              "    .colab-df-convert:hover {\n",
              "      background-color: #E2EBFA;\n",
              "      box-shadow: 0px 1px 2px rgba(60, 64, 67, 0.3), 0px 1px 3px 1px rgba(60, 64, 67, 0.15);\n",
              "      fill: #174EA6;\n",
              "    }\n",
              "\n",
              "    .colab-df-buttons div {\n",
              "      margin-bottom: 4px;\n",
              "    }\n",
              "\n",
              "    [theme=dark] .colab-df-convert {\n",
              "      background-color: #3B4455;\n",
              "      fill: #D2E3FC;\n",
              "    }\n",
              "\n",
              "    [theme=dark] .colab-df-convert:hover {\n",
              "      background-color: #434B5C;\n",
              "      box-shadow: 0px 1px 3px 1px rgba(0, 0, 0, 0.15);\n",
              "      filter: drop-shadow(0px 1px 2px rgba(0, 0, 0, 0.3));\n",
              "      fill: #FFFFFF;\n",
              "    }\n",
              "  </style>\n",
              "\n",
              "    <script>\n",
              "      const buttonEl =\n",
              "        document.querySelector('#df-f7a87561-f5f9-4c7f-9205-2615d5ece190 button.colab-df-convert');\n",
              "      buttonEl.style.display =\n",
              "        google.colab.kernel.accessAllowed ? 'block' : 'none';\n",
              "\n",
              "      async function convertToInteractive(key) {\n",
              "        const element = document.querySelector('#df-f7a87561-f5f9-4c7f-9205-2615d5ece190');\n",
              "        const dataTable =\n",
              "          await google.colab.kernel.invokeFunction('convertToInteractive',\n",
              "                                                    [key], {});\n",
              "        if (!dataTable) return;\n",
              "\n",
              "        const docLinkHtml = 'Like what you see? Visit the ' +\n",
              "          '<a target=\"_blank\" href=https://colab.research.google.com/notebooks/data_table.ipynb>data table notebook</a>'\n",
              "          + ' to learn more about interactive tables.';\n",
              "        element.innerHTML = '';\n",
              "        dataTable['output_type'] = 'display_data';\n",
              "        await google.colab.output.renderOutput(dataTable, element);\n",
              "        const docLink = document.createElement('div');\n",
              "        docLink.innerHTML = docLinkHtml;\n",
              "        element.appendChild(docLink);\n",
              "      }\n",
              "    </script>\n",
              "  </div>\n",
              "\n",
              "\n",
              "<div id=\"df-5bb8e9b4-bbb9-4fc2-b618-445e8f4dc2e4\">\n",
              "  <button class=\"colab-df-quickchart\" onclick=\"quickchart('df-5bb8e9b4-bbb9-4fc2-b618-445e8f4dc2e4')\"\n",
              "            title=\"Suggest charts\"\n",
              "            style=\"display:none;\">\n",
              "\n",
              "<svg xmlns=\"http://www.w3.org/2000/svg\" height=\"24px\"viewBox=\"0 0 24 24\"\n",
              "     width=\"24px\">\n",
              "    <g>\n",
              "        <path d=\"M19 3H5c-1.1 0-2 .9-2 2v14c0 1.1.9 2 2 2h14c1.1 0 2-.9 2-2V5c0-1.1-.9-2-2-2zM9 17H7v-7h2v7zm4 0h-2V7h2v10zm4 0h-2v-4h2v4z\"/>\n",
              "    </g>\n",
              "</svg>\n",
              "  </button>\n",
              "\n",
              "<style>\n",
              "  .colab-df-quickchart {\n",
              "      --bg-color: #E8F0FE;\n",
              "      --fill-color: #1967D2;\n",
              "      --hover-bg-color: #E2EBFA;\n",
              "      --hover-fill-color: #174EA6;\n",
              "      --disabled-fill-color: #AAA;\n",
              "      --disabled-bg-color: #DDD;\n",
              "  }\n",
              "\n",
              "  [theme=dark] .colab-df-quickchart {\n",
              "      --bg-color: #3B4455;\n",
              "      --fill-color: #D2E3FC;\n",
              "      --hover-bg-color: #434B5C;\n",
              "      --hover-fill-color: #FFFFFF;\n",
              "      --disabled-bg-color: #3B4455;\n",
              "      --disabled-fill-color: #666;\n",
              "  }\n",
              "\n",
              "  .colab-df-quickchart {\n",
              "    background-color: var(--bg-color);\n",
              "    border: none;\n",
              "    border-radius: 50%;\n",
              "    cursor: pointer;\n",
              "    display: none;\n",
              "    fill: var(--fill-color);\n",
              "    height: 32px;\n",
              "    padding: 0;\n",
              "    width: 32px;\n",
              "  }\n",
              "\n",
              "  .colab-df-quickchart:hover {\n",
              "    background-color: var(--hover-bg-color);\n",
              "    box-shadow: 0 1px 2px rgba(60, 64, 67, 0.3), 0 1px 3px 1px rgba(60, 64, 67, 0.15);\n",
              "    fill: var(--button-hover-fill-color);\n",
              "  }\n",
              "\n",
              "  .colab-df-quickchart-complete:disabled,\n",
              "  .colab-df-quickchart-complete:disabled:hover {\n",
              "    background-color: var(--disabled-bg-color);\n",
              "    fill: var(--disabled-fill-color);\n",
              "    box-shadow: none;\n",
              "  }\n",
              "\n",
              "  .colab-df-spinner {\n",
              "    border: 2px solid var(--fill-color);\n",
              "    border-color: transparent;\n",
              "    border-bottom-color: var(--fill-color);\n",
              "    animation:\n",
              "      spin 1s steps(1) infinite;\n",
              "  }\n",
              "\n",
              "  @keyframes spin {\n",
              "    0% {\n",
              "      border-color: transparent;\n",
              "      border-bottom-color: var(--fill-color);\n",
              "      border-left-color: var(--fill-color);\n",
              "    }\n",
              "    20% {\n",
              "      border-color: transparent;\n",
              "      border-left-color: var(--fill-color);\n",
              "      border-top-color: var(--fill-color);\n",
              "    }\n",
              "    30% {\n",
              "      border-color: transparent;\n",
              "      border-left-color: var(--fill-color);\n",
              "      border-top-color: var(--fill-color);\n",
              "      border-right-color: var(--fill-color);\n",
              "    }\n",
              "    40% {\n",
              "      border-color: transparent;\n",
              "      border-right-color: var(--fill-color);\n",
              "      border-top-color: var(--fill-color);\n",
              "    }\n",
              "    60% {\n",
              "      border-color: transparent;\n",
              "      border-right-color: var(--fill-color);\n",
              "    }\n",
              "    80% {\n",
              "      border-color: transparent;\n",
              "      border-right-color: var(--fill-color);\n",
              "      border-bottom-color: var(--fill-color);\n",
              "    }\n",
              "    90% {\n",
              "      border-color: transparent;\n",
              "      border-bottom-color: var(--fill-color);\n",
              "    }\n",
              "  }\n",
              "</style>\n",
              "\n",
              "  <script>\n",
              "    async function quickchart(key) {\n",
              "      const quickchartButtonEl =\n",
              "        document.querySelector('#' + key + ' button');\n",
              "      quickchartButtonEl.disabled = true;  // To prevent multiple clicks.\n",
              "      quickchartButtonEl.classList.add('colab-df-spinner');\n",
              "      try {\n",
              "        const charts = await google.colab.kernel.invokeFunction(\n",
              "            'suggestCharts', [key], {});\n",
              "      } catch (error) {\n",
              "        console.error('Error during call to suggestCharts:', error);\n",
              "      }\n",
              "      quickchartButtonEl.classList.remove('colab-df-spinner');\n",
              "      quickchartButtonEl.classList.add('colab-df-quickchart-complete');\n",
              "    }\n",
              "    (() => {\n",
              "      let quickchartButtonEl =\n",
              "        document.querySelector('#df-5bb8e9b4-bbb9-4fc2-b618-445e8f4dc2e4 button');\n",
              "      quickchartButtonEl.style.display =\n",
              "        google.colab.kernel.accessAllowed ? 'block' : 'none';\n",
              "    })();\n",
              "  </script>\n",
              "</div>\n",
              "\n",
              "    </div>\n",
              "  </div>\n"
            ],
            "application/vnd.google.colaboratory.intrinsic+json": {
              "type": "dataframe",
              "variable_name": "train_data",
              "summary": "{\n  \"name\": \"train_data\",\n  \"rows\": 2800,\n  \"fields\": [\n    {\n      \"column\": \"review\",\n      \"properties\": {\n        \"dtype\": \"string\",\n        \"num_unique_values\": 2799,\n        \"samples\": [\n          \"So lets say you are a producer, you have some money, and you somehow got Richard gear and Bruce Willis, so now all you need is a script...but , why bother? see, this movie is really terrible, the acting is pretty good, but the casting is awful gear and Willis did their best to play these characters they simply cant play. now, this movie has no plot, or rather, there's something that tries to pass off as a plot: there's a mean hit-man (Willis) who is cool dangerous and sophisticated (actually he's none of those things, but from some dialog between the other characters, you are supposed to get this impression), so this hit-man is on a mission to kill someone, now there's an ex-IRA prisoner who is kind and nice and very likable (gear) who the FBI release from prison so he will help them. so now the FBI is \\\"investigating\\\" to find this hit-man, the investigation consists of a series of unlikely information - like some random person lost his wallet and someone used his name to buy a car - which is always right on the money. since there's no real plot and the script is so crappy, you cant expect any real character development, or tension, so instead of creating them through the story, they simply add some disconnected dramatic music, which signals you that something very dramatic is going on , instead of actually creating something dramatic..<br /><br />the bottom line is that this is a very bad movie, and a complete waste of time which somehow got an incredibly high score for its level, probably because of the cast - and this is exactly what the producers where counting on.\",\n          \"I was very excited about seeing this film, anticipating a visual excursus on the relation of artistic beauty and nature, containing the kinds of wisdom the likes of \\\"Rivers and Tides.\\\" However, that's not what I received. Instead, I get a fairly uninspired film about how human industry is bad for nature. Which is clearly a quite unorthodox claim.<br /><br />The photographer seems conflicted about the aesthetic qualities of his images and the supposed \\\"ethical\\\" duty he has to the workers occasionally peopling the images, along the periphery. And frankly, the images were not generally that impressive. And according to this \\\"artist,\\\" scale is the basis for what makes something beautiful.<br /><br />In all respects, a stupid film. For people who'd like to feel better about their environmental consciousness ... but not for any one who would like to think about the complexities of the issues surrounding it.\",\n          \"This movie was seriously awful. The acting was the worst! It was worse than a student film. Super cheesy, and I think the worst actor was the old lady. At first I thought to myself, well it's an old movie. Then I remembered that that is no excuse! I've seen older movies with way better acting and such.<br /><br />The music was terrible to. It was really choppy. The editing was poor (most of the dialog was out of sync.)<br /><br />Overall, this movie doesn't even deserve a 1. I only watched it because I was so bored, and the movie hardly entertained me. It was just laughable. My dead grandmother's left pinkie toe could make a better movie than this.\"\n        ],\n        \"semantic_type\": \"\",\n        \"description\": \"\"\n      }\n    },\n    {\n      \"column\": \"sentiment\",\n      \"properties\": {\n        \"dtype\": \"number\",\n        \"std\": 0,\n        \"min\": 0,\n        \"max\": 1,\n        \"num_unique_values\": 2,\n        \"samples\": [\n          0,\n          1\n        ],\n        \"semantic_type\": \"\",\n        \"description\": \"\"\n      }\n    },\n    {\n      \"column\": \"cleaned\",\n      \"properties\": {\n        \"dtype\": \"string\",\n        \"num_unique_values\": 2799,\n        \"samples\": [\n          \"so let say producer money somehow got richard gear bruce willis need scriptbut bother see movie really terrible acting pretty good casting awful gear willis best play character simply cant play movie plot rather there something try pas plot there mean hitman willis cool dangerous sophisticated actually he none thing dialog character supposed get impression hitman mission kill someone there exira prisoner kind nice likable gear fbi release prison help fbi investigating find hitman investigation consists series unlikely information like random person lost wallet someone used name buy car always right money since there real plot script crappy cant expect real character development tension instead creating story simply add disconnected dramatic music signal something dramatic going instead actually creating something dramaticthe bottom line bad movie complete waste time somehow got incredibly high score level probably cast exactly producer counting\",\n          \"i excited seeing film anticipating visual excursus relation artistic beauty nature containing kind wisdom like river tide however thats i received instead i get fairly uninspired film human industry bad nature which clearly quite unorthodox claimthe photographer seems conflicted aesthetic quality image supposed ethical duty worker occasionally peopling image along periphery and frankly image generally impressive and according artist scale basis make something beautifulin respect stupid film for people whod like feel better environmental consciousness one would like think complexity issue surrounding\"\n        ],\n        \"semantic_type\": \"\",\n        \"description\": \"\"\n      }\n    }\n  ]\n}"
            }
          },
          "metadata": {},
          "execution_count": 13
        }
      ]
    },
    {
      "cell_type": "code",
      "source": [
        "tokenizer=get_tokenizer(\"basic_english\")"
      ],
      "metadata": {
        "id": "cGxSioFdq8vt"
      },
      "execution_count": 14,
      "outputs": []
    },
    {
      "cell_type": "code",
      "source": [
        "#  lets create custom iterator from Dataset clas of pytorch\n",
        "\n",
        "class CustomDataset(Dataset):\n",
        "    def __init__(self,labels,texts):\n",
        "        super().__init__()\n",
        "        self.labels=labels\n",
        "        self.texts=texts\n",
        "\n",
        "    def __len__(self):\n",
        "        return len(self.texts)\n",
        "\n",
        "    def __getitem__(self,idx):\n",
        "        texts=self.texts[idx]\n",
        "        labels=self.labels[idx]\n",
        "\n",
        "        return labels,texts\n"
      ],
      "metadata": {
        "id": "WVGSi6y8rYae"
      },
      "execution_count": 15,
      "outputs": []
    },
    {
      "cell_type": "code",
      "source": [],
      "metadata": {
        "id": "pKbRTTC8sukh"
      },
      "execution_count": 15,
      "outputs": []
    },
    {
      "cell_type": "code",
      "source": [],
      "metadata": {
        "id": "EamnEgDhsIXH"
      },
      "execution_count": 15,
      "outputs": []
    },
    {
      "cell_type": "code",
      "source": [
        "def get_tokens(texts):\n",
        "    for text in texts:\n",
        "        yield tokenizer(text)"
      ],
      "metadata": {
        "id": "5fqzp-EkuaS5"
      },
      "execution_count": 16,
      "outputs": []
    },
    {
      "cell_type": "code",
      "source": [
        "# lets build vocab, vocab should be built from iterator also on only train data, as if we passed normal list then vocab from  iterator will not work\n",
        "\n",
        "vocab=build_vocab_from_iterator(get_tokens(train_data['cleaned'].tolist()),specials=['<unk>'])\n",
        "\n",
        "vocab.set_default_index(0)"
      ],
      "metadata": {
        "id": "7GYZXPBJmG5r"
      },
      "execution_count": 17,
      "outputs": []
    },
    {
      "cell_type": "code",
      "source": [
        "len(vocab)"
      ],
      "metadata": {
        "colab": {
          "base_uri": "https://localhost:8080/"
        },
        "id": "LEZkWHxKmKHM",
        "outputId": "6987daee-4005-473f-800a-6fca5a531afe"
      },
      "execution_count": 18,
      "outputs": [
        {
          "output_type": "execute_result",
          "data": {
            "text/plain": [
              "35081"
            ]
          },
          "metadata": {},
          "execution_count": 18
        }
      ]
    },
    {
      "cell_type": "code",
      "source": [
        "text_pipeline=lambda x: vocab(tokenizer(x))\n",
        "\n",
        "label_pipeline=lambda x: int(x)"
      ],
      "metadata": {
        "id": "1xsNz7_urPjk"
      },
      "execution_count": 19,
      "outputs": []
    },
    {
      "cell_type": "code",
      "source": [
        "text_pipeline('hello how are you gefuheu tgrathrhtytytyjtyjtyjtjte') , label_pipeline('434')"
      ],
      "metadata": {
        "colab": {
          "base_uri": "https://localhost:8080/"
        },
        "id": "A5qmoQZatQxX",
        "outputId": "c0d26d11-060b-4c7b-9663-35f3c64ec965"
      },
      "execution_count": 20,
      "outputs": [
        {
          "output_type": "execute_result",
          "data": {
            "text/plain": [
              "([5555, 354, 1931, 180, 0, 0], 434)"
            ]
          },
          "metadata": {},
          "execution_count": 20
        }
      ]
    },
    {
      "cell_type": "markdown",
      "source": [
        "So the text pipeline and label pipeline is working great so next step is to convert data into vectorization\n",
        "\n",
        "1. its good to apply vectorization after splitting the data to avoid the data leakage and test data will not influence bad on the training processs ."
      ],
      "metadata": {
        "id": "uZPGYavfV14s"
      }
    },
    {
      "cell_type": "code",
      "source": [
        "from sklearn.feature_extraction.text import CountVectorizer\n",
        "import numpy as np"
      ],
      "metadata": {
        "id": "YQEdLQOZtdes"
      },
      "execution_count": 21,
      "outputs": []
    },
    {
      "cell_type": "code",
      "source": [
        "count=CountVectorizer()\n",
        "\n",
        "train_count=count.fit_transform(train_data['cleaned'].tolist()).toarray()\n",
        "\n",
        "test_count=count.transform(test_data['cleaned'].tolist()).toarray()"
      ],
      "metadata": {
        "id": "Q6AraaEPWv0s"
      },
      "execution_count": 22,
      "outputs": []
    },
    {
      "cell_type": "code",
      "source": [
        "train_labels=train_data['sentiment'].tolist()\n",
        "test_labels=test_data['sentiment'].tolist()"
      ],
      "metadata": {
        "id": "n-FhLRKZYFdY"
      },
      "execution_count": 23,
      "outputs": []
    },
    {
      "cell_type": "code",
      "source": [],
      "metadata": {
        "id": "-T1Z6dwZXHCH"
      },
      "execution_count": 23,
      "outputs": []
    },
    {
      "cell_type": "code",
      "source": [
        "train_data['cleaned']"
      ],
      "metadata": {
        "colab": {
          "base_uri": "https://localhost:8080/",
          "height": 458
        },
        "id": "gnxmZIPGXQ-Q",
        "outputId": "8675f2d8-4c94-41fc-b6d8-f2555a798de7"
      },
      "execution_count": 24,
      "outputs": [
        {
          "output_type": "execute_result",
          "data": {
            "text/plain": [
              "3215    the hollow wonderful murder mystery provides e...\n",
              "3126    this bad movie with seemed quite nice budget p...\n",
              "697     having seen two picture previously ive come te...\n",
              "3613    no wonder pamela springsteen gave acting becom...\n",
              "2374    these day spielberg the color purple mostly re...\n",
              "                              ...                        \n",
              "1130    not best plot world comedy movie rule kelsey g...\n",
              "1294    extreme makeover home edition yet another feel...\n",
              "860     ive already seen spinoffs cartoon the flintsto...\n",
              "3507    my wife and kid opinion absolute abc classic i...\n",
              "3174    a i read script online i thought capote needed...\n",
              "Name: cleaned, Length: 2800, dtype: object"
            ],
            "text/html": [
              "<div>\n",
              "<style scoped>\n",
              "    .dataframe tbody tr th:only-of-type {\n",
              "        vertical-align: middle;\n",
              "    }\n",
              "\n",
              "    .dataframe tbody tr th {\n",
              "        vertical-align: top;\n",
              "    }\n",
              "\n",
              "    .dataframe thead th {\n",
              "        text-align: right;\n",
              "    }\n",
              "</style>\n",
              "<table border=\"1\" class=\"dataframe\">\n",
              "  <thead>\n",
              "    <tr style=\"text-align: right;\">\n",
              "      <th></th>\n",
              "      <th>cleaned</th>\n",
              "    </tr>\n",
              "  </thead>\n",
              "  <tbody>\n",
              "    <tr>\n",
              "      <th>3215</th>\n",
              "      <td>the hollow wonderful murder mystery provides e...</td>\n",
              "    </tr>\n",
              "    <tr>\n",
              "      <th>3126</th>\n",
              "      <td>this bad movie with seemed quite nice budget p...</td>\n",
              "    </tr>\n",
              "    <tr>\n",
              "      <th>697</th>\n",
              "      <td>having seen two picture previously ive come te...</td>\n",
              "    </tr>\n",
              "    <tr>\n",
              "      <th>3613</th>\n",
              "      <td>no wonder pamela springsteen gave acting becom...</td>\n",
              "    </tr>\n",
              "    <tr>\n",
              "      <th>2374</th>\n",
              "      <td>these day spielberg the color purple mostly re...</td>\n",
              "    </tr>\n",
              "    <tr>\n",
              "      <th>...</th>\n",
              "      <td>...</td>\n",
              "    </tr>\n",
              "    <tr>\n",
              "      <th>1130</th>\n",
              "      <td>not best plot world comedy movie rule kelsey g...</td>\n",
              "    </tr>\n",
              "    <tr>\n",
              "      <th>1294</th>\n",
              "      <td>extreme makeover home edition yet another feel...</td>\n",
              "    </tr>\n",
              "    <tr>\n",
              "      <th>860</th>\n",
              "      <td>ive already seen spinoffs cartoon the flintsto...</td>\n",
              "    </tr>\n",
              "    <tr>\n",
              "      <th>3507</th>\n",
              "      <td>my wife and kid opinion absolute abc classic i...</td>\n",
              "    </tr>\n",
              "    <tr>\n",
              "      <th>3174</th>\n",
              "      <td>a i read script online i thought capote needed...</td>\n",
              "    </tr>\n",
              "  </tbody>\n",
              "</table>\n",
              "<p>2800 rows × 1 columns</p>\n",
              "</div><br><label><b>dtype:</b> object</label>"
            ]
          },
          "metadata": {},
          "execution_count": 24
        }
      ]
    },
    {
      "cell_type": "markdown",
      "source": [
        "Lets make iterator now to go ahead to genetae data loader\n"
      ],
      "metadata": {
        "id": "uZAmqh4_a8rt"
      }
    },
    {
      "cell_type": "code",
      "source": [
        "train_iter=CustomDataset(train_labels, train_count)\n",
        "\n",
        "test_iter=CustomDataset(test_labels,test_count)"
      ],
      "metadata": {
        "id": "7l_6HBNIXw4E"
      },
      "execution_count": 25,
      "outputs": []
    },
    {
      "cell_type": "code",
      "source": [
        "len(vocab)"
      ],
      "metadata": {
        "colab": {
          "base_uri": "https://localhost:8080/"
        },
        "id": "luIYwCGdd6By",
        "outputId": "39d80535-2a4b-4b23-e9fb-6d9d23427980"
      },
      "execution_count": 26,
      "outputs": [
        {
          "output_type": "execute_result",
          "data": {
            "text/plain": [
              "35081"
            ]
          },
          "metadata": {},
          "execution_count": 26
        }
      ]
    },
    {
      "cell_type": "code",
      "source": [
        "train_count.shape"
      ],
      "metadata": {
        "colab": {
          "base_uri": "https://localhost:8080/"
        },
        "id": "f8Ou8VAnd27X",
        "outputId": "d367cc8f-fd85-46e0-9ad8-3c37a089fede"
      },
      "execution_count": 27,
      "outputs": [
        {
          "output_type": "execute_result",
          "data": {
            "text/plain": [
              "(2800, 35054)"
            ]
          },
          "metadata": {},
          "execution_count": 27
        }
      ]
    },
    {
      "cell_type": "code",
      "source": [
        "def collate_batch(batch):\n",
        "    all_labels=[]\n",
        "    all_texts=[]\n",
        "    for labels , texts in batch:\n",
        "        all_texts.append(texts)\n",
        "        all_labels.append(label_pipeline(labels))\n",
        "\n",
        "    return torch.tensor(all_texts,dtype=torch.float),torch.tensor(all_labels,dtype=torch.int64)\n"
      ],
      "metadata": {
        "id": "KWyF_2WebWbs"
      },
      "execution_count": 28,
      "outputs": []
    },
    {
      "cell_type": "code",
      "source": [
        "train_loader=DataLoader(dataset=train_iter,batch_size=8,shuffle=True,collate_fn=collate_batch)\n",
        "\n",
        "test_loader=DataLoader(dataset=test_iter,batch_size=8,shuffle=False,collate_fn=collate_batch)"
      ],
      "metadata": {
        "id": "Z_0N1_qobafN"
      },
      "execution_count": 29,
      "outputs": []
    },
    {
      "cell_type": "markdown",
      "source": [
        "Always remember:\n",
        "1. Dense vectors : most or all values are non zero in the vectors its called as dense represenattion of vectores.\n",
        "2. all or most values in the vectors are zeroes are called as sparase matrix or vectors.\n",
        "\n",
        "If the vectors representation is dense then we dont use embedding layer in neural network.\n",
        "\n",
        "if the vecotr representation is sparse then we use embedding layer to convert sparse inti dense with embedding layer"
      ],
      "metadata": {
        "id": "Pm5UmJB4gdE-"
      }
    },
    {
      "cell_type": "markdown",
      "source": [
        "----------------------------------------------------------------------------------"
      ],
      "metadata": {
        "id": "1zKKbuyql1zc"
      }
    },
    {
      "cell_type": "markdown",
      "source": [
        "### Training and Testing with TF-IDF\n",
        "\n",
        "#### Fit and Transform on Training Data:\n",
        "- **Fit**: The `fit` method learns the vocabulary and the IDF values from the training data.\n",
        "- **Transform**: The `transform` method converts the training data into TF-IDF vectors based on the learned vocabulary and IDF values.\n",
        "\n",
        "#### Transform on Test Data:\n",
        "- **Transform**: The `transform` method is used on the test data to convert it into TF-IDF vectors using the same vocabulary and IDF values learned from the training data. This ensures consistency between training and testing.\n"
      ],
      "metadata": {
        "id": "Ye423aUolzmw"
      }
    },
    {
      "cell_type": "code",
      "source": [],
      "metadata": {
        "id": "v0W9a9s5lROE"
      },
      "execution_count": 29,
      "outputs": []
    },
    {
      "cell_type": "code",
      "source": [
        "# lets build the model\n",
        "\n",
        "class CountVectorModel(nn.Module):\n",
        "    def __init__(self,input_size):\n",
        "        super().__init__()\n",
        "\n",
        "        self.lstm=nn.LSTM(input_size=input_size,hidden_size=64,num_layers=1,batch_first=True)   #batch_first--> with this parameter we need to pass the data in which batch size should be at start then seq len\n",
        "\n",
        "        self.linear=nn.Linear(in_features=64,out_features=1)\n",
        "\n",
        "    def forward(self,x):\n",
        "        lstm_out,(hn,cn)=self.lstm(x)\n",
        "        # print(f\"Shape of lstm_out: {lstm_out.shape}\")\n",
        "        x=self.linear(lstm_out[:,-1,:])\n",
        "        return x"
      ],
      "metadata": {
        "id": "cRdmVmLJbbY9"
      },
      "execution_count": 30,
      "outputs": []
    },
    {
      "cell_type": "code",
      "source": [
        "train_count.shape[1]"
      ],
      "metadata": {
        "colab": {
          "base_uri": "https://localhost:8080/"
        },
        "id": "kbngOy31mCdB",
        "outputId": "712bc60d-ae22-42b5-817f-5ca96f7e8fb0"
      },
      "execution_count": 31,
      "outputs": [
        {
          "output_type": "execute_result",
          "data": {
            "text/plain": [
              "35054"
            ]
          },
          "metadata": {},
          "execution_count": 31
        }
      ]
    },
    {
      "cell_type": "markdown",
      "source": [
        "if we get error too many diemention for index 2 like this then we are not passing the input in expected format so we need to unsquueze the dim\n",
        "\n",
        "sequence model expects input in `batch_size` , `sequence length`, `input_size`\n",
        "\n",
        "batch_size=8\n",
        "sequence len= each time step (in our case its each document tensor)\n",
        "inpu size= size of the tensor which is 35154"
      ],
      "metadata": {
        "id": "Kf5M6Mi2qmPB"
      }
    },
    {
      "cell_type": "code",
      "source": [
        "next(iter(train_loader))[0].shape     # this is size of the doc 1 -> 35154,  so its 1 st time step, so we can make it size"
      ],
      "metadata": {
        "colab": {
          "base_uri": "https://localhost:8080/"
        },
        "id": "8fgDyctZtm9O",
        "outputId": "1afb453e-6c63-49e1-fce6-c7a4eb3e53d7"
      },
      "execution_count": 32,
      "outputs": [
        {
          "output_type": "stream",
          "name": "stderr",
          "text": [
            "<ipython-input-28-6e57b3604305>:8: UserWarning: Creating a tensor from a list of numpy.ndarrays is extremely slow. Please consider converting the list to a single numpy.ndarray with numpy.array() before converting to a tensor. (Triggered internally at ../torch/csrc/utils/tensor_new.cpp:275.)\n",
            "  return torch.tensor(all_texts,dtype=torch.float),torch.tensor(all_labels,dtype=torch.int64)\n"
          ]
        },
        {
          "output_type": "execute_result",
          "data": {
            "text/plain": [
              "torch.Size([8, 35054])"
            ]
          },
          "metadata": {},
          "execution_count": 32
        }
      ]
    },
    {
      "cell_type": "code",
      "source": [
        "input_size=train_count.shape[1]\n",
        "model=CountVectorModel(input_size=input_size)\n",
        "\n",
        "\n",
        "with torch.inference_mode():\n",
        "    out=model(next(iter(train_loader))[0].unsqueeze(1))"
      ],
      "metadata": {
        "id": "oS04fdrvmEoy"
      },
      "execution_count": 33,
      "outputs": []
    },
    {
      "cell_type": "code",
      "source": [
        "(out.sigmoid()>0.5).int()"
      ],
      "metadata": {
        "colab": {
          "base_uri": "https://localhost:8080/"
        },
        "id": "HpscGABjn__0",
        "outputId": "a5fbc66d-cf44-4dd1-be07-bb586ca1735f"
      },
      "execution_count": 34,
      "outputs": [
        {
          "output_type": "execute_result",
          "data": {
            "text/plain": [
              "tensor([[1],\n",
              "        [0],\n",
              "        [0],\n",
              "        [1],\n",
              "        [1],\n",
              "        [1],\n",
              "        [0],\n",
              "        [1]], dtype=torch.int32)"
            ]
          },
          "metadata": {},
          "execution_count": 34
        }
      ]
    },
    {
      "cell_type": "code",
      "source": [
        "from sklearn.metrics import accuracy_score"
      ],
      "metadata": {
        "id": "TD8E9rVMuk5q"
      },
      "execution_count": 35,
      "outputs": []
    },
    {
      "cell_type": "code",
      "source": [
        "from tqdm.auto import tqdm\n",
        "device = torch.device(\"cuda\" if torch.cuda.is_available() else \"cpu\")\n",
        "\n",
        "loss_fn=nn.BCEWithLogitsLoss()\n",
        "optimizer=torch.optim.Adam(params=model.parameters(),lr=0.001)\n",
        "\n",
        "# Set the random seed before the loop\n",
        "torch.manual_seed(42)\n",
        "\n",
        "# Assuming loss_fn is nn.BCEWithLogitsLoss for binary classification\n",
        "\n",
        "# Move the model to the GPU\n",
        "model = model.to(device)\n",
        "\n",
        "# Training loop\n",
        "epochs = 5\n",
        "\n",
        "for epoch in tqdm(range(epochs)):\n",
        "    train_loss = 0\n",
        "    train_acc = 0\n",
        "    model.train()\n",
        "\n",
        "    for batch, (X_train,y_train) in enumerate(train_loader):\n",
        "        # Move data to the GPU\n",
        "        X_train = X_train.to(device)\n",
        "        y_train = y_train.to(device)\n",
        "\n",
        "        # Forward pass\n",
        "        y_logits = model(X_train.unsqueeze(1))\n",
        "\n",
        "        # Calculate loss\n",
        "        y_train = y_train.float().unsqueeze(1)\n",
        "        train_batch_loss = loss_fn(y_logits, y_train)\n",
        "\n",
        "        # Apply sigmoid and threshold to get binary predictions\n",
        "        train_probs = torch.sigmoid(y_logits)\n",
        "        train_batch_preds = (train_probs > 0.5).float()\n",
        "\n",
        "        # Calculate accuracy using sklearn\n",
        "        train_batch_acc = accuracy_score(y_train.cpu().numpy(), train_batch_preds.cpu().numpy())\n",
        "\n",
        "        # Backpropagation and optimization\n",
        "        optimizer.zero_grad()\n",
        "        train_batch_loss.backward()\n",
        "        optimizer.step()\n",
        "\n",
        "        train_loss += train_batch_loss.item()\n",
        "        train_acc += train_batch_acc\n",
        "\n",
        "    model.eval()\n",
        "    train_acc /= len(train_loader)\n",
        "    train_loss /= len(train_loader)\n",
        "    test_loss = 0\n",
        "    test_acc = 0\n",
        "\n",
        "    with torch.inference_mode():\n",
        "        for X_test,y_test in test_loader:\n",
        "            # Move data to the GPU\n",
        "            X_test = X_test.to(device)\n",
        "            y_test = y_test.to(device)\n",
        "\n",
        "            # Forward pass\n",
        "            y_test_logits = model(X_test.unsqueeze(1))\n",
        "\n",
        "            # Calculate loss\n",
        "            y_test = y_test.float().unsqueeze(1)\n",
        "            test_batch_loss = loss_fn(y_test_logits, y_test)\n",
        "\n",
        "            # Apply sigmoid and threshold to get binary predictions\n",
        "            test_probs = torch.sigmoid(y_test_logits)\n",
        "            test_batch_preds = (test_probs > 0.5).float()\n",
        "\n",
        "            # Calculate accuracy using sklearn\n",
        "            test_batch_acc = accuracy_score(y_test.cpu().numpy(), test_batch_preds.cpu().numpy())\n",
        "\n",
        "            test_loss += test_batch_loss.item()\n",
        "            test_acc += test_batch_acc\n",
        "\n",
        "    test_loss /= len(test_loader)\n",
        "    test_acc /= len(test_loader)\n",
        "\n",
        "    print(f\"Epoch: {epoch+1} | Train Loss: {train_loss:.4f} | Train ACC: {train_acc*100:.2f} | Test Loss: {test_loss:.4f} | Test ACC: {test_acc*100:.2f}\")\n",
        "\n",
        "print(\"Training complete.\")\n",
        "\n",
        "\n",
        "\n"
      ],
      "metadata": {
        "colab": {
          "base_uri": "https://localhost:8080/",
          "height": 158,
          "referenced_widgets": [
            "c82700b132144778ad5812530c37c93e",
            "8989022a17ba4f36b06890f79915ec84",
            "8dfc32f3b15b48728b14a68e2948414f",
            "3877a58b2a3a40ee83c1ebb66bb79d4f",
            "5b5903b4c8c54b879cc011f96c95633e",
            "fccd48c0a1a843dda1c50c348a00b35f",
            "11d2389d23214f55a100c94fdb2c207e",
            "219d27a6bbf446c9898ea97827045185",
            "8b2737d3546946389fbd84d7676aa314",
            "8850b1b31d58415e939f1a13b9f487a5",
            "dfac1786c1f14da9944d74badc9a00f5"
          ]
        },
        "id": "XZvjfmx0uBna",
        "outputId": "feda4408-ca36-4709-f041-faaf42ab3ccf"
      },
      "execution_count": 36,
      "outputs": [
        {
          "output_type": "display_data",
          "data": {
            "text/plain": [
              "  0%|          | 0/5 [00:00<?, ?it/s]"
            ],
            "application/vnd.jupyter.widget-view+json": {
              "version_major": 2,
              "version_minor": 0,
              "model_id": "c82700b132144778ad5812530c37c93e"
            }
          },
          "metadata": {}
        },
        {
          "output_type": "stream",
          "name": "stdout",
          "text": [
            "Epoch: 1 | Train Loss: 0.5147 | Train ACC: 76.96 | Test Loss: 0.3991 | Test ACC: 82.67\n",
            "Epoch: 2 | Train Loss: 0.0894 | Train ACC: 97.96 | Test Loss: 0.4305 | Test ACC: 82.42\n",
            "Epoch: 3 | Train Loss: 0.0136 | Train ACC: 99.86 | Test Loss: 0.4504 | Test ACC: 83.33\n",
            "Epoch: 4 | Train Loss: 0.0046 | Train ACC: 100.00 | Test Loss: 0.4735 | Test ACC: 83.58\n",
            "Epoch: 5 | Train Loss: 0.0023 | Train ACC: 100.00 | Test Loss: 0.4946 | Test ACC: 83.67\n",
            "Training complete.\n"
          ]
        }
      ]
    },
    {
      "cell_type": "code",
      "source": [
        "testing=['i absolutely loved product it exceeded expectation every way the quality topnotch work perfectly i highly recommend anyone looking reliable highquality option five star']\n",
        "test_tensor=torch.tensor(count.transform(testing).toarray(),dtype=torch.float)\n",
        "\n"
      ],
      "metadata": {
        "id": "3lTXW-9LuZ3U"
      },
      "execution_count": 37,
      "outputs": []
    },
    {
      "cell_type": "code",
      "source": [
        "test_tensor.shape"
      ],
      "metadata": {
        "colab": {
          "base_uri": "https://localhost:8080/"
        },
        "id": "MVrTU77qw39M",
        "outputId": "532c79f0-f7de-4b11-c0f9-68cb81a64a90"
      },
      "execution_count": 38,
      "outputs": [
        {
          "output_type": "execute_result",
          "data": {
            "text/plain": [
              "torch.Size([1, 35054])"
            ]
          },
          "metadata": {},
          "execution_count": 38
        }
      ]
    },
    {
      "cell_type": "code",
      "source": [
        "with torch.inference_mode():\n",
        "    out=model(test_tensor.unsqueeze(1).to(device))"
      ],
      "metadata": {
        "id": "ij2rsKX-xPpK"
      },
      "execution_count": 39,
      "outputs": []
    },
    {
      "cell_type": "code",
      "source": [
        "print(f'predicted model {(torch.sigmoid(out)>0.5).int().item()} \\n expected : 1 ')"
      ],
      "metadata": {
        "colab": {
          "base_uri": "https://localhost:8080/"
        },
        "id": "cojnH37kxZRz",
        "outputId": "8447fc3e-7484-4084-eb71-c6d34e68464b"
      },
      "execution_count": 43,
      "outputs": [
        {
          "output_type": "stream",
          "name": "stdout",
          "text": [
            "predicted model 1 \n",
            " expected : 1 \n"
          ]
        }
      ]
    },
    {
      "cell_type": "code",
      "source": [
        "preprocess(testing[0])"
      ],
      "metadata": {
        "colab": {
          "base_uri": "https://localhost:8080/",
          "height": 36
        },
        "id": "7C5uvVEAxmZD",
        "outputId": "02ce4c82-2a25-470c-a77e-0db9ed70acac"
      },
      "execution_count": 41,
      "outputs": [
        {
          "output_type": "execute_result",
          "data": {
            "text/plain": [
              "'absolutely loved product exceeded expectation every way quality topnotch work perfectly highly recommend anyone looking reliable highquality option five star'"
            ],
            "application/vnd.google.colaboratory.intrinsic+json": {
              "type": "string"
            }
          },
          "metadata": {},
          "execution_count": 41
        }
      ]
    },
    {
      "cell_type": "code",
      "source": [
        "test_count.shape"
      ],
      "metadata": {
        "colab": {
          "base_uri": "https://localhost:8080/"
        },
        "id": "oLa_KiOqyjBZ",
        "outputId": "9393fbc1-8ed0-4f80-85d8-a34b70e0c6f3"
      },
      "execution_count": 42,
      "outputs": [
        {
          "output_type": "execute_result",
          "data": {
            "text/plain": [
              "(1200, 35054)"
            ]
          },
          "metadata": {},
          "execution_count": 42
        }
      ]
    }
  ]
}