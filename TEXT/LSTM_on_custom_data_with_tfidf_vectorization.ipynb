{
  "nbformat": 4,
  "nbformat_minor": 0,
  "metadata": {
    "colab": {
      "provenance": [],
      "gpuType": "T4",
      "authorship_tag": "ABX9TyOqPCv5zG5qC6O0N6gqUKDr",
      "include_colab_link": true
    },
    "kernelspec": {
      "name": "python3",
      "display_name": "Python 3"
    },
    "language_info": {
      "name": "python"
    },
    "accelerator": "GPU",
    "widgets": {
      "application/vnd.jupyter.widget-state+json": {
        "d4b35a8d3cbe433585b0131f33bf6293": {
          "model_module": "@jupyter-widgets/controls",
          "model_name": "HBoxModel",
          "model_module_version": "1.5.0",
          "state": {
            "_dom_classes": [],
            "_model_module": "@jupyter-widgets/controls",
            "_model_module_version": "1.5.0",
            "_model_name": "HBoxModel",
            "_view_count": null,
            "_view_module": "@jupyter-widgets/controls",
            "_view_module_version": "1.5.0",
            "_view_name": "HBoxView",
            "box_style": "",
            "children": [
              "IPY_MODEL_db3c6819f8284d76816b46c08cd5be46",
              "IPY_MODEL_42d921817bc2497a881246fbae15ef37",
              "IPY_MODEL_4cf65bdb41ee4f4891589a051327b54e"
            ],
            "layout": "IPY_MODEL_c7a9f7f72b5d4d789222a699aec61cf7"
          }
        },
        "db3c6819f8284d76816b46c08cd5be46": {
          "model_module": "@jupyter-widgets/controls",
          "model_name": "HTMLModel",
          "model_module_version": "1.5.0",
          "state": {
            "_dom_classes": [],
            "_model_module": "@jupyter-widgets/controls",
            "_model_module_version": "1.5.0",
            "_model_name": "HTMLModel",
            "_view_count": null,
            "_view_module": "@jupyter-widgets/controls",
            "_view_module_version": "1.5.0",
            "_view_name": "HTMLView",
            "description": "",
            "description_tooltip": null,
            "layout": "IPY_MODEL_e847e189c7ba47b29264b49aff881f8a",
            "placeholder": "​",
            "style": "IPY_MODEL_2c11c8cea0b6489bba3fda858100992e",
            "value": "100%"
          }
        },
        "42d921817bc2497a881246fbae15ef37": {
          "model_module": "@jupyter-widgets/controls",
          "model_name": "FloatProgressModel",
          "model_module_version": "1.5.0",
          "state": {
            "_dom_classes": [],
            "_model_module": "@jupyter-widgets/controls",
            "_model_module_version": "1.5.0",
            "_model_name": "FloatProgressModel",
            "_view_count": null,
            "_view_module": "@jupyter-widgets/controls",
            "_view_module_version": "1.5.0",
            "_view_name": "ProgressView",
            "bar_style": "success",
            "description": "",
            "description_tooltip": null,
            "layout": "IPY_MODEL_5b89133e3ea54ce495df247a1fcd23d6",
            "max": 5,
            "min": 0,
            "orientation": "horizontal",
            "style": "IPY_MODEL_753d6de0b794452bbd969dad4d9528b0",
            "value": 5
          }
        },
        "4cf65bdb41ee4f4891589a051327b54e": {
          "model_module": "@jupyter-widgets/controls",
          "model_name": "HTMLModel",
          "model_module_version": "1.5.0",
          "state": {
            "_dom_classes": [],
            "_model_module": "@jupyter-widgets/controls",
            "_model_module_version": "1.5.0",
            "_model_name": "HTMLModel",
            "_view_count": null,
            "_view_module": "@jupyter-widgets/controls",
            "_view_module_version": "1.5.0",
            "_view_name": "HTMLView",
            "description": "",
            "description_tooltip": null,
            "layout": "IPY_MODEL_5a21bfd4e53845d1862e26b4fd7d8bad",
            "placeholder": "​",
            "style": "IPY_MODEL_9636ad42b36f4d4e9550407c41d00ecd",
            "value": " 5/5 [01:51&lt;00:00, 22.58s/it]"
          }
        },
        "c7a9f7f72b5d4d789222a699aec61cf7": {
          "model_module": "@jupyter-widgets/base",
          "model_name": "LayoutModel",
          "model_module_version": "1.2.0",
          "state": {
            "_model_module": "@jupyter-widgets/base",
            "_model_module_version": "1.2.0",
            "_model_name": "LayoutModel",
            "_view_count": null,
            "_view_module": "@jupyter-widgets/base",
            "_view_module_version": "1.2.0",
            "_view_name": "LayoutView",
            "align_content": null,
            "align_items": null,
            "align_self": null,
            "border": null,
            "bottom": null,
            "display": null,
            "flex": null,
            "flex_flow": null,
            "grid_area": null,
            "grid_auto_columns": null,
            "grid_auto_flow": null,
            "grid_auto_rows": null,
            "grid_column": null,
            "grid_gap": null,
            "grid_row": null,
            "grid_template_areas": null,
            "grid_template_columns": null,
            "grid_template_rows": null,
            "height": null,
            "justify_content": null,
            "justify_items": null,
            "left": null,
            "margin": null,
            "max_height": null,
            "max_width": null,
            "min_height": null,
            "min_width": null,
            "object_fit": null,
            "object_position": null,
            "order": null,
            "overflow": null,
            "overflow_x": null,
            "overflow_y": null,
            "padding": null,
            "right": null,
            "top": null,
            "visibility": null,
            "width": null
          }
        },
        "e847e189c7ba47b29264b49aff881f8a": {
          "model_module": "@jupyter-widgets/base",
          "model_name": "LayoutModel",
          "model_module_version": "1.2.0",
          "state": {
            "_model_module": "@jupyter-widgets/base",
            "_model_module_version": "1.2.0",
            "_model_name": "LayoutModel",
            "_view_count": null,
            "_view_module": "@jupyter-widgets/base",
            "_view_module_version": "1.2.0",
            "_view_name": "LayoutView",
            "align_content": null,
            "align_items": null,
            "align_self": null,
            "border": null,
            "bottom": null,
            "display": null,
            "flex": null,
            "flex_flow": null,
            "grid_area": null,
            "grid_auto_columns": null,
            "grid_auto_flow": null,
            "grid_auto_rows": null,
            "grid_column": null,
            "grid_gap": null,
            "grid_row": null,
            "grid_template_areas": null,
            "grid_template_columns": null,
            "grid_template_rows": null,
            "height": null,
            "justify_content": null,
            "justify_items": null,
            "left": null,
            "margin": null,
            "max_height": null,
            "max_width": null,
            "min_height": null,
            "min_width": null,
            "object_fit": null,
            "object_position": null,
            "order": null,
            "overflow": null,
            "overflow_x": null,
            "overflow_y": null,
            "padding": null,
            "right": null,
            "top": null,
            "visibility": null,
            "width": null
          }
        },
        "2c11c8cea0b6489bba3fda858100992e": {
          "model_module": "@jupyter-widgets/controls",
          "model_name": "DescriptionStyleModel",
          "model_module_version": "1.5.0",
          "state": {
            "_model_module": "@jupyter-widgets/controls",
            "_model_module_version": "1.5.0",
            "_model_name": "DescriptionStyleModel",
            "_view_count": null,
            "_view_module": "@jupyter-widgets/base",
            "_view_module_version": "1.2.0",
            "_view_name": "StyleView",
            "description_width": ""
          }
        },
        "5b89133e3ea54ce495df247a1fcd23d6": {
          "model_module": "@jupyter-widgets/base",
          "model_name": "LayoutModel",
          "model_module_version": "1.2.0",
          "state": {
            "_model_module": "@jupyter-widgets/base",
            "_model_module_version": "1.2.0",
            "_model_name": "LayoutModel",
            "_view_count": null,
            "_view_module": "@jupyter-widgets/base",
            "_view_module_version": "1.2.0",
            "_view_name": "LayoutView",
            "align_content": null,
            "align_items": null,
            "align_self": null,
            "border": null,
            "bottom": null,
            "display": null,
            "flex": null,
            "flex_flow": null,
            "grid_area": null,
            "grid_auto_columns": null,
            "grid_auto_flow": null,
            "grid_auto_rows": null,
            "grid_column": null,
            "grid_gap": null,
            "grid_row": null,
            "grid_template_areas": null,
            "grid_template_columns": null,
            "grid_template_rows": null,
            "height": null,
            "justify_content": null,
            "justify_items": null,
            "left": null,
            "margin": null,
            "max_height": null,
            "max_width": null,
            "min_height": null,
            "min_width": null,
            "object_fit": null,
            "object_position": null,
            "order": null,
            "overflow": null,
            "overflow_x": null,
            "overflow_y": null,
            "padding": null,
            "right": null,
            "top": null,
            "visibility": null,
            "width": null
          }
        },
        "753d6de0b794452bbd969dad4d9528b0": {
          "model_module": "@jupyter-widgets/controls",
          "model_name": "ProgressStyleModel",
          "model_module_version": "1.5.0",
          "state": {
            "_model_module": "@jupyter-widgets/controls",
            "_model_module_version": "1.5.0",
            "_model_name": "ProgressStyleModel",
            "_view_count": null,
            "_view_module": "@jupyter-widgets/base",
            "_view_module_version": "1.2.0",
            "_view_name": "StyleView",
            "bar_color": null,
            "description_width": ""
          }
        },
        "5a21bfd4e53845d1862e26b4fd7d8bad": {
          "model_module": "@jupyter-widgets/base",
          "model_name": "LayoutModel",
          "model_module_version": "1.2.0",
          "state": {
            "_model_module": "@jupyter-widgets/base",
            "_model_module_version": "1.2.0",
            "_model_name": "LayoutModel",
            "_view_count": null,
            "_view_module": "@jupyter-widgets/base",
            "_view_module_version": "1.2.0",
            "_view_name": "LayoutView",
            "align_content": null,
            "align_items": null,
            "align_self": null,
            "border": null,
            "bottom": null,
            "display": null,
            "flex": null,
            "flex_flow": null,
            "grid_area": null,
            "grid_auto_columns": null,
            "grid_auto_flow": null,
            "grid_auto_rows": null,
            "grid_column": null,
            "grid_gap": null,
            "grid_row": null,
            "grid_template_areas": null,
            "grid_template_columns": null,
            "grid_template_rows": null,
            "height": null,
            "justify_content": null,
            "justify_items": null,
            "left": null,
            "margin": null,
            "max_height": null,
            "max_width": null,
            "min_height": null,
            "min_width": null,
            "object_fit": null,
            "object_position": null,
            "order": null,
            "overflow": null,
            "overflow_x": null,
            "overflow_y": null,
            "padding": null,
            "right": null,
            "top": null,
            "visibility": null,
            "width": null
          }
        },
        "9636ad42b36f4d4e9550407c41d00ecd": {
          "model_module": "@jupyter-widgets/controls",
          "model_name": "DescriptionStyleModel",
          "model_module_version": "1.5.0",
          "state": {
            "_model_module": "@jupyter-widgets/controls",
            "_model_module_version": "1.5.0",
            "_model_name": "DescriptionStyleModel",
            "_view_count": null,
            "_view_module": "@jupyter-widgets/base",
            "_view_module_version": "1.2.0",
            "_view_name": "StyleView",
            "description_width": ""
          }
        }
      }
    }
  },
  "cells": [
    {
      "cell_type": "markdown",
      "metadata": {
        "id": "view-in-github",
        "colab_type": "text"
      },
      "source": [
        "<a href=\"https://colab.research.google.com/github/iamRahulB/Pytorch-practice/blob/main/TEXT/LSTM_on_custom_data_with_tfidf_vectorization.ipynb\" target=\"_parent\"><img src=\"https://colab.research.google.com/assets/colab-badge.svg\" alt=\"Open In Colab\"/></a>"
      ]
    },
    {
      "cell_type": "code",
      "source": [
        "!pip3 install -q torch==2.2.0 torchtext==0.17.0 --index-url https://download.pytorch.org/whl/cu118"
      ],
      "metadata": {
        "colab": {
          "base_uri": "https://localhost:8080/"
        },
        "id": "hYRS4fjLekTi",
        "outputId": "eb7f104f-e820-4b4f-fd8e-36ad93546932"
      },
      "execution_count": 1,
      "outputs": [
        {
          "output_type": "stream",
          "name": "stdout",
          "text": [
            "\u001b[2K     \u001b[90m━━━━━━━━━━━━━━━━━━━━━━━━━━━━━━━━━━━━━━━━\u001b[0m \u001b[32m811.7/811.7 MB\u001b[0m \u001b[31m2.0 MB/s\u001b[0m eta \u001b[36m0:00:00\u001b[0m\n",
            "\u001b[2K     \u001b[90m━━━━━━━━━━━━━━━━━━━━━━━━━━━━━━━━━━━━━━━━\u001b[0m \u001b[32m2.0/2.0 MB\u001b[0m \u001b[31m57.9 MB/s\u001b[0m eta \u001b[36m0:00:00\u001b[0m\n",
            "\u001b[2K     \u001b[90m━━━━━━━━━━━━━━━━━━━━━━━━━━━━━━━━━━━━━━━━\u001b[0m \u001b[32m23.2/23.2 MB\u001b[0m \u001b[31m81.0 MB/s\u001b[0m eta \u001b[36m0:00:00\u001b[0m\n",
            "\u001b[2K     \u001b[90m━━━━━━━━━━━━━━━━━━━━━━━━━━━━━━━━━━━━━━━━\u001b[0m \u001b[32m875.6/875.6 kB\u001b[0m \u001b[31m43.2 MB/s\u001b[0m eta \u001b[36m0:00:00\u001b[0m\n",
            "\u001b[2K     \u001b[90m━━━━━━━━━━━━━━━━━━━━━━━━━━━━━━━━━━━━━━━━\u001b[0m \u001b[32m13.1/13.1 MB\u001b[0m \u001b[31m104.1 MB/s\u001b[0m eta \u001b[36m0:00:00\u001b[0m\n",
            "\u001b[2K     \u001b[90m━━━━━━━━━━━━━━━━━━━━━━━━━━━━━━━━━━━━━━━━\u001b[0m \u001b[32m728.5/728.5 MB\u001b[0m \u001b[31m2.5 MB/s\u001b[0m eta \u001b[36m0:00:00\u001b[0m\n",
            "\u001b[2K     \u001b[90m━━━━━━━━━━━━━━━━━━━━━━━━━━━━━━━━━━━━━━━━\u001b[0m \u001b[32m417.9/417.9 MB\u001b[0m \u001b[31m4.3 MB/s\u001b[0m eta \u001b[36m0:00:00\u001b[0m\n",
            "\u001b[2K     \u001b[90m━━━━━━━━━━━━━━━━━━━━━━━━━━━━━━━━━━━━━━━━\u001b[0m \u001b[32m168.4/168.4 MB\u001b[0m \u001b[31m7.4 MB/s\u001b[0m eta \u001b[36m0:00:00\u001b[0m\n",
            "\u001b[2K     \u001b[90m━━━━━━━━━━━━━━━━━━━━━━━━━━━━━━━━━━━━━━━━\u001b[0m \u001b[32m58.1/58.1 MB\u001b[0m \u001b[31m11.7 MB/s\u001b[0m eta \u001b[36m0:00:00\u001b[0m\n",
            "\u001b[2K     \u001b[90m━━━━━━━━━━━━━━━━━━━━━━━━━━━━━━━━━━━━━━━━\u001b[0m \u001b[32m128.2/128.2 MB\u001b[0m \u001b[31m6.3 MB/s\u001b[0m eta \u001b[36m0:00:00\u001b[0m\n",
            "\u001b[2K     \u001b[90m━━━━━━━━━━━━━━━━━━━━━━━━━━━━━━━━━━━━━━━━\u001b[0m \u001b[32m204.1/204.1 MB\u001b[0m \u001b[31m5.8 MB/s\u001b[0m eta \u001b[36m0:00:00\u001b[0m\n",
            "\u001b[2K     \u001b[90m━━━━━━━━━━━━━━━━━━━━━━━━━━━━━━━━━━━━━━━━\u001b[0m \u001b[32m135.3/135.3 MB\u001b[0m \u001b[31m7.0 MB/s\u001b[0m eta \u001b[36m0:00:00\u001b[0m\n",
            "\u001b[2K     \u001b[90m━━━━━━━━━━━━━━━━━━━━━━━━━━━━━━━━━━━━━━━━\u001b[0m \u001b[32m99.1/99.1 kB\u001b[0m \u001b[31m8.3 MB/s\u001b[0m eta \u001b[36m0:00:00\u001b[0m\n",
            "\u001b[2K     \u001b[90m━━━━━━━━━━━━━━━━━━━━━━━━━━━━━━━━━━━━━━━━\u001b[0m \u001b[32m167.9/167.9 MB\u001b[0m \u001b[31m6.3 MB/s\u001b[0m eta \u001b[36m0:00:00\u001b[0m\n",
            "\u001b[2K     \u001b[90m━━━━━━━━━━━━━━━━━━━━━━━━━━━━━━━━━━━━━━━━\u001b[0m \u001b[32m4.7/4.7 MB\u001b[0m \u001b[31m68.9 MB/s\u001b[0m eta \u001b[36m0:00:00\u001b[0m\n",
            "\u001b[?25h\u001b[31mERROR: pip's dependency resolver does not currently take into account all the packages that are installed. This behaviour is the source of the following dependency conflicts.\n",
            "torchaudio 2.4.1+cu121 requires torch==2.4.1, but you have torch 2.2.0+cu118 which is incompatible.\n",
            "torchvision 0.19.1+cu121 requires torch==2.4.1, but you have torch 2.2.0+cu118 which is incompatible.\u001b[0m\u001b[31m\n",
            "\u001b[0m"
          ]
        }
      ]
    },
    {
      "cell_type": "code",
      "source": [
        "!pip install -q -U portalocker==2.8.2"
      ],
      "metadata": {
        "id": "PzsrPvcieoLO"
      },
      "execution_count": 2,
      "outputs": []
    },
    {
      "cell_type": "code",
      "execution_count": 3,
      "metadata": {
        "id": "FOseffHVYByy"
      },
      "outputs": [],
      "source": [
        "import torch\n",
        "from torch import nn\n",
        "import torch.optim as optim\n",
        "from torchtext import datasets\n",
        "from torch.utils.data import DataLoader, Dataset\n",
        "from torchtext.data import get_tokenizer\n",
        "from torchtext.vocab import build_vocab_from_iterator\n",
        "import pandas as pd\n",
        "import matplotlib.pyplot as plt\n",
        "import nltk\n",
        "from nltk.corpus import stopwords\n",
        "from nltk.stem import WordNetLemmatizer\n",
        "from nltk.tokenize import word_tokenize\n",
        "from sklearn.model_selection import train_test_split\n",
        "import re\n"
      ]
    },
    {
      "cell_type": "code",
      "source": [
        "nltk.download('stopwords')\n",
        "nltk.download('wordnet')\n",
        "nltk.download('punkt')"
      ],
      "metadata": {
        "colab": {
          "base_uri": "https://localhost:8080/"
        },
        "id": "Jm9MAzFDhBNz",
        "outputId": "05f8bd91-85da-47ce-9d11-2f24b217784a"
      },
      "execution_count": 4,
      "outputs": [
        {
          "output_type": "stream",
          "name": "stderr",
          "text": [
            "[nltk_data] Downloading package stopwords to /root/nltk_data...\n",
            "[nltk_data]   Unzipping corpora/stopwords.zip.\n",
            "[nltk_data] Downloading package wordnet to /root/nltk_data...\n",
            "[nltk_data] Downloading package punkt to /root/nltk_data...\n",
            "[nltk_data]   Unzipping tokenizers/punkt.zip.\n"
          ]
        },
        {
          "output_type": "execute_result",
          "data": {
            "text/plain": [
              "True"
            ]
          },
          "metadata": {},
          "execution_count": 4
        }
      ]
    },
    {
      "cell_type": "code",
      "source": [
        "df=pd.read_csv('https://github.com/LawrenceDuan/IMDb-Review-Analysis/raw/refs/heads/master/IMDb_Reviews.csv')"
      ],
      "metadata": {
        "id": "Z0x-mZsDgHqW"
      },
      "execution_count": 5,
      "outputs": []
    },
    {
      "cell_type": "code",
      "source": [
        "df.head()"
      ],
      "metadata": {
        "colab": {
          "base_uri": "https://localhost:8080/",
          "height": 206
        },
        "id": "0R1odgaPgOKx",
        "outputId": "9ba3aa7e-c5f0-42a6-b362-e98b50b2c38f"
      },
      "execution_count": 6,
      "outputs": [
        {
          "output_type": "execute_result",
          "data": {
            "text/plain": [
              "                                              review  sentiment\n",
              "0  My family and I normally do not watch local mo...          1\n",
              "1  Believe it or not, this was at one time the wo...          0\n",
              "2  After some internet surfing, I found the \"Home...          0\n",
              "3  One of the most unheralded great works of anim...          1\n",
              "4  It was the Sixties, and anyone with long hair ...          0"
            ],
            "text/html": [
              "\n",
              "  <div id=\"df-2c101aa3-52b6-442a-bb27-08e874eab578\" class=\"colab-df-container\">\n",
              "    <div>\n",
              "<style scoped>\n",
              "    .dataframe tbody tr th:only-of-type {\n",
              "        vertical-align: middle;\n",
              "    }\n",
              "\n",
              "    .dataframe tbody tr th {\n",
              "        vertical-align: top;\n",
              "    }\n",
              "\n",
              "    .dataframe thead th {\n",
              "        text-align: right;\n",
              "    }\n",
              "</style>\n",
              "<table border=\"1\" class=\"dataframe\">\n",
              "  <thead>\n",
              "    <tr style=\"text-align: right;\">\n",
              "      <th></th>\n",
              "      <th>review</th>\n",
              "      <th>sentiment</th>\n",
              "    </tr>\n",
              "  </thead>\n",
              "  <tbody>\n",
              "    <tr>\n",
              "      <th>0</th>\n",
              "      <td>My family and I normally do not watch local mo...</td>\n",
              "      <td>1</td>\n",
              "    </tr>\n",
              "    <tr>\n",
              "      <th>1</th>\n",
              "      <td>Believe it or not, this was at one time the wo...</td>\n",
              "      <td>0</td>\n",
              "    </tr>\n",
              "    <tr>\n",
              "      <th>2</th>\n",
              "      <td>After some internet surfing, I found the \"Home...</td>\n",
              "      <td>0</td>\n",
              "    </tr>\n",
              "    <tr>\n",
              "      <th>3</th>\n",
              "      <td>One of the most unheralded great works of anim...</td>\n",
              "      <td>1</td>\n",
              "    </tr>\n",
              "    <tr>\n",
              "      <th>4</th>\n",
              "      <td>It was the Sixties, and anyone with long hair ...</td>\n",
              "      <td>0</td>\n",
              "    </tr>\n",
              "  </tbody>\n",
              "</table>\n",
              "</div>\n",
              "    <div class=\"colab-df-buttons\">\n",
              "\n",
              "  <div class=\"colab-df-container\">\n",
              "    <button class=\"colab-df-convert\" onclick=\"convertToInteractive('df-2c101aa3-52b6-442a-bb27-08e874eab578')\"\n",
              "            title=\"Convert this dataframe to an interactive table.\"\n",
              "            style=\"display:none;\">\n",
              "\n",
              "  <svg xmlns=\"http://www.w3.org/2000/svg\" height=\"24px\" viewBox=\"0 -960 960 960\">\n",
              "    <path d=\"M120-120v-720h720v720H120Zm60-500h600v-160H180v160Zm220 220h160v-160H400v160Zm0 220h160v-160H400v160ZM180-400h160v-160H180v160Zm440 0h160v-160H620v160ZM180-180h160v-160H180v160Zm440 0h160v-160H620v160Z\"/>\n",
              "  </svg>\n",
              "    </button>\n",
              "\n",
              "  <style>\n",
              "    .colab-df-container {\n",
              "      display:flex;\n",
              "      gap: 12px;\n",
              "    }\n",
              "\n",
              "    .colab-df-convert {\n",
              "      background-color: #E8F0FE;\n",
              "      border: none;\n",
              "      border-radius: 50%;\n",
              "      cursor: pointer;\n",
              "      display: none;\n",
              "      fill: #1967D2;\n",
              "      height: 32px;\n",
              "      padding: 0 0 0 0;\n",
              "      width: 32px;\n",
              "    }\n",
              "\n",
              "    .colab-df-convert:hover {\n",
              "      background-color: #E2EBFA;\n",
              "      box-shadow: 0px 1px 2px rgba(60, 64, 67, 0.3), 0px 1px 3px 1px rgba(60, 64, 67, 0.15);\n",
              "      fill: #174EA6;\n",
              "    }\n",
              "\n",
              "    .colab-df-buttons div {\n",
              "      margin-bottom: 4px;\n",
              "    }\n",
              "\n",
              "    [theme=dark] .colab-df-convert {\n",
              "      background-color: #3B4455;\n",
              "      fill: #D2E3FC;\n",
              "    }\n",
              "\n",
              "    [theme=dark] .colab-df-convert:hover {\n",
              "      background-color: #434B5C;\n",
              "      box-shadow: 0px 1px 3px 1px rgba(0, 0, 0, 0.15);\n",
              "      filter: drop-shadow(0px 1px 2px rgba(0, 0, 0, 0.3));\n",
              "      fill: #FFFFFF;\n",
              "    }\n",
              "  </style>\n",
              "\n",
              "    <script>\n",
              "      const buttonEl =\n",
              "        document.querySelector('#df-2c101aa3-52b6-442a-bb27-08e874eab578 button.colab-df-convert');\n",
              "      buttonEl.style.display =\n",
              "        google.colab.kernel.accessAllowed ? 'block' : 'none';\n",
              "\n",
              "      async function convertToInteractive(key) {\n",
              "        const element = document.querySelector('#df-2c101aa3-52b6-442a-bb27-08e874eab578');\n",
              "        const dataTable =\n",
              "          await google.colab.kernel.invokeFunction('convertToInteractive',\n",
              "                                                    [key], {});\n",
              "        if (!dataTable) return;\n",
              "\n",
              "        const docLinkHtml = 'Like what you see? Visit the ' +\n",
              "          '<a target=\"_blank\" href=https://colab.research.google.com/notebooks/data_table.ipynb>data table notebook</a>'\n",
              "          + ' to learn more about interactive tables.';\n",
              "        element.innerHTML = '';\n",
              "        dataTable['output_type'] = 'display_data';\n",
              "        await google.colab.output.renderOutput(dataTable, element);\n",
              "        const docLink = document.createElement('div');\n",
              "        docLink.innerHTML = docLinkHtml;\n",
              "        element.appendChild(docLink);\n",
              "      }\n",
              "    </script>\n",
              "  </div>\n",
              "\n",
              "\n",
              "<div id=\"df-4a311045-90a1-4b90-ae54-960879a6ab56\">\n",
              "  <button class=\"colab-df-quickchart\" onclick=\"quickchart('df-4a311045-90a1-4b90-ae54-960879a6ab56')\"\n",
              "            title=\"Suggest charts\"\n",
              "            style=\"display:none;\">\n",
              "\n",
              "<svg xmlns=\"http://www.w3.org/2000/svg\" height=\"24px\"viewBox=\"0 0 24 24\"\n",
              "     width=\"24px\">\n",
              "    <g>\n",
              "        <path d=\"M19 3H5c-1.1 0-2 .9-2 2v14c0 1.1.9 2 2 2h14c1.1 0 2-.9 2-2V5c0-1.1-.9-2-2-2zM9 17H7v-7h2v7zm4 0h-2V7h2v10zm4 0h-2v-4h2v4z\"/>\n",
              "    </g>\n",
              "</svg>\n",
              "  </button>\n",
              "\n",
              "<style>\n",
              "  .colab-df-quickchart {\n",
              "      --bg-color: #E8F0FE;\n",
              "      --fill-color: #1967D2;\n",
              "      --hover-bg-color: #E2EBFA;\n",
              "      --hover-fill-color: #174EA6;\n",
              "      --disabled-fill-color: #AAA;\n",
              "      --disabled-bg-color: #DDD;\n",
              "  }\n",
              "\n",
              "  [theme=dark] .colab-df-quickchart {\n",
              "      --bg-color: #3B4455;\n",
              "      --fill-color: #D2E3FC;\n",
              "      --hover-bg-color: #434B5C;\n",
              "      --hover-fill-color: #FFFFFF;\n",
              "      --disabled-bg-color: #3B4455;\n",
              "      --disabled-fill-color: #666;\n",
              "  }\n",
              "\n",
              "  .colab-df-quickchart {\n",
              "    background-color: var(--bg-color);\n",
              "    border: none;\n",
              "    border-radius: 50%;\n",
              "    cursor: pointer;\n",
              "    display: none;\n",
              "    fill: var(--fill-color);\n",
              "    height: 32px;\n",
              "    padding: 0;\n",
              "    width: 32px;\n",
              "  }\n",
              "\n",
              "  .colab-df-quickchart:hover {\n",
              "    background-color: var(--hover-bg-color);\n",
              "    box-shadow: 0 1px 2px rgba(60, 64, 67, 0.3), 0 1px 3px 1px rgba(60, 64, 67, 0.15);\n",
              "    fill: var(--button-hover-fill-color);\n",
              "  }\n",
              "\n",
              "  .colab-df-quickchart-complete:disabled,\n",
              "  .colab-df-quickchart-complete:disabled:hover {\n",
              "    background-color: var(--disabled-bg-color);\n",
              "    fill: var(--disabled-fill-color);\n",
              "    box-shadow: none;\n",
              "  }\n",
              "\n",
              "  .colab-df-spinner {\n",
              "    border: 2px solid var(--fill-color);\n",
              "    border-color: transparent;\n",
              "    border-bottom-color: var(--fill-color);\n",
              "    animation:\n",
              "      spin 1s steps(1) infinite;\n",
              "  }\n",
              "\n",
              "  @keyframes spin {\n",
              "    0% {\n",
              "      border-color: transparent;\n",
              "      border-bottom-color: var(--fill-color);\n",
              "      border-left-color: var(--fill-color);\n",
              "    }\n",
              "    20% {\n",
              "      border-color: transparent;\n",
              "      border-left-color: var(--fill-color);\n",
              "      border-top-color: var(--fill-color);\n",
              "    }\n",
              "    30% {\n",
              "      border-color: transparent;\n",
              "      border-left-color: var(--fill-color);\n",
              "      border-top-color: var(--fill-color);\n",
              "      border-right-color: var(--fill-color);\n",
              "    }\n",
              "    40% {\n",
              "      border-color: transparent;\n",
              "      border-right-color: var(--fill-color);\n",
              "      border-top-color: var(--fill-color);\n",
              "    }\n",
              "    60% {\n",
              "      border-color: transparent;\n",
              "      border-right-color: var(--fill-color);\n",
              "    }\n",
              "    80% {\n",
              "      border-color: transparent;\n",
              "      border-right-color: var(--fill-color);\n",
              "      border-bottom-color: var(--fill-color);\n",
              "    }\n",
              "    90% {\n",
              "      border-color: transparent;\n",
              "      border-bottom-color: var(--fill-color);\n",
              "    }\n",
              "  }\n",
              "</style>\n",
              "\n",
              "  <script>\n",
              "    async function quickchart(key) {\n",
              "      const quickchartButtonEl =\n",
              "        document.querySelector('#' + key + ' button');\n",
              "      quickchartButtonEl.disabled = true;  // To prevent multiple clicks.\n",
              "      quickchartButtonEl.classList.add('colab-df-spinner');\n",
              "      try {\n",
              "        const charts = await google.colab.kernel.invokeFunction(\n",
              "            'suggestCharts', [key], {});\n",
              "      } catch (error) {\n",
              "        console.error('Error during call to suggestCharts:', error);\n",
              "      }\n",
              "      quickchartButtonEl.classList.remove('colab-df-spinner');\n",
              "      quickchartButtonEl.classList.add('colab-df-quickchart-complete');\n",
              "    }\n",
              "    (() => {\n",
              "      let quickchartButtonEl =\n",
              "        document.querySelector('#df-4a311045-90a1-4b90-ae54-960879a6ab56 button');\n",
              "      quickchartButtonEl.style.display =\n",
              "        google.colab.kernel.accessAllowed ? 'block' : 'none';\n",
              "    })();\n",
              "  </script>\n",
              "</div>\n",
              "\n",
              "    </div>\n",
              "  </div>\n"
            ],
            "application/vnd.google.colaboratory.intrinsic+json": {
              "type": "dataframe",
              "variable_name": "df",
              "summary": "{\n  \"name\": \"df\",\n  \"rows\": 50000,\n  \"fields\": [\n    {\n      \"column\": \"review\",\n      \"properties\": {\n        \"dtype\": \"string\",\n        \"num_unique_values\": 49582,\n        \"samples\": [\n          \"Perhaps you won't care for the social commentary, or the film makers point of view (I myself am mystified at the \\u0091insignificance' angle Kasdan seemed to promote \\u0096 when clearly, the actions taken in the movie promote CERTAIN significance. The ending confused me). However, there's absolutely no denying the manner in which the story is presented; the magnificent symbolism throughout; the threaded character arcs; visuals; dialogue \\u0096 is absolute masterwork. I've watched the movie dozens of times, and I still marvel at its perfection. There's not a moment, action, cut, or line that doesn't have everything to do with the theme. Realistic human performances from all the actors. Scene to scene it's woven fantastically.<br /><br />I have a pretty level sap-meter. The buzzer never went off during this film. If you're a thinker (rather than a casual viewer) \\u0096 this movie delivers. Exponentially. Absolutely mesmerizing. (Do you have to agree with the message to appreciate the display? Who cares if it made you warm and fuzzy or not, was it interesting?)<br /><br />Personally, the movie affected me \\u0096 significantly. In my top 5.<br /><br />Note: The front-page reviewer clearly speaks from a flawed African American perception. What he may have failed to recognize, is, there was a hand \\u0096 shake. Not a hand - out. The \\u0091spiritually dead white man', simply saw a man to respect, and admire. And he did something about it. The fact he was black had little, if anything, to do with it (color is simply used to draw the parallel. And the chasm. It's no accident the opening sequence shifts from black and white to color either). If you view the blacks in this movie as \\u0091token' \\u0096 you may want to reassess YOUR angst. You may be seeing only black and white yourself, eh. Just a thought.\",\n          \"Good Folks, I stumbled on this film on evening while I was grading papers. My academic specialty is Anglo-Saxon literature, and I can say that no one has ever done the genre the honor it deserves. The Icelandic \\\"Beowulf and Grendel\\\" is the least offensive I have seen, and I did pay $3.00 for my copy. This Sci-Fi version ranks with the Christopher Lambert version. Yuck.<br /><br />What didn't I like? CGI for one. Amazingly bad. More importantly is the faithfulness to the storyline, not to mention the stilted acting. I am used to both with all the versions I have seen.<br /><br />Delighted Regardless, Peter\",\n          \"\\\"Tipping The Velvet\\\" is one of the modern day television productions that prove that some television can be just as good or even better(as this is) than what you see at your local theater. <br /><br />If you want to read the plot, read this and if you want other details skip down to the next paragraph. This is the unforgettable portrait of an unconventional young girl named Nan who works as a naive oyster girl,until she discovers her repressed homosexuality when she falls in love with a successful woman named Kitty who dresses as a male for her stage profession. The young girl soon joins the act as another male impersonator and they are a major hit. Soon the both of them embark on a tender affair. Kitty eventually becomes enveloped in a marriage of convenience and ravages young Nan's heart. From then on, Nan works as male impersonated prostitute to men looking to have sex with boys, then she becomes the private sex slave to the evil and sadomasochistic Diana where Nan experiences severe emotional abuse. When that ends badly, Nan is on the streets again where she recalls a young woman named Florence; a good-hearted socialist who had the true potential of being a wonderful partner. That's where Nan will discover the power of socialism and learn how to get back to fame. <br /><br />The region 1 transfer is of exceptional picture quality, there is a very good scene selection, an eloquent photo gallery and a fun interview between novelist Sara Waters and the film's writer Andrew Davies. <br /><br />The sets, costumes, cinematography and music are gorgeous. The acting, writing and directing are extremely strong and filled with realism, class and originality. I loved the film and the novel. Section III in the film is much different in the film than in the novel, because section III in the novel is great written down, but isn't screen material. I will be brave and say that I love the films interpretation of it much more. <br /><br />This breathtaking historical ingeniously combines Drama, Comedy, Erotica and Romance to vibrant perfection in a way that is both deeply moving and spiritually uplifting. For every mature and open-minded adult who has ever felt the pleasures, pains and power of falling in love and living life to it's fullest. A revolutionary production; an absolute must-see!\"\n        ],\n        \"semantic_type\": \"\",\n        \"description\": \"\"\n      }\n    },\n    {\n      \"column\": \"sentiment\",\n      \"properties\": {\n        \"dtype\": \"number\",\n        \"std\": 0,\n        \"min\": 0,\n        \"max\": 1,\n        \"num_unique_values\": 2,\n        \"samples\": [\n          0,\n          1\n        ],\n        \"semantic_type\": \"\",\n        \"description\": \"\"\n      }\n    }\n  ]\n}"
            }
          },
          "metadata": {},
          "execution_count": 6
        }
      ]
    },
    {
      "cell_type": "code",
      "source": [
        "stop_words=stopwords.words('english')\n",
        "lemma=WordNetLemmatizer()\n",
        "print(f\"Lemmatizer Result : {lemma.lemmatize('butterflies')}\")\n",
        "print(f'Stopwords Result: {stop_words}')"
      ],
      "metadata": {
        "colab": {
          "base_uri": "https://localhost:8080/"
        },
        "id": "I8BMKGo5gYHj",
        "outputId": "ed857217-3b26-4b96-8b93-d5c30425a30a"
      },
      "execution_count": 7,
      "outputs": [
        {
          "output_type": "stream",
          "name": "stdout",
          "text": [
            "Lemmatizer Result : butterfly\n",
            "Stopwords Result: ['i', 'me', 'my', 'myself', 'we', 'our', 'ours', 'ourselves', 'you', \"you're\", \"you've\", \"you'll\", \"you'd\", 'your', 'yours', 'yourself', 'yourselves', 'he', 'him', 'his', 'himself', 'she', \"she's\", 'her', 'hers', 'herself', 'it', \"it's\", 'its', 'itself', 'they', 'them', 'their', 'theirs', 'themselves', 'what', 'which', 'who', 'whom', 'this', 'that', \"that'll\", 'these', 'those', 'am', 'is', 'are', 'was', 'were', 'be', 'been', 'being', 'have', 'has', 'had', 'having', 'do', 'does', 'did', 'doing', 'a', 'an', 'the', 'and', 'but', 'if', 'or', 'because', 'as', 'until', 'while', 'of', 'at', 'by', 'for', 'with', 'about', 'against', 'between', 'into', 'through', 'during', 'before', 'after', 'above', 'below', 'to', 'from', 'up', 'down', 'in', 'out', 'on', 'off', 'over', 'under', 'again', 'further', 'then', 'once', 'here', 'there', 'when', 'where', 'why', 'how', 'all', 'any', 'both', 'each', 'few', 'more', 'most', 'other', 'some', 'such', 'no', 'nor', 'not', 'only', 'own', 'same', 'so', 'than', 'too', 'very', 's', 't', 'can', 'will', 'just', 'don', \"don't\", 'should', \"should've\", 'now', 'd', 'll', 'm', 'o', 're', 've', 'y', 'ain', 'aren', \"aren't\", 'couldn', \"couldn't\", 'didn', \"didn't\", 'doesn', \"doesn't\", 'hadn', \"hadn't\", 'hasn', \"hasn't\", 'haven', \"haven't\", 'isn', \"isn't\", 'ma', 'mightn', \"mightn't\", 'mustn', \"mustn't\", 'needn', \"needn't\", 'shan', \"shan't\", 'shouldn', \"shouldn't\", 'wasn', \"wasn't\", 'weren', \"weren't\", 'won', \"won't\", 'wouldn', \"wouldn't\"]\n"
          ]
        }
      ]
    },
    {
      "cell_type": "code",
      "source": [
        "sample_data=df.sample(4000)\n",
        "sample_data['sentiment'].value_counts()"
      ],
      "metadata": {
        "colab": {
          "base_uri": "https://localhost:8080/",
          "height": 178
        },
        "id": "x53ik9rihY8l",
        "outputId": "b72aa4bd-f978-45ce-afcd-337675d56e1e"
      },
      "execution_count": 8,
      "outputs": [
        {
          "output_type": "execute_result",
          "data": {
            "text/plain": [
              "sentiment\n",
              "1    2003\n",
              "0    1997\n",
              "Name: count, dtype: int64"
            ],
            "text/html": [
              "<div>\n",
              "<style scoped>\n",
              "    .dataframe tbody tr th:only-of-type {\n",
              "        vertical-align: middle;\n",
              "    }\n",
              "\n",
              "    .dataframe tbody tr th {\n",
              "        vertical-align: top;\n",
              "    }\n",
              "\n",
              "    .dataframe thead th {\n",
              "        text-align: right;\n",
              "    }\n",
              "</style>\n",
              "<table border=\"1\" class=\"dataframe\">\n",
              "  <thead>\n",
              "    <tr style=\"text-align: right;\">\n",
              "      <th></th>\n",
              "      <th>count</th>\n",
              "    </tr>\n",
              "    <tr>\n",
              "      <th>sentiment</th>\n",
              "      <th></th>\n",
              "    </tr>\n",
              "  </thead>\n",
              "  <tbody>\n",
              "    <tr>\n",
              "      <th>1</th>\n",
              "      <td>2003</td>\n",
              "    </tr>\n",
              "    <tr>\n",
              "      <th>0</th>\n",
              "      <td>1997</td>\n",
              "    </tr>\n",
              "  </tbody>\n",
              "</table>\n",
              "</div><br><label><b>dtype:</b> int64</label>"
            ]
          },
          "metadata": {},
          "execution_count": 8
        }
      ]
    },
    {
      "cell_type": "code",
      "source": [
        "# Upon analysing above data we can see that its not imbalanced dataset as i picked this version on purpose so there will not be any problem ahead"
      ],
      "metadata": {
        "id": "RQ_GnnuzkfR5"
      },
      "execution_count": 9,
      "outputs": []
    },
    {
      "cell_type": "code",
      "source": [
        "def preprocess(text):\n",
        "    text = re.sub(r'<[^>]+>', '', text)\n",
        "    text = re.sub(r'[^a-z\\s]', '', text, flags=re.IGNORECASE)\n",
        "    text=[lemma.lemmatize(token.lower()) for token in word_tokenize(text) if token not in stop_words]\n",
        "    return \" \".join(text)\n",
        "\n",
        "sample_data['cleaned']=sample_data['review'].apply(preprocess)"
      ],
      "metadata": {
        "id": "M_SK-3LGlE3u"
      },
      "execution_count": 10,
      "outputs": []
    },
    {
      "cell_type": "code",
      "source": [
        "sample_data.reset_index(inplace=True,drop=True)\n",
        "sample_data.head(7)"
      ],
      "metadata": {
        "colab": {
          "base_uri": "https://localhost:8080/",
          "height": 269
        },
        "id": "tl_ZMtalnPl1",
        "outputId": "3c28ed41-cf76-4eb4-b65d-6665be0f7dc9"
      },
      "execution_count": 11,
      "outputs": [
        {
          "output_type": "execute_result",
          "data": {
            "text/plain": [
              "                                              review  sentiment  \\\n",
              "0  The idea for the movie wasn't too bad: a horro...          0   \n",
              "1  Somebody owes Ang Lee an apology. Actually, a ...          0   \n",
              "2  This game is very good for the n64. You can sk...          1   \n",
              "3  B. Kennedy tried to make a sequel by exaggerat...          0   \n",
              "4  From the very beginning, the political theme o...          0   \n",
              "5  i couldn't help but think of behind the mask: ...          0   \n",
              "6  Such a pretentious and lame attempt to hipness...          0   \n",
              "\n",
              "                                             cleaned  \n",
              "0  the idea movie wasnt bad horror film shot corn...  \n",
              "1  somebody owes ang lee apology actually lot peo...  \n",
              "2  this game good n you skate tony hawk bob burnq...  \n",
              "3  b kennedy tried make sequel exaggerating ampli...  \n",
              "4  from beginning political theme film obvious he...  \n",
              "5  couldnt help think behind mask rise leslie ver...  \n",
              "6  such pretentious lame attempt hipness diabolic...  "
            ],
            "text/html": [
              "\n",
              "  <div id=\"df-0f4645e4-0f4a-4931-8434-83e5ea50af27\" class=\"colab-df-container\">\n",
              "    <div>\n",
              "<style scoped>\n",
              "    .dataframe tbody tr th:only-of-type {\n",
              "        vertical-align: middle;\n",
              "    }\n",
              "\n",
              "    .dataframe tbody tr th {\n",
              "        vertical-align: top;\n",
              "    }\n",
              "\n",
              "    .dataframe thead th {\n",
              "        text-align: right;\n",
              "    }\n",
              "</style>\n",
              "<table border=\"1\" class=\"dataframe\">\n",
              "  <thead>\n",
              "    <tr style=\"text-align: right;\">\n",
              "      <th></th>\n",
              "      <th>review</th>\n",
              "      <th>sentiment</th>\n",
              "      <th>cleaned</th>\n",
              "    </tr>\n",
              "  </thead>\n",
              "  <tbody>\n",
              "    <tr>\n",
              "      <th>0</th>\n",
              "      <td>The idea for the movie wasn't too bad: a horro...</td>\n",
              "      <td>0</td>\n",
              "      <td>the idea movie wasnt bad horror film shot corn...</td>\n",
              "    </tr>\n",
              "    <tr>\n",
              "      <th>1</th>\n",
              "      <td>Somebody owes Ang Lee an apology. Actually, a ...</td>\n",
              "      <td>0</td>\n",
              "      <td>somebody owes ang lee apology actually lot peo...</td>\n",
              "    </tr>\n",
              "    <tr>\n",
              "      <th>2</th>\n",
              "      <td>This game is very good for the n64. You can sk...</td>\n",
              "      <td>1</td>\n",
              "      <td>this game good n you skate tony hawk bob burnq...</td>\n",
              "    </tr>\n",
              "    <tr>\n",
              "      <th>3</th>\n",
              "      <td>B. Kennedy tried to make a sequel by exaggerat...</td>\n",
              "      <td>0</td>\n",
              "      <td>b kennedy tried make sequel exaggerating ampli...</td>\n",
              "    </tr>\n",
              "    <tr>\n",
              "      <th>4</th>\n",
              "      <td>From the very beginning, the political theme o...</td>\n",
              "      <td>0</td>\n",
              "      <td>from beginning political theme film obvious he...</td>\n",
              "    </tr>\n",
              "    <tr>\n",
              "      <th>5</th>\n",
              "      <td>i couldn't help but think of behind the mask: ...</td>\n",
              "      <td>0</td>\n",
              "      <td>couldnt help think behind mask rise leslie ver...</td>\n",
              "    </tr>\n",
              "    <tr>\n",
              "      <th>6</th>\n",
              "      <td>Such a pretentious and lame attempt to hipness...</td>\n",
              "      <td>0</td>\n",
              "      <td>such pretentious lame attempt hipness diabolic...</td>\n",
              "    </tr>\n",
              "  </tbody>\n",
              "</table>\n",
              "</div>\n",
              "    <div class=\"colab-df-buttons\">\n",
              "\n",
              "  <div class=\"colab-df-container\">\n",
              "    <button class=\"colab-df-convert\" onclick=\"convertToInteractive('df-0f4645e4-0f4a-4931-8434-83e5ea50af27')\"\n",
              "            title=\"Convert this dataframe to an interactive table.\"\n",
              "            style=\"display:none;\">\n",
              "\n",
              "  <svg xmlns=\"http://www.w3.org/2000/svg\" height=\"24px\" viewBox=\"0 -960 960 960\">\n",
              "    <path d=\"M120-120v-720h720v720H120Zm60-500h600v-160H180v160Zm220 220h160v-160H400v160Zm0 220h160v-160H400v160ZM180-400h160v-160H180v160Zm440 0h160v-160H620v160ZM180-180h160v-160H180v160Zm440 0h160v-160H620v160Z\"/>\n",
              "  </svg>\n",
              "    </button>\n",
              "\n",
              "  <style>\n",
              "    .colab-df-container {\n",
              "      display:flex;\n",
              "      gap: 12px;\n",
              "    }\n",
              "\n",
              "    .colab-df-convert {\n",
              "      background-color: #E8F0FE;\n",
              "      border: none;\n",
              "      border-radius: 50%;\n",
              "      cursor: pointer;\n",
              "      display: none;\n",
              "      fill: #1967D2;\n",
              "      height: 32px;\n",
              "      padding: 0 0 0 0;\n",
              "      width: 32px;\n",
              "    }\n",
              "\n",
              "    .colab-df-convert:hover {\n",
              "      background-color: #E2EBFA;\n",
              "      box-shadow: 0px 1px 2px rgba(60, 64, 67, 0.3), 0px 1px 3px 1px rgba(60, 64, 67, 0.15);\n",
              "      fill: #174EA6;\n",
              "    }\n",
              "\n",
              "    .colab-df-buttons div {\n",
              "      margin-bottom: 4px;\n",
              "    }\n",
              "\n",
              "    [theme=dark] .colab-df-convert {\n",
              "      background-color: #3B4455;\n",
              "      fill: #D2E3FC;\n",
              "    }\n",
              "\n",
              "    [theme=dark] .colab-df-convert:hover {\n",
              "      background-color: #434B5C;\n",
              "      box-shadow: 0px 1px 3px 1px rgba(0, 0, 0, 0.15);\n",
              "      filter: drop-shadow(0px 1px 2px rgba(0, 0, 0, 0.3));\n",
              "      fill: #FFFFFF;\n",
              "    }\n",
              "  </style>\n",
              "\n",
              "    <script>\n",
              "      const buttonEl =\n",
              "        document.querySelector('#df-0f4645e4-0f4a-4931-8434-83e5ea50af27 button.colab-df-convert');\n",
              "      buttonEl.style.display =\n",
              "        google.colab.kernel.accessAllowed ? 'block' : 'none';\n",
              "\n",
              "      async function convertToInteractive(key) {\n",
              "        const element = document.querySelector('#df-0f4645e4-0f4a-4931-8434-83e5ea50af27');\n",
              "        const dataTable =\n",
              "          await google.colab.kernel.invokeFunction('convertToInteractive',\n",
              "                                                    [key], {});\n",
              "        if (!dataTable) return;\n",
              "\n",
              "        const docLinkHtml = 'Like what you see? Visit the ' +\n",
              "          '<a target=\"_blank\" href=https://colab.research.google.com/notebooks/data_table.ipynb>data table notebook</a>'\n",
              "          + ' to learn more about interactive tables.';\n",
              "        element.innerHTML = '';\n",
              "        dataTable['output_type'] = 'display_data';\n",
              "        await google.colab.output.renderOutput(dataTable, element);\n",
              "        const docLink = document.createElement('div');\n",
              "        docLink.innerHTML = docLinkHtml;\n",
              "        element.appendChild(docLink);\n",
              "      }\n",
              "    </script>\n",
              "  </div>\n",
              "\n",
              "\n",
              "<div id=\"df-afd50972-6447-4611-bcc1-c1fe2f887cf4\">\n",
              "  <button class=\"colab-df-quickchart\" onclick=\"quickchart('df-afd50972-6447-4611-bcc1-c1fe2f887cf4')\"\n",
              "            title=\"Suggest charts\"\n",
              "            style=\"display:none;\">\n",
              "\n",
              "<svg xmlns=\"http://www.w3.org/2000/svg\" height=\"24px\"viewBox=\"0 0 24 24\"\n",
              "     width=\"24px\">\n",
              "    <g>\n",
              "        <path d=\"M19 3H5c-1.1 0-2 .9-2 2v14c0 1.1.9 2 2 2h14c1.1 0 2-.9 2-2V5c0-1.1-.9-2-2-2zM9 17H7v-7h2v7zm4 0h-2V7h2v10zm4 0h-2v-4h2v4z\"/>\n",
              "    </g>\n",
              "</svg>\n",
              "  </button>\n",
              "\n",
              "<style>\n",
              "  .colab-df-quickchart {\n",
              "      --bg-color: #E8F0FE;\n",
              "      --fill-color: #1967D2;\n",
              "      --hover-bg-color: #E2EBFA;\n",
              "      --hover-fill-color: #174EA6;\n",
              "      --disabled-fill-color: #AAA;\n",
              "      --disabled-bg-color: #DDD;\n",
              "  }\n",
              "\n",
              "  [theme=dark] .colab-df-quickchart {\n",
              "      --bg-color: #3B4455;\n",
              "      --fill-color: #D2E3FC;\n",
              "      --hover-bg-color: #434B5C;\n",
              "      --hover-fill-color: #FFFFFF;\n",
              "      --disabled-bg-color: #3B4455;\n",
              "      --disabled-fill-color: #666;\n",
              "  }\n",
              "\n",
              "  .colab-df-quickchart {\n",
              "    background-color: var(--bg-color);\n",
              "    border: none;\n",
              "    border-radius: 50%;\n",
              "    cursor: pointer;\n",
              "    display: none;\n",
              "    fill: var(--fill-color);\n",
              "    height: 32px;\n",
              "    padding: 0;\n",
              "    width: 32px;\n",
              "  }\n",
              "\n",
              "  .colab-df-quickchart:hover {\n",
              "    background-color: var(--hover-bg-color);\n",
              "    box-shadow: 0 1px 2px rgba(60, 64, 67, 0.3), 0 1px 3px 1px rgba(60, 64, 67, 0.15);\n",
              "    fill: var(--button-hover-fill-color);\n",
              "  }\n",
              "\n",
              "  .colab-df-quickchart-complete:disabled,\n",
              "  .colab-df-quickchart-complete:disabled:hover {\n",
              "    background-color: var(--disabled-bg-color);\n",
              "    fill: var(--disabled-fill-color);\n",
              "    box-shadow: none;\n",
              "  }\n",
              "\n",
              "  .colab-df-spinner {\n",
              "    border: 2px solid var(--fill-color);\n",
              "    border-color: transparent;\n",
              "    border-bottom-color: var(--fill-color);\n",
              "    animation:\n",
              "      spin 1s steps(1) infinite;\n",
              "  }\n",
              "\n",
              "  @keyframes spin {\n",
              "    0% {\n",
              "      border-color: transparent;\n",
              "      border-bottom-color: var(--fill-color);\n",
              "      border-left-color: var(--fill-color);\n",
              "    }\n",
              "    20% {\n",
              "      border-color: transparent;\n",
              "      border-left-color: var(--fill-color);\n",
              "      border-top-color: var(--fill-color);\n",
              "    }\n",
              "    30% {\n",
              "      border-color: transparent;\n",
              "      border-left-color: var(--fill-color);\n",
              "      border-top-color: var(--fill-color);\n",
              "      border-right-color: var(--fill-color);\n",
              "    }\n",
              "    40% {\n",
              "      border-color: transparent;\n",
              "      border-right-color: var(--fill-color);\n",
              "      border-top-color: var(--fill-color);\n",
              "    }\n",
              "    60% {\n",
              "      border-color: transparent;\n",
              "      border-right-color: var(--fill-color);\n",
              "    }\n",
              "    80% {\n",
              "      border-color: transparent;\n",
              "      border-right-color: var(--fill-color);\n",
              "      border-bottom-color: var(--fill-color);\n",
              "    }\n",
              "    90% {\n",
              "      border-color: transparent;\n",
              "      border-bottom-color: var(--fill-color);\n",
              "    }\n",
              "  }\n",
              "</style>\n",
              "\n",
              "  <script>\n",
              "    async function quickchart(key) {\n",
              "      const quickchartButtonEl =\n",
              "        document.querySelector('#' + key + ' button');\n",
              "      quickchartButtonEl.disabled = true;  // To prevent multiple clicks.\n",
              "      quickchartButtonEl.classList.add('colab-df-spinner');\n",
              "      try {\n",
              "        const charts = await google.colab.kernel.invokeFunction(\n",
              "            'suggestCharts', [key], {});\n",
              "      } catch (error) {\n",
              "        console.error('Error during call to suggestCharts:', error);\n",
              "      }\n",
              "      quickchartButtonEl.classList.remove('colab-df-spinner');\n",
              "      quickchartButtonEl.classList.add('colab-df-quickchart-complete');\n",
              "    }\n",
              "    (() => {\n",
              "      let quickchartButtonEl =\n",
              "        document.querySelector('#df-afd50972-6447-4611-bcc1-c1fe2f887cf4 button');\n",
              "      quickchartButtonEl.style.display =\n",
              "        google.colab.kernel.accessAllowed ? 'block' : 'none';\n",
              "    })();\n",
              "  </script>\n",
              "</div>\n",
              "\n",
              "    </div>\n",
              "  </div>\n"
            ],
            "application/vnd.google.colaboratory.intrinsic+json": {
              "type": "dataframe",
              "variable_name": "sample_data",
              "summary": "{\n  \"name\": \"sample_data\",\n  \"rows\": 4000,\n  \"fields\": [\n    {\n      \"column\": \"review\",\n      \"properties\": {\n        \"dtype\": \"string\",\n        \"num_unique_values\": 3994,\n        \"samples\": [\n          \"I found a DVD of \\\"I Dream Of Jeanie\\\" in the $1.00 bin at Wal-Mart. When I saw that it was the \\\"story of Stephen Foster\\\", being a musician and music educator, I had to see it. I had no idea what year it was made for it did not say on the cover, just that it was a remake of 1939's \\\"Sewanee River\\\". Bill Shirley's portrayal of the composer is sometimes painful, sometimes laughable. The man has NO testosterone and is a wimp all the way through! I have a difficult time believing Stephen Foster thought music publishers were doing him a favor by publishing his songs...without paying him for them! In addition to that ridiculous notion, there is a nearly 20 minute segment of Ray Middleton and his black-faced \\\"Christy Minstrels\\\" performing Stephen Foster's songs that was difficult to watch, to say the least. I can hardly believe anyone would consider this movie appropriate to resurrect in our current time. It is an embarrassment and should remain forgotten. Fortunately, Stephen Foster's songs will NEVER be forgotten....also, Eileen Christy's portrayal of Jeanie was certainly the highest point in this lowest point of Hollywood history.\",\n          \"The good fellas at Webster's Dictionary define Logophobia as the \\u0091fear of words'. I may just be Logophobic. For no word combination scares me more than when at the beginning of a film, credits contain the words `Produced, Written and Directed by:', and are followed by a single individual's name. Think about it. There are carpenters, electricians and plumbers, but so few jack-of-all-trades. Even the most seasoned of directors like Speilberg and Scorsese rarely take such control of their films. But there I was, all nestled in my theatre seat, popcorn in hand and about to watch The Order when hurled at me like a Nolan Ryan fastball, were the words `Produced, Written and Directed by Brian Helgeland'. Whoa! <br /><br />Being a film buff, I knew of Brian Helgeland. As a writer his filmograpghy over the past 10 years would be graphed like a dotcom company's stock price in 1998. There were as many theatrical unpleasantries (Assassins, The Postman, Conspiracy Theory) as there were critical and award winning successes (L.A. Confidential, Mystic River). They seemed to alternate \\u0096 one good, one bad, so knowing that his last film, BloodWork was one of the most wasted efforts in Clint Eastwood's career, I took a breath and hoped for the best. In retrospect, I should not have exhaled. <br /><br />The Order stars Heath Ledger (Helgeland's A Knights Tale), as Alex Bernier, a priest in an order known as the Carolingians, who is summoned to Rome when a fellow priest is killed under circumstances that the Arch Bishop deems \\u0091curious'. Meeting up with Father Thomas (also of the Order and played wonderfully by Still Standings' Mark Addy), they set out to piece together the riddle left behind in the wake of the priest's untimely death.<br /><br />Complicating matters is a sub plot involving Mara Sinclair (played by Shannyn Sossamon) who has escaped from an institution that was the result of her attempts to kill Alex during an exorcism. Alex has feelings towards Mara and for some reason unbeknownst to the audience, they travel to Rome together.<br /><br />Nary a good nights sleep goes by and Alex is confronted by William Eden (Benno F\\u00fcrmann) who claims to be a centuries old Sin Eater. A Sin Eater, as we are told, are those that eat the sins of a dying individual when the church does not, thus allowing entrance into Heaven. William, as luck would have it, is tired of a life of healing and looks for Alex to take over his role and free him from his worldly duties. Alex is reluctant, but after the death of his new love Mara, Alex resorts to the ritual of the Sin Eater to save her and the transformation is complete. Alex then searches for answers to his many queries while Father Thomas unveils the Vatican plot behind the passing of authority to his fellow investigator. <br /><br />The Order is not a terrible film, but it is terribly boring. There were ridiculous special effects and no connection with any of the characters. Even in the most dramatic scene - that of Alex walking in on the dying Mara - is pale and bland and leaves us with no emotional response towards the couple's plight. Everybody seems to talk so quietly and unemotionally that the film flat lines and smelling salts could have been administered to keep me from trying to grab a quick nap in the middle of the film.<br /><br />So, Mr. Helgeland, I plead with you not to try this again. Share your vision with others and allow those more experienced to help direct you in directions that are not so narrow minded and self-serving. Until then, there is nothing emanating that shows you are capable of anything more than a failing grade. Two stars.<br /><br />\",\n          \"The sequel to the ever popular Cinderella story reminded me somewhat of what they did with one of the Beauty & the Beast movies. It's basically three short stories rolled into 1.<br /><br />OK, the mice are adorable (I love Gus! He's sooo cute!), and Lucifer's awesome (as usual). I liked some of the newer characters as well, (Pom Pom was adorable and I did like Prudence.). Still, the storyline was somewhat limited, but still very cute. So, I vote 7/10.\"\n        ],\n        \"semantic_type\": \"\",\n        \"description\": \"\"\n      }\n    },\n    {\n      \"column\": \"sentiment\",\n      \"properties\": {\n        \"dtype\": \"number\",\n        \"std\": 0,\n        \"min\": 0,\n        \"max\": 1,\n        \"num_unique_values\": 2,\n        \"samples\": [\n          1,\n          0\n        ],\n        \"semantic_type\": \"\",\n        \"description\": \"\"\n      }\n    },\n    {\n      \"column\": \"cleaned\",\n      \"properties\": {\n        \"dtype\": \"string\",\n        \"num_unique_values\": 3994,\n        \"samples\": [\n          \"i found dvd i dream of jeanie bin walmart when i saw story stephen foster musician music educator i see i idea year made say cover remake sewanee river bill shirleys portrayal composer sometimes painful sometimes laughable the man no testosterone wimp way i difficult time believing stephen foster thought music publisher favor publishing songswithout paying in addition ridiculous notion nearly minute segment ray middleton blackfaced christy minstrel performing stephen foster song difficult watch say least i hardly believe anyone would consider movie appropriate resurrect current time it embarrassment remain forgotten fortunately stephen foster song never forgottenalso eileen christys portrayal jeanie certainly highest point lowest point hollywood history\",\n          \"the good fella webster dictionary define logophobia fear word i may logophobic for word combination scare beginning film credit contain word produced written directed followed single individual name think there carpenter electrician plumber jackofalltrades even seasoned director like speilberg scorsese rarely take control film but i nestled theatre seat popcorn hand watch the order hurled like nolan ryan fastball word produced written directed brian helgeland whoa being film buff i knew brian helgeland a writer filmograpghy past year would graphed like dotcom company stock price there many theatrical unpleasantries assassin the postman conspiracy theory critical award winning success la confidential mystic river they seemed alternate one good one bad knowing last film bloodwork one wasted effort clint eastwoods career i took breath hoped best in retrospect i exhaled the order star heath ledger helgelands a knight tale alex bernier priest order known carolingian summoned rome fellow priest killed circumstance arch bishop deems curious meeting father thomas also order played wonderfully still standing mark addy set piece together riddle left behind wake priest untimely deathcomplicating matter sub plot involving mara sinclair played shannyn sossamon escaped institution result attempt kill alex exorcism alex feeling towards mara reason unbeknownst audience travel rome togethernary good night sleep go alex confronted william eden benno frmann claim century old sin eater a sin eater told eat sin dying individual church thus allowing entrance heaven william luck would tired life healing look alex take role free worldly duty alex reluctant death new love mara alex resort ritual sin eater save transformation complete alex search answer many query father thomas unveils vatican plot behind passing authority fellow investigator the order terrible film terribly boring there ridiculous special effect connection character even dramatic scene alex walking dying mara pale bland leaf u emotional response towards couple plight everybody seems talk quietly unemotionally film flat line smelling salt could administered keep trying grab quick nap middle filmso mr helgeland i plead try share vision others allow experienced help direct direction narrow minded selfserving until nothing emanating show capable anything failing grade two star\"\n        ],\n        \"semantic_type\": \"\",\n        \"description\": \"\"\n      }\n    }\n  ]\n}"
            }
          },
          "metadata": {},
          "execution_count": 11
        }
      ]
    },
    {
      "cell_type": "code",
      "source": [
        "#  so this looks good as its not imbalanced dataset\n",
        "\n",
        "train_data,test_data=train_test_split(sample_data,random_state=42,test_size=0.3,shuffle=True)\n",
        "pd.DataFrame({\"train\":train_data['sentiment'].value_counts().to_dict(),\"Test\" :test_data['sentiment'].value_counts().to_dict()})"
      ],
      "metadata": {
        "colab": {
          "base_uri": "https://localhost:8080/",
          "height": 112
        },
        "id": "azVFk4dbnEty",
        "outputId": "9423d00a-956f-40f1-81ae-38773289acbc"
      },
      "execution_count": 12,
      "outputs": [
        {
          "output_type": "execute_result",
          "data": {
            "text/plain": [
              "   train  Test\n",
              "1   1407   596\n",
              "0   1393   604"
            ],
            "text/html": [
              "\n",
              "  <div id=\"df-5753d5e5-9ccc-43a1-9eb0-50b68d8dff0c\" class=\"colab-df-container\">\n",
              "    <div>\n",
              "<style scoped>\n",
              "    .dataframe tbody tr th:only-of-type {\n",
              "        vertical-align: middle;\n",
              "    }\n",
              "\n",
              "    .dataframe tbody tr th {\n",
              "        vertical-align: top;\n",
              "    }\n",
              "\n",
              "    .dataframe thead th {\n",
              "        text-align: right;\n",
              "    }\n",
              "</style>\n",
              "<table border=\"1\" class=\"dataframe\">\n",
              "  <thead>\n",
              "    <tr style=\"text-align: right;\">\n",
              "      <th></th>\n",
              "      <th>train</th>\n",
              "      <th>Test</th>\n",
              "    </tr>\n",
              "  </thead>\n",
              "  <tbody>\n",
              "    <tr>\n",
              "      <th>1</th>\n",
              "      <td>1407</td>\n",
              "      <td>596</td>\n",
              "    </tr>\n",
              "    <tr>\n",
              "      <th>0</th>\n",
              "      <td>1393</td>\n",
              "      <td>604</td>\n",
              "    </tr>\n",
              "  </tbody>\n",
              "</table>\n",
              "</div>\n",
              "    <div class=\"colab-df-buttons\">\n",
              "\n",
              "  <div class=\"colab-df-container\">\n",
              "    <button class=\"colab-df-convert\" onclick=\"convertToInteractive('df-5753d5e5-9ccc-43a1-9eb0-50b68d8dff0c')\"\n",
              "            title=\"Convert this dataframe to an interactive table.\"\n",
              "            style=\"display:none;\">\n",
              "\n",
              "  <svg xmlns=\"http://www.w3.org/2000/svg\" height=\"24px\" viewBox=\"0 -960 960 960\">\n",
              "    <path d=\"M120-120v-720h720v720H120Zm60-500h600v-160H180v160Zm220 220h160v-160H400v160Zm0 220h160v-160H400v160ZM180-400h160v-160H180v160Zm440 0h160v-160H620v160ZM180-180h160v-160H180v160Zm440 0h160v-160H620v160Z\"/>\n",
              "  </svg>\n",
              "    </button>\n",
              "\n",
              "  <style>\n",
              "    .colab-df-container {\n",
              "      display:flex;\n",
              "      gap: 12px;\n",
              "    }\n",
              "\n",
              "    .colab-df-convert {\n",
              "      background-color: #E8F0FE;\n",
              "      border: none;\n",
              "      border-radius: 50%;\n",
              "      cursor: pointer;\n",
              "      display: none;\n",
              "      fill: #1967D2;\n",
              "      height: 32px;\n",
              "      padding: 0 0 0 0;\n",
              "      width: 32px;\n",
              "    }\n",
              "\n",
              "    .colab-df-convert:hover {\n",
              "      background-color: #E2EBFA;\n",
              "      box-shadow: 0px 1px 2px rgba(60, 64, 67, 0.3), 0px 1px 3px 1px rgba(60, 64, 67, 0.15);\n",
              "      fill: #174EA6;\n",
              "    }\n",
              "\n",
              "    .colab-df-buttons div {\n",
              "      margin-bottom: 4px;\n",
              "    }\n",
              "\n",
              "    [theme=dark] .colab-df-convert {\n",
              "      background-color: #3B4455;\n",
              "      fill: #D2E3FC;\n",
              "    }\n",
              "\n",
              "    [theme=dark] .colab-df-convert:hover {\n",
              "      background-color: #434B5C;\n",
              "      box-shadow: 0px 1px 3px 1px rgba(0, 0, 0, 0.15);\n",
              "      filter: drop-shadow(0px 1px 2px rgba(0, 0, 0, 0.3));\n",
              "      fill: #FFFFFF;\n",
              "    }\n",
              "  </style>\n",
              "\n",
              "    <script>\n",
              "      const buttonEl =\n",
              "        document.querySelector('#df-5753d5e5-9ccc-43a1-9eb0-50b68d8dff0c button.colab-df-convert');\n",
              "      buttonEl.style.display =\n",
              "        google.colab.kernel.accessAllowed ? 'block' : 'none';\n",
              "\n",
              "      async function convertToInteractive(key) {\n",
              "        const element = document.querySelector('#df-5753d5e5-9ccc-43a1-9eb0-50b68d8dff0c');\n",
              "        const dataTable =\n",
              "          await google.colab.kernel.invokeFunction('convertToInteractive',\n",
              "                                                    [key], {});\n",
              "        if (!dataTable) return;\n",
              "\n",
              "        const docLinkHtml = 'Like what you see? Visit the ' +\n",
              "          '<a target=\"_blank\" href=https://colab.research.google.com/notebooks/data_table.ipynb>data table notebook</a>'\n",
              "          + ' to learn more about interactive tables.';\n",
              "        element.innerHTML = '';\n",
              "        dataTable['output_type'] = 'display_data';\n",
              "        await google.colab.output.renderOutput(dataTable, element);\n",
              "        const docLink = document.createElement('div');\n",
              "        docLink.innerHTML = docLinkHtml;\n",
              "        element.appendChild(docLink);\n",
              "      }\n",
              "    </script>\n",
              "  </div>\n",
              "\n",
              "\n",
              "<div id=\"df-8aab9959-7b61-4f5a-a017-0c60d010abf1\">\n",
              "  <button class=\"colab-df-quickchart\" onclick=\"quickchart('df-8aab9959-7b61-4f5a-a017-0c60d010abf1')\"\n",
              "            title=\"Suggest charts\"\n",
              "            style=\"display:none;\">\n",
              "\n",
              "<svg xmlns=\"http://www.w3.org/2000/svg\" height=\"24px\"viewBox=\"0 0 24 24\"\n",
              "     width=\"24px\">\n",
              "    <g>\n",
              "        <path d=\"M19 3H5c-1.1 0-2 .9-2 2v14c0 1.1.9 2 2 2h14c1.1 0 2-.9 2-2V5c0-1.1-.9-2-2-2zM9 17H7v-7h2v7zm4 0h-2V7h2v10zm4 0h-2v-4h2v4z\"/>\n",
              "    </g>\n",
              "</svg>\n",
              "  </button>\n",
              "\n",
              "<style>\n",
              "  .colab-df-quickchart {\n",
              "      --bg-color: #E8F0FE;\n",
              "      --fill-color: #1967D2;\n",
              "      --hover-bg-color: #E2EBFA;\n",
              "      --hover-fill-color: #174EA6;\n",
              "      --disabled-fill-color: #AAA;\n",
              "      --disabled-bg-color: #DDD;\n",
              "  }\n",
              "\n",
              "  [theme=dark] .colab-df-quickchart {\n",
              "      --bg-color: #3B4455;\n",
              "      --fill-color: #D2E3FC;\n",
              "      --hover-bg-color: #434B5C;\n",
              "      --hover-fill-color: #FFFFFF;\n",
              "      --disabled-bg-color: #3B4455;\n",
              "      --disabled-fill-color: #666;\n",
              "  }\n",
              "\n",
              "  .colab-df-quickchart {\n",
              "    background-color: var(--bg-color);\n",
              "    border: none;\n",
              "    border-radius: 50%;\n",
              "    cursor: pointer;\n",
              "    display: none;\n",
              "    fill: var(--fill-color);\n",
              "    height: 32px;\n",
              "    padding: 0;\n",
              "    width: 32px;\n",
              "  }\n",
              "\n",
              "  .colab-df-quickchart:hover {\n",
              "    background-color: var(--hover-bg-color);\n",
              "    box-shadow: 0 1px 2px rgba(60, 64, 67, 0.3), 0 1px 3px 1px rgba(60, 64, 67, 0.15);\n",
              "    fill: var(--button-hover-fill-color);\n",
              "  }\n",
              "\n",
              "  .colab-df-quickchart-complete:disabled,\n",
              "  .colab-df-quickchart-complete:disabled:hover {\n",
              "    background-color: var(--disabled-bg-color);\n",
              "    fill: var(--disabled-fill-color);\n",
              "    box-shadow: none;\n",
              "  }\n",
              "\n",
              "  .colab-df-spinner {\n",
              "    border: 2px solid var(--fill-color);\n",
              "    border-color: transparent;\n",
              "    border-bottom-color: var(--fill-color);\n",
              "    animation:\n",
              "      spin 1s steps(1) infinite;\n",
              "  }\n",
              "\n",
              "  @keyframes spin {\n",
              "    0% {\n",
              "      border-color: transparent;\n",
              "      border-bottom-color: var(--fill-color);\n",
              "      border-left-color: var(--fill-color);\n",
              "    }\n",
              "    20% {\n",
              "      border-color: transparent;\n",
              "      border-left-color: var(--fill-color);\n",
              "      border-top-color: var(--fill-color);\n",
              "    }\n",
              "    30% {\n",
              "      border-color: transparent;\n",
              "      border-left-color: var(--fill-color);\n",
              "      border-top-color: var(--fill-color);\n",
              "      border-right-color: var(--fill-color);\n",
              "    }\n",
              "    40% {\n",
              "      border-color: transparent;\n",
              "      border-right-color: var(--fill-color);\n",
              "      border-top-color: var(--fill-color);\n",
              "    }\n",
              "    60% {\n",
              "      border-color: transparent;\n",
              "      border-right-color: var(--fill-color);\n",
              "    }\n",
              "    80% {\n",
              "      border-color: transparent;\n",
              "      border-right-color: var(--fill-color);\n",
              "      border-bottom-color: var(--fill-color);\n",
              "    }\n",
              "    90% {\n",
              "      border-color: transparent;\n",
              "      border-bottom-color: var(--fill-color);\n",
              "    }\n",
              "  }\n",
              "</style>\n",
              "\n",
              "  <script>\n",
              "    async function quickchart(key) {\n",
              "      const quickchartButtonEl =\n",
              "        document.querySelector('#' + key + ' button');\n",
              "      quickchartButtonEl.disabled = true;  // To prevent multiple clicks.\n",
              "      quickchartButtonEl.classList.add('colab-df-spinner');\n",
              "      try {\n",
              "        const charts = await google.colab.kernel.invokeFunction(\n",
              "            'suggestCharts', [key], {});\n",
              "      } catch (error) {\n",
              "        console.error('Error during call to suggestCharts:', error);\n",
              "      }\n",
              "      quickchartButtonEl.classList.remove('colab-df-spinner');\n",
              "      quickchartButtonEl.classList.add('colab-df-quickchart-complete');\n",
              "    }\n",
              "    (() => {\n",
              "      let quickchartButtonEl =\n",
              "        document.querySelector('#df-8aab9959-7b61-4f5a-a017-0c60d010abf1 button');\n",
              "      quickchartButtonEl.style.display =\n",
              "        google.colab.kernel.accessAllowed ? 'block' : 'none';\n",
              "    })();\n",
              "  </script>\n",
              "</div>\n",
              "\n",
              "    </div>\n",
              "  </div>\n"
            ],
            "application/vnd.google.colaboratory.intrinsic+json": {
              "type": "dataframe",
              "summary": "{\n  \"name\": \"pd\",\n  \"rows\": 2,\n  \"fields\": [\n    {\n      \"column\": \"train\",\n      \"properties\": {\n        \"dtype\": \"number\",\n        \"std\": 9,\n        \"min\": 1393,\n        \"max\": 1407,\n        \"num_unique_values\": 2,\n        \"samples\": [\n          1393,\n          1407\n        ],\n        \"semantic_type\": \"\",\n        \"description\": \"\"\n      }\n    },\n    {\n      \"column\": \"Test\",\n      \"properties\": {\n        \"dtype\": \"number\",\n        \"std\": 5,\n        \"min\": 596,\n        \"max\": 604,\n        \"num_unique_values\": 2,\n        \"samples\": [\n          604,\n          596\n        ],\n        \"semantic_type\": \"\",\n        \"description\": \"\"\n      }\n    }\n  ]\n}"
            }
          },
          "metadata": {},
          "execution_count": 12
        }
      ]
    },
    {
      "cell_type": "code",
      "source": [
        "train_data.head(5)"
      ],
      "metadata": {
        "colab": {
          "base_uri": "https://localhost:8080/",
          "height": 206
        },
        "id": "GYq9CJVzXlaH",
        "outputId": "df3c6afb-7be1-4e2e-e509-4fb28a6c8b22"
      },
      "execution_count": 13,
      "outputs": [
        {
          "output_type": "execute_result",
          "data": {
            "text/plain": [
              "                                                 review  sentiment  \\\n",
              "3215  An unpleasant woman and an equally unpleasant ...          0   \n",
              "3126  Ah, McBain\n",
              " The character name is immortalized...          1   \n",
              "697   I make just one apology for this film: there a...          1   \n",
              "3613  I, too, found \"Oppenheimer\" to be a brilliant ...          1   \n",
              "2374  For anyone who may not know what a one-actor m...          1   \n",
              "\n",
              "                                                cleaned  \n",
              "3215  an unpleasant woman equally unpleasant man vio...  \n",
              "3126  ah mcbain the character name immortalized fore...  \n",
              "697   i make one apology film far far many wide angl...  \n",
              "3613  i found oppenheimer brilliant series one fines...  \n",
              "2374  for anyone may know oneactor movie like best e...  "
            ],
            "text/html": [
              "\n",
              "  <div id=\"df-5c4e3e3b-3554-42e0-94e0-e663437425f3\" class=\"colab-df-container\">\n",
              "    <div>\n",
              "<style scoped>\n",
              "    .dataframe tbody tr th:only-of-type {\n",
              "        vertical-align: middle;\n",
              "    }\n",
              "\n",
              "    .dataframe tbody tr th {\n",
              "        vertical-align: top;\n",
              "    }\n",
              "\n",
              "    .dataframe thead th {\n",
              "        text-align: right;\n",
              "    }\n",
              "</style>\n",
              "<table border=\"1\" class=\"dataframe\">\n",
              "  <thead>\n",
              "    <tr style=\"text-align: right;\">\n",
              "      <th></th>\n",
              "      <th>review</th>\n",
              "      <th>sentiment</th>\n",
              "      <th>cleaned</th>\n",
              "    </tr>\n",
              "  </thead>\n",
              "  <tbody>\n",
              "    <tr>\n",
              "      <th>3215</th>\n",
              "      <td>An unpleasant woman and an equally unpleasant ...</td>\n",
              "      <td>0</td>\n",
              "      <td>an unpleasant woman equally unpleasant man vio...</td>\n",
              "    </tr>\n",
              "    <tr>\n",
              "      <th>3126</th>\n",
              "      <td>Ah, McBain The character name is immortalized...</td>\n",
              "      <td>1</td>\n",
              "      <td>ah mcbain the character name immortalized fore...</td>\n",
              "    </tr>\n",
              "    <tr>\n",
              "      <th>697</th>\n",
              "      <td>I make just one apology for this film: there a...</td>\n",
              "      <td>1</td>\n",
              "      <td>i make one apology film far far many wide angl...</td>\n",
              "    </tr>\n",
              "    <tr>\n",
              "      <th>3613</th>\n",
              "      <td>I, too, found \"Oppenheimer\" to be a brilliant ...</td>\n",
              "      <td>1</td>\n",
              "      <td>i found oppenheimer brilliant series one fines...</td>\n",
              "    </tr>\n",
              "    <tr>\n",
              "      <th>2374</th>\n",
              "      <td>For anyone who may not know what a one-actor m...</td>\n",
              "      <td>1</td>\n",
              "      <td>for anyone may know oneactor movie like best e...</td>\n",
              "    </tr>\n",
              "  </tbody>\n",
              "</table>\n",
              "</div>\n",
              "    <div class=\"colab-df-buttons\">\n",
              "\n",
              "  <div class=\"colab-df-container\">\n",
              "    <button class=\"colab-df-convert\" onclick=\"convertToInteractive('df-5c4e3e3b-3554-42e0-94e0-e663437425f3')\"\n",
              "            title=\"Convert this dataframe to an interactive table.\"\n",
              "            style=\"display:none;\">\n",
              "\n",
              "  <svg xmlns=\"http://www.w3.org/2000/svg\" height=\"24px\" viewBox=\"0 -960 960 960\">\n",
              "    <path d=\"M120-120v-720h720v720H120Zm60-500h600v-160H180v160Zm220 220h160v-160H400v160Zm0 220h160v-160H400v160ZM180-400h160v-160H180v160Zm440 0h160v-160H620v160ZM180-180h160v-160H180v160Zm440 0h160v-160H620v160Z\"/>\n",
              "  </svg>\n",
              "    </button>\n",
              "\n",
              "  <style>\n",
              "    .colab-df-container {\n",
              "      display:flex;\n",
              "      gap: 12px;\n",
              "    }\n",
              "\n",
              "    .colab-df-convert {\n",
              "      background-color: #E8F0FE;\n",
              "      border: none;\n",
              "      border-radius: 50%;\n",
              "      cursor: pointer;\n",
              "      display: none;\n",
              "      fill: #1967D2;\n",
              "      height: 32px;\n",
              "      padding: 0 0 0 0;\n",
              "      width: 32px;\n",
              "    }\n",
              "\n",
              "    .colab-df-convert:hover {\n",
              "      background-color: #E2EBFA;\n",
              "      box-shadow: 0px 1px 2px rgba(60, 64, 67, 0.3), 0px 1px 3px 1px rgba(60, 64, 67, 0.15);\n",
              "      fill: #174EA6;\n",
              "    }\n",
              "\n",
              "    .colab-df-buttons div {\n",
              "      margin-bottom: 4px;\n",
              "    }\n",
              "\n",
              "    [theme=dark] .colab-df-convert {\n",
              "      background-color: #3B4455;\n",
              "      fill: #D2E3FC;\n",
              "    }\n",
              "\n",
              "    [theme=dark] .colab-df-convert:hover {\n",
              "      background-color: #434B5C;\n",
              "      box-shadow: 0px 1px 3px 1px rgba(0, 0, 0, 0.15);\n",
              "      filter: drop-shadow(0px 1px 2px rgba(0, 0, 0, 0.3));\n",
              "      fill: #FFFFFF;\n",
              "    }\n",
              "  </style>\n",
              "\n",
              "    <script>\n",
              "      const buttonEl =\n",
              "        document.querySelector('#df-5c4e3e3b-3554-42e0-94e0-e663437425f3 button.colab-df-convert');\n",
              "      buttonEl.style.display =\n",
              "        google.colab.kernel.accessAllowed ? 'block' : 'none';\n",
              "\n",
              "      async function convertToInteractive(key) {\n",
              "        const element = document.querySelector('#df-5c4e3e3b-3554-42e0-94e0-e663437425f3');\n",
              "        const dataTable =\n",
              "          await google.colab.kernel.invokeFunction('convertToInteractive',\n",
              "                                                    [key], {});\n",
              "        if (!dataTable) return;\n",
              "\n",
              "        const docLinkHtml = 'Like what you see? Visit the ' +\n",
              "          '<a target=\"_blank\" href=https://colab.research.google.com/notebooks/data_table.ipynb>data table notebook</a>'\n",
              "          + ' to learn more about interactive tables.';\n",
              "        element.innerHTML = '';\n",
              "        dataTable['output_type'] = 'display_data';\n",
              "        await google.colab.output.renderOutput(dataTable, element);\n",
              "        const docLink = document.createElement('div');\n",
              "        docLink.innerHTML = docLinkHtml;\n",
              "        element.appendChild(docLink);\n",
              "      }\n",
              "    </script>\n",
              "  </div>\n",
              "\n",
              "\n",
              "<div id=\"df-12b20820-0252-4266-af60-a06b086e1df7\">\n",
              "  <button class=\"colab-df-quickchart\" onclick=\"quickchart('df-12b20820-0252-4266-af60-a06b086e1df7')\"\n",
              "            title=\"Suggest charts\"\n",
              "            style=\"display:none;\">\n",
              "\n",
              "<svg xmlns=\"http://www.w3.org/2000/svg\" height=\"24px\"viewBox=\"0 0 24 24\"\n",
              "     width=\"24px\">\n",
              "    <g>\n",
              "        <path d=\"M19 3H5c-1.1 0-2 .9-2 2v14c0 1.1.9 2 2 2h14c1.1 0 2-.9 2-2V5c0-1.1-.9-2-2-2zM9 17H7v-7h2v7zm4 0h-2V7h2v10zm4 0h-2v-4h2v4z\"/>\n",
              "    </g>\n",
              "</svg>\n",
              "  </button>\n",
              "\n",
              "<style>\n",
              "  .colab-df-quickchart {\n",
              "      --bg-color: #E8F0FE;\n",
              "      --fill-color: #1967D2;\n",
              "      --hover-bg-color: #E2EBFA;\n",
              "      --hover-fill-color: #174EA6;\n",
              "      --disabled-fill-color: #AAA;\n",
              "      --disabled-bg-color: #DDD;\n",
              "  }\n",
              "\n",
              "  [theme=dark] .colab-df-quickchart {\n",
              "      --bg-color: #3B4455;\n",
              "      --fill-color: #D2E3FC;\n",
              "      --hover-bg-color: #434B5C;\n",
              "      --hover-fill-color: #FFFFFF;\n",
              "      --disabled-bg-color: #3B4455;\n",
              "      --disabled-fill-color: #666;\n",
              "  }\n",
              "\n",
              "  .colab-df-quickchart {\n",
              "    background-color: var(--bg-color);\n",
              "    border: none;\n",
              "    border-radius: 50%;\n",
              "    cursor: pointer;\n",
              "    display: none;\n",
              "    fill: var(--fill-color);\n",
              "    height: 32px;\n",
              "    padding: 0;\n",
              "    width: 32px;\n",
              "  }\n",
              "\n",
              "  .colab-df-quickchart:hover {\n",
              "    background-color: var(--hover-bg-color);\n",
              "    box-shadow: 0 1px 2px rgba(60, 64, 67, 0.3), 0 1px 3px 1px rgba(60, 64, 67, 0.15);\n",
              "    fill: var(--button-hover-fill-color);\n",
              "  }\n",
              "\n",
              "  .colab-df-quickchart-complete:disabled,\n",
              "  .colab-df-quickchart-complete:disabled:hover {\n",
              "    background-color: var(--disabled-bg-color);\n",
              "    fill: var(--disabled-fill-color);\n",
              "    box-shadow: none;\n",
              "  }\n",
              "\n",
              "  .colab-df-spinner {\n",
              "    border: 2px solid var(--fill-color);\n",
              "    border-color: transparent;\n",
              "    border-bottom-color: var(--fill-color);\n",
              "    animation:\n",
              "      spin 1s steps(1) infinite;\n",
              "  }\n",
              "\n",
              "  @keyframes spin {\n",
              "    0% {\n",
              "      border-color: transparent;\n",
              "      border-bottom-color: var(--fill-color);\n",
              "      border-left-color: var(--fill-color);\n",
              "    }\n",
              "    20% {\n",
              "      border-color: transparent;\n",
              "      border-left-color: var(--fill-color);\n",
              "      border-top-color: var(--fill-color);\n",
              "    }\n",
              "    30% {\n",
              "      border-color: transparent;\n",
              "      border-left-color: var(--fill-color);\n",
              "      border-top-color: var(--fill-color);\n",
              "      border-right-color: var(--fill-color);\n",
              "    }\n",
              "    40% {\n",
              "      border-color: transparent;\n",
              "      border-right-color: var(--fill-color);\n",
              "      border-top-color: var(--fill-color);\n",
              "    }\n",
              "    60% {\n",
              "      border-color: transparent;\n",
              "      border-right-color: var(--fill-color);\n",
              "    }\n",
              "    80% {\n",
              "      border-color: transparent;\n",
              "      border-right-color: var(--fill-color);\n",
              "      border-bottom-color: var(--fill-color);\n",
              "    }\n",
              "    90% {\n",
              "      border-color: transparent;\n",
              "      border-bottom-color: var(--fill-color);\n",
              "    }\n",
              "  }\n",
              "</style>\n",
              "\n",
              "  <script>\n",
              "    async function quickchart(key) {\n",
              "      const quickchartButtonEl =\n",
              "        document.querySelector('#' + key + ' button');\n",
              "      quickchartButtonEl.disabled = true;  // To prevent multiple clicks.\n",
              "      quickchartButtonEl.classList.add('colab-df-spinner');\n",
              "      try {\n",
              "        const charts = await google.colab.kernel.invokeFunction(\n",
              "            'suggestCharts', [key], {});\n",
              "      } catch (error) {\n",
              "        console.error('Error during call to suggestCharts:', error);\n",
              "      }\n",
              "      quickchartButtonEl.classList.remove('colab-df-spinner');\n",
              "      quickchartButtonEl.classList.add('colab-df-quickchart-complete');\n",
              "    }\n",
              "    (() => {\n",
              "      let quickchartButtonEl =\n",
              "        document.querySelector('#df-12b20820-0252-4266-af60-a06b086e1df7 button');\n",
              "      quickchartButtonEl.style.display =\n",
              "        google.colab.kernel.accessAllowed ? 'block' : 'none';\n",
              "    })();\n",
              "  </script>\n",
              "</div>\n",
              "\n",
              "    </div>\n",
              "  </div>\n"
            ],
            "application/vnd.google.colaboratory.intrinsic+json": {
              "type": "dataframe",
              "variable_name": "train_data",
              "summary": "{\n  \"name\": \"train_data\",\n  \"rows\": 2800,\n  \"fields\": [\n    {\n      \"column\": \"review\",\n      \"properties\": {\n        \"dtype\": \"string\",\n        \"num_unique_values\": 2797,\n        \"samples\": [\n          \"The time I wasted seeing this movie, I demand back! I felt sick afterward, but not because it touched me in any way. It's pretentious, trying to get the audience to feel bad for the people involved, but I couldn't care less. The characters are soulless and stupid. You don't get an explanation for some of the scenes and it doesn't leave any thoughts afterward to come up with your own explanation. All of the students in the movie has issues, but since you don't feel for them you don't believe their problems.<br /><br />If I could write better in English I'd never stop. But I can't, so, I'll stop now.<br /><br />Don't watch this.\",\n          \"I just viewed Eddie Monroe and I was very impressed. The story was easily paced as the plot unraveled to a surprise ending. Heartwarming performances, action, humor, and drama filled the screen. Topnotch acting by some talented Long Islanders. Great script. This is the best film that Fred Carpenter has made to date, he should be very proud of this work. Doug Brown's score is on the mark. Craig Morris is the next Tom Cruise or Brad Pitt. Hard to believe this is a low budget, independent film. Just imagine what Carpenter can do with a Hollywood level budget. Paul Regina's last film and he is greatly missed and loved by all. He was a wonderful, successful, talented actor and a great human being. He will watch over us all and we will never forget his dynamic smile and spirit. Great job to all who participated in this film. A few cherished scene stealing, and humorous cameos to break up the serious content. You will enjoy this film, go see it!\",\n          \"This story was never among my favourites in Christie's works so I was pleasantly surprised to quite enjoy this adaptation. The mouse motif was effective if a little overdone, the bones of the story are there although more emphasis is placed on the 'crime in the past' subplot. The students were all pretty much as I imagined them although its a pity they weren't a more cosmopolitan bunch - perhaps the revised thirties setting didn't allow for that! I thought some very daring risks were taken with the filming; perhaps its because I've not long re-read the book but it seemed pretty obvious to me who the murderer was from their appearance in some reveal shots quite early on.<br /><br />Humour was much more prevalent in these early Poirots. Sometimes it works but I found a lot of it rather heavy handed in this episode (though I did smile at the 'Lemon sole' throwaway line). Altogether though, a solid entry in the series though not one of the best.\"\n        ],\n        \"semantic_type\": \"\",\n        \"description\": \"\"\n      }\n    },\n    {\n      \"column\": \"sentiment\",\n      \"properties\": {\n        \"dtype\": \"number\",\n        \"std\": 0,\n        \"min\": 0,\n        \"max\": 1,\n        \"num_unique_values\": 2,\n        \"samples\": [\n          1,\n          0\n        ],\n        \"semantic_type\": \"\",\n        \"description\": \"\"\n      }\n    },\n    {\n      \"column\": \"cleaned\",\n      \"properties\": {\n        \"dtype\": \"string\",\n        \"num_unique_values\": 2797,\n        \"samples\": [\n          \"the time i wasted seeing movie i demand back i felt sick afterward touched way it pretentious trying get audience feel bad people involved i couldnt care le the character soulless stupid you dont get explanation scene doesnt leave thought afterward come explanation all student movie issue since dont feel dont believe problemsif i could write better english id never stop but i cant ill stop nowdont watch\",\n          \"i viewed eddie monroe i impressed the story easily paced plot unraveled surprise ending heartwarming performance action humor drama filled screen topnotch acting talented long islander great script this best film fred carpenter made date proud work doug brown score mark craig morris next tom cruise brad pitt hard believe low budget independent film just imagine carpenter hollywood level budget paul regina last film greatly missed loved he wonderful successful talented actor great human he watch u never forget dynamic smile spirit great job participated film a cherished scene stealing humorous cameo break serious content you enjoy film go see\"\n        ],\n        \"semantic_type\": \"\",\n        \"description\": \"\"\n      }\n    }\n  ]\n}"
            }
          },
          "metadata": {},
          "execution_count": 13
        }
      ]
    },
    {
      "cell_type": "code",
      "source": [
        "tokenizer=get_tokenizer(\"basic_english\")"
      ],
      "metadata": {
        "id": "cGxSioFdq8vt"
      },
      "execution_count": 14,
      "outputs": []
    },
    {
      "cell_type": "code",
      "source": [
        "#  lets create custom iterator from Dataset clas of pytorch\n",
        "\n",
        "class CustomDataset(Dataset):\n",
        "    def __init__(self,labels,texts):\n",
        "        super().__init__()\n",
        "        self.labels=labels\n",
        "        self.texts=texts\n",
        "\n",
        "    def __len__(self):\n",
        "        return len(self.texts)\n",
        "\n",
        "    def __getitem__(self,idx):\n",
        "        texts=self.texts[idx]\n",
        "        labels=self.labels[idx]\n",
        "\n",
        "        return labels,texts\n"
      ],
      "metadata": {
        "id": "WVGSi6y8rYae"
      },
      "execution_count": 15,
      "outputs": []
    },
    {
      "cell_type": "code",
      "source": [],
      "metadata": {
        "id": "pKbRTTC8sukh"
      },
      "execution_count": 15,
      "outputs": []
    },
    {
      "cell_type": "code",
      "source": [],
      "metadata": {
        "id": "EamnEgDhsIXH"
      },
      "execution_count": 15,
      "outputs": []
    },
    {
      "cell_type": "code",
      "source": [
        "def get_tokens(texts):\n",
        "    for text in texts:\n",
        "        yield tokenizer(text)"
      ],
      "metadata": {
        "id": "5fqzp-EkuaS5"
      },
      "execution_count": 16,
      "outputs": []
    },
    {
      "cell_type": "code",
      "source": [
        "# lets build vocab, vocab should be built from iterator also on only train data, as if we passed normal list then vocab from  iterator will not work\n",
        "\n",
        "vocab=build_vocab_from_iterator(get_tokens(train_data['cleaned'].tolist()),specials=['<unk>'])\n",
        "\n",
        "vocab.set_default_index(0)"
      ],
      "metadata": {
        "id": "7GYZXPBJmG5r"
      },
      "execution_count": 17,
      "outputs": []
    },
    {
      "cell_type": "code",
      "source": [
        "len(vocab)"
      ],
      "metadata": {
        "colab": {
          "base_uri": "https://localhost:8080/"
        },
        "id": "LEZkWHxKmKHM",
        "outputId": "63b287a4-80f4-431e-d4cb-b230bd67b1e5"
      },
      "execution_count": 18,
      "outputs": [
        {
          "output_type": "execute_result",
          "data": {
            "text/plain": [
              "34633"
            ]
          },
          "metadata": {},
          "execution_count": 18
        }
      ]
    },
    {
      "cell_type": "code",
      "source": [
        "text_pipeline=lambda x: vocab(tokenizer(x))\n",
        "\n",
        "label_pipeline=lambda x: int(x)"
      ],
      "metadata": {
        "id": "1xsNz7_urPjk"
      },
      "execution_count": 19,
      "outputs": []
    },
    {
      "cell_type": "code",
      "source": [
        "text_pipeline('hello how are you gefuheu tgrathrhtytytyjtyjtyjtjte') , label_pipeline('434')"
      ],
      "metadata": {
        "colab": {
          "base_uri": "https://localhost:8080/"
        },
        "id": "A5qmoQZatQxX",
        "outputId": "cda47f45-d995-408c-922a-c740062372ef"
      },
      "execution_count": 20,
      "outputs": [
        {
          "output_type": "execute_result",
          "data": {
            "text/plain": [
              "([5514, 451, 1790, 167, 0, 0], 434)"
            ]
          },
          "metadata": {},
          "execution_count": 20
        }
      ]
    },
    {
      "cell_type": "markdown",
      "source": [
        "So the text pipeline and label pipeline is working great so next step is to convert data into vectorization\n",
        "\n",
        "1. its good to apply vectorization after splitting the data to avoid the data leakage and test data will not influence bad on the training processs ."
      ],
      "metadata": {
        "id": "uZPGYavfV14s"
      }
    },
    {
      "cell_type": "code",
      "source": [
        "from sklearn.feature_extraction.text import TfidfVectorizer\n",
        "import numpy as np"
      ],
      "metadata": {
        "id": "YQEdLQOZtdes"
      },
      "execution_count": 21,
      "outputs": []
    },
    {
      "cell_type": "code",
      "source": [
        "tfidf=TfidfVectorizer()\n",
        "\n",
        "train_tfidf=tfidf.fit_transform(train_data['cleaned'].tolist()).toarray()\n",
        "\n",
        "test_tfidf=tfidf.transform(test_data['cleaned'].tolist()).toarray()"
      ],
      "metadata": {
        "id": "Q6AraaEPWv0s"
      },
      "execution_count": 22,
      "outputs": []
    },
    {
      "cell_type": "code",
      "source": [
        "train_labels=train_data['sentiment'].tolist()\n",
        "test_labels=test_data['sentiment'].tolist()"
      ],
      "metadata": {
        "id": "n-FhLRKZYFdY"
      },
      "execution_count": 23,
      "outputs": []
    },
    {
      "cell_type": "code",
      "source": [],
      "metadata": {
        "id": "-T1Z6dwZXHCH"
      },
      "execution_count": 23,
      "outputs": []
    },
    {
      "cell_type": "code",
      "source": [
        "train_data['cleaned']"
      ],
      "metadata": {
        "colab": {
          "base_uri": "https://localhost:8080/",
          "height": 458
        },
        "id": "gnxmZIPGXQ-Q",
        "outputId": "9c4edbdf-6c8a-4333-ec24-c417baed8ba4"
      },
      "execution_count": 24,
      "outputs": [
        {
          "output_type": "execute_result",
          "data": {
            "text/plain": [
              "3215    an unpleasant woman equally unpleasant man vio...\n",
              "3126    ah mcbain the character name immortalized fore...\n",
              "697     i make one apology film far far many wide angl...\n",
              "3613    i found oppenheimer brilliant series one fines...\n",
              "2374    for anyone may know oneactor movie like best e...\n",
              "                              ...                        \n",
              "1130    admittedly seeing house wax i assumed would si...\n",
              "1294    i admit awe sea spent number year navy i somew...\n",
              "860     i love movie much it always make cry if apprec...\n",
              "3507    ive already seen spinoffs cartoon the flintsto...\n",
              "3174    checking out released friday september th amc ...\n",
              "Name: cleaned, Length: 2800, dtype: object"
            ],
            "text/html": [
              "<div>\n",
              "<style scoped>\n",
              "    .dataframe tbody tr th:only-of-type {\n",
              "        vertical-align: middle;\n",
              "    }\n",
              "\n",
              "    .dataframe tbody tr th {\n",
              "        vertical-align: top;\n",
              "    }\n",
              "\n",
              "    .dataframe thead th {\n",
              "        text-align: right;\n",
              "    }\n",
              "</style>\n",
              "<table border=\"1\" class=\"dataframe\">\n",
              "  <thead>\n",
              "    <tr style=\"text-align: right;\">\n",
              "      <th></th>\n",
              "      <th>cleaned</th>\n",
              "    </tr>\n",
              "  </thead>\n",
              "  <tbody>\n",
              "    <tr>\n",
              "      <th>3215</th>\n",
              "      <td>an unpleasant woman equally unpleasant man vio...</td>\n",
              "    </tr>\n",
              "    <tr>\n",
              "      <th>3126</th>\n",
              "      <td>ah mcbain the character name immortalized fore...</td>\n",
              "    </tr>\n",
              "    <tr>\n",
              "      <th>697</th>\n",
              "      <td>i make one apology film far far many wide angl...</td>\n",
              "    </tr>\n",
              "    <tr>\n",
              "      <th>3613</th>\n",
              "      <td>i found oppenheimer brilliant series one fines...</td>\n",
              "    </tr>\n",
              "    <tr>\n",
              "      <th>2374</th>\n",
              "      <td>for anyone may know oneactor movie like best e...</td>\n",
              "    </tr>\n",
              "    <tr>\n",
              "      <th>...</th>\n",
              "      <td>...</td>\n",
              "    </tr>\n",
              "    <tr>\n",
              "      <th>1130</th>\n",
              "      <td>admittedly seeing house wax i assumed would si...</td>\n",
              "    </tr>\n",
              "    <tr>\n",
              "      <th>1294</th>\n",
              "      <td>i admit awe sea spent number year navy i somew...</td>\n",
              "    </tr>\n",
              "    <tr>\n",
              "      <th>860</th>\n",
              "      <td>i love movie much it always make cry if apprec...</td>\n",
              "    </tr>\n",
              "    <tr>\n",
              "      <th>3507</th>\n",
              "      <td>ive already seen spinoffs cartoon the flintsto...</td>\n",
              "    </tr>\n",
              "    <tr>\n",
              "      <th>3174</th>\n",
              "      <td>checking out released friday september th amc ...</td>\n",
              "    </tr>\n",
              "  </tbody>\n",
              "</table>\n",
              "<p>2800 rows × 1 columns</p>\n",
              "</div><br><label><b>dtype:</b> object</label>"
            ]
          },
          "metadata": {},
          "execution_count": 24
        }
      ]
    },
    {
      "cell_type": "markdown",
      "source": [
        "Lets make iterator now to go ahead to genetae data loader\n"
      ],
      "metadata": {
        "id": "uZAmqh4_a8rt"
      }
    },
    {
      "cell_type": "code",
      "source": [
        "train_iter=CustomDataset(train_labels, train_tfidf)\n",
        "\n",
        "test_iter=CustomDataset(test_labels,test_tfidf)"
      ],
      "metadata": {
        "id": "7l_6HBNIXw4E"
      },
      "execution_count": 25,
      "outputs": []
    },
    {
      "cell_type": "code",
      "source": [
        "len(vocab)"
      ],
      "metadata": {
        "colab": {
          "base_uri": "https://localhost:8080/"
        },
        "id": "luIYwCGdd6By",
        "outputId": "70b66cdb-5096-4a3d-82ef-8bf0d22b7d80"
      },
      "execution_count": 26,
      "outputs": [
        {
          "output_type": "execute_result",
          "data": {
            "text/plain": [
              "34633"
            ]
          },
          "metadata": {},
          "execution_count": 26
        }
      ]
    },
    {
      "cell_type": "code",
      "source": [
        "train_tfidf.shape"
      ],
      "metadata": {
        "colab": {
          "base_uri": "https://localhost:8080/"
        },
        "id": "f8Ou8VAnd27X",
        "outputId": "be921898-2e89-4b7c-dc98-d6ee6d4e744a"
      },
      "execution_count": 27,
      "outputs": [
        {
          "output_type": "execute_result",
          "data": {
            "text/plain": [
              "(2800, 34606)"
            ]
          },
          "metadata": {},
          "execution_count": 27
        }
      ]
    },
    {
      "cell_type": "code",
      "source": [
        "def collate_batch(batch):\n",
        "    all_labels=[]\n",
        "    all_texts=[]\n",
        "    for labels , texts in batch:\n",
        "        all_texts.append(texts)\n",
        "        all_labels.append(label_pipeline(labels))\n",
        "\n",
        "    return torch.tensor(all_texts,dtype=torch.float),torch.tensor(all_labels,dtype=torch.int64)\n"
      ],
      "metadata": {
        "id": "KWyF_2WebWbs"
      },
      "execution_count": 28,
      "outputs": []
    },
    {
      "cell_type": "code",
      "source": [
        "train_loader=DataLoader(dataset=train_iter,batch_size=8,shuffle=True,collate_fn=collate_batch)\n",
        "\n",
        "test_loader=DataLoader(dataset=test_iter,batch_size=8,shuffle=False,collate_fn=collate_batch)"
      ],
      "metadata": {
        "id": "Z_0N1_qobafN"
      },
      "execution_count": 29,
      "outputs": []
    },
    {
      "cell_type": "markdown",
      "source": [
        "Always remember:\n",
        "1. Dense vectors : most or all values are non zero in the vectors its called as dense represenattion of vectores.\n",
        "2. all or most values in the vectors are zeroes are called as sparase matrix or vectors.\n",
        "\n",
        "If the vectors representation is dense then we dont use embedding layer in neural network.\n",
        "\n",
        "if the vecotr representation is sparse then we use embedding layer to convert sparse inti dense with embedding layer"
      ],
      "metadata": {
        "id": "Pm5UmJB4gdE-"
      }
    },
    {
      "cell_type": "markdown",
      "source": [
        "----------------------------------------------------------------------------------"
      ],
      "metadata": {
        "id": "1zKKbuyql1zc"
      }
    },
    {
      "cell_type": "markdown",
      "source": [
        "### Training and Testing with TF-IDF\n",
        "\n",
        "#### Fit and Transform on Training Data:\n",
        "- **Fit**: The `fit` method learns the vocabulary and the IDF values from the training data.\n",
        "- **Transform**: The `transform` method converts the training data into TF-IDF vectors based on the learned vocabulary and IDF values.\n",
        "\n",
        "#### Transform on Test Data:\n",
        "- **Transform**: The `transform` method is used on the test data to convert it into TF-IDF vectors using the same vocabulary and IDF values learned from the training data. This ensures consistency between training and testing.\n"
      ],
      "metadata": {
        "id": "Ye423aUolzmw"
      }
    },
    {
      "cell_type": "code",
      "source": [],
      "metadata": {
        "id": "v0W9a9s5lROE"
      },
      "execution_count": 29,
      "outputs": []
    },
    {
      "cell_type": "code",
      "source": [
        "# lets build the model\n",
        "\n",
        "class TfidfModel(nn.Module):\n",
        "    def __init__(self,input_size):\n",
        "        super().__init__()\n",
        "\n",
        "        self.lstm=nn.LSTM(input_size=input_size,hidden_size=64,num_layers=1,batch_first=True)   #batch_first--> with this parameter we need to pass the data in which batch size should be at start then seq len\n",
        "\n",
        "        self.linear=nn.Linear(in_features=64,out_features=1)\n",
        "\n",
        "    def forward(self,x):\n",
        "        lstm_out,(hn,cn)=self.lstm(x)\n",
        "        # print(f\"Shape of lstm_out: {lstm_out.shape}\")\n",
        "        x=self.linear(lstm_out[:,-1,:])\n",
        "        return x"
      ],
      "metadata": {
        "id": "cRdmVmLJbbY9"
      },
      "execution_count": 30,
      "outputs": []
    },
    {
      "cell_type": "code",
      "source": [
        "train_tfidf.shape[1]"
      ],
      "metadata": {
        "colab": {
          "base_uri": "https://localhost:8080/"
        },
        "id": "kbngOy31mCdB",
        "outputId": "c846f8a5-910a-4756-ef42-9cd3659cc8ae"
      },
      "execution_count": 31,
      "outputs": [
        {
          "output_type": "execute_result",
          "data": {
            "text/plain": [
              "34606"
            ]
          },
          "metadata": {},
          "execution_count": 31
        }
      ]
    },
    {
      "cell_type": "markdown",
      "source": [
        "if we get error too many diemention for index 2 like this then we are not passing the input in expected format so we need to unsquueze the dim\n",
        "\n",
        "sequence model expects input in `batch_size` , `sequence length`, `input_size`\n",
        "\n",
        "batch_size=8\n",
        "sequence len= each time step (in our case its each document tensor)\n",
        "inpu size= size of the tensor which is 35154"
      ],
      "metadata": {
        "id": "Kf5M6Mi2qmPB"
      }
    },
    {
      "cell_type": "code",
      "source": [
        "next(iter(train_loader))[0].shape     # this is size of the doc 1 -> 35154,  so its 1 st time step, so we can make it size"
      ],
      "metadata": {
        "colab": {
          "base_uri": "https://localhost:8080/"
        },
        "id": "8fgDyctZtm9O",
        "outputId": "78e58940-e21e-4c4f-cb43-fcbef7a1126a"
      },
      "execution_count": 32,
      "outputs": [
        {
          "output_type": "stream",
          "name": "stderr",
          "text": [
            "<ipython-input-28-6e57b3604305>:8: UserWarning: Creating a tensor from a list of numpy.ndarrays is extremely slow. Please consider converting the list to a single numpy.ndarray with numpy.array() before converting to a tensor. (Triggered internally at ../torch/csrc/utils/tensor_new.cpp:275.)\n",
            "  return torch.tensor(all_texts,dtype=torch.float),torch.tensor(all_labels,dtype=torch.int64)\n"
          ]
        },
        {
          "output_type": "execute_result",
          "data": {
            "text/plain": [
              "torch.Size([8, 34606])"
            ]
          },
          "metadata": {},
          "execution_count": 32
        }
      ]
    },
    {
      "cell_type": "code",
      "source": [
        "input_size=train_tfidf.shape[1]\n",
        "model=TfidfModel(input_size=input_size)\n",
        "\n",
        "\n",
        "with torch.inference_mode():\n",
        "    out=model(next(iter(train_loader))[0].unsqueeze(1))"
      ],
      "metadata": {
        "id": "oS04fdrvmEoy"
      },
      "execution_count": 33,
      "outputs": []
    },
    {
      "cell_type": "code",
      "source": [
        "(out.sigmoid()>0.5).int()"
      ],
      "metadata": {
        "colab": {
          "base_uri": "https://localhost:8080/"
        },
        "id": "HpscGABjn__0",
        "outputId": "92fad4ae-d765-45e3-c1a5-9d27b8237261"
      },
      "execution_count": 34,
      "outputs": [
        {
          "output_type": "execute_result",
          "data": {
            "text/plain": [
              "tensor([[1],\n",
              "        [1],\n",
              "        [1],\n",
              "        [1],\n",
              "        [1],\n",
              "        [1],\n",
              "        [1],\n",
              "        [1]], dtype=torch.int32)"
            ]
          },
          "metadata": {},
          "execution_count": 34
        }
      ]
    },
    {
      "cell_type": "code",
      "source": [
        "from sklearn.metrics import accuracy_score"
      ],
      "metadata": {
        "id": "TD8E9rVMuk5q"
      },
      "execution_count": 35,
      "outputs": []
    },
    {
      "cell_type": "code",
      "source": [
        "from tqdm.auto import tqdm\n",
        "device = torch.device(\"cuda\" if torch.cuda.is_available() else \"cpu\")\n",
        "\n",
        "loss_fn=nn.BCEWithLogitsLoss()\n",
        "optimizer=torch.optim.Adam(params=model.parameters(),lr=0.001)\n",
        "\n",
        "# Set the random seed before the loop\n",
        "torch.manual_seed(42)\n",
        "\n",
        "# Assuming loss_fn is nn.BCEWithLogitsLoss for binary classification\n",
        "\n",
        "# Move the model to the GPU\n",
        "model = model.to(device)\n",
        "\n",
        "# Training loop\n",
        "epochs = 5\n",
        "\n",
        "for epoch in tqdm(range(epochs)):\n",
        "    train_loss = 0\n",
        "    train_acc = 0\n",
        "    model.train()\n",
        "\n",
        "    for batch, (X_train,y_train) in enumerate(train_loader):\n",
        "        # Move data to the GPU\n",
        "        X_train = X_train.to(device)\n",
        "        y_train = y_train.to(device)\n",
        "\n",
        "        # Forward pass\n",
        "        y_logits = model(X_train.unsqueeze(1))\n",
        "\n",
        "        # Calculate loss\n",
        "        y_train = y_train.float().unsqueeze(1)\n",
        "        train_batch_loss = loss_fn(y_logits, y_train)\n",
        "\n",
        "        # Apply sigmoid and threshold to get binary predictions\n",
        "        train_probs = torch.sigmoid(y_logits)\n",
        "        train_batch_preds = (train_probs > 0.5).float()\n",
        "\n",
        "        # Calculate accuracy using sklearn\n",
        "        train_batch_acc = accuracy_score(y_train.cpu().numpy(), train_batch_preds.cpu().numpy())\n",
        "\n",
        "        # Backpropagation and optimization\n",
        "        optimizer.zero_grad()\n",
        "        train_batch_loss.backward()\n",
        "        optimizer.step()\n",
        "\n",
        "        train_loss += train_batch_loss.item()\n",
        "        train_acc += train_batch_acc\n",
        "\n",
        "    model.eval()\n",
        "    train_acc /= len(train_loader)\n",
        "    train_loss /= len(train_loader)\n",
        "    test_loss = 0\n",
        "    test_acc = 0\n",
        "\n",
        "    with torch.inference_mode():\n",
        "        for X_test,y_test in test_loader:\n",
        "            # Move data to the GPU\n",
        "            X_test = X_test.to(device)\n",
        "            y_test = y_test.to(device)\n",
        "\n",
        "            # Forward pass\n",
        "            y_test_logits = model(X_test.unsqueeze(1))\n",
        "\n",
        "            # Calculate loss\n",
        "            y_test = y_test.float().unsqueeze(1)\n",
        "            test_batch_loss = loss_fn(y_test_logits, y_test)\n",
        "\n",
        "            # Apply sigmoid and threshold to get binary predictions\n",
        "            test_probs = torch.sigmoid(y_test_logits)\n",
        "            test_batch_preds = (test_probs > 0.5).float()\n",
        "\n",
        "            # Calculate accuracy using sklearn\n",
        "            test_batch_acc = accuracy_score(y_test.cpu().numpy(), test_batch_preds.cpu().numpy())\n",
        "\n",
        "            test_loss += test_batch_loss.item()\n",
        "            test_acc += test_batch_acc\n",
        "\n",
        "    test_loss /= len(test_loader)\n",
        "    test_acc /= len(test_loader)\n",
        "\n",
        "    print(f\"Epoch: {epoch+1} | Train Loss: {train_loss:.4f} | Train ACC: {train_acc*100:.2f} | Test Loss: {test_loss:.4f} | Test ACC: {test_acc*100:.2f}\")\n",
        "\n",
        "print(\"Training complete.\")\n",
        "\n",
        "\n",
        "\n"
      ],
      "metadata": {
        "colab": {
          "base_uri": "https://localhost:8080/",
          "height": 158,
          "referenced_widgets": [
            "d4b35a8d3cbe433585b0131f33bf6293",
            "db3c6819f8284d76816b46c08cd5be46",
            "42d921817bc2497a881246fbae15ef37",
            "4cf65bdb41ee4f4891589a051327b54e",
            "c7a9f7f72b5d4d789222a699aec61cf7",
            "e847e189c7ba47b29264b49aff881f8a",
            "2c11c8cea0b6489bba3fda858100992e",
            "5b89133e3ea54ce495df247a1fcd23d6",
            "753d6de0b794452bbd969dad4d9528b0",
            "5a21bfd4e53845d1862e26b4fd7d8bad",
            "9636ad42b36f4d4e9550407c41d00ecd"
          ]
        },
        "id": "XZvjfmx0uBna",
        "outputId": "013744c9-ab77-4f34-9593-78b99c0b17cb"
      },
      "execution_count": 36,
      "outputs": [
        {
          "output_type": "display_data",
          "data": {
            "text/plain": [
              "  0%|          | 0/5 [00:00<?, ?it/s]"
            ],
            "application/vnd.jupyter.widget-view+json": {
              "version_major": 2,
              "version_minor": 0,
              "model_id": "d4b35a8d3cbe433585b0131f33bf6293"
            }
          },
          "metadata": {}
        },
        {
          "output_type": "stream",
          "name": "stdout",
          "text": [
            "Epoch: 1 | Train Loss: 0.6326 | Train ACC: 73.00 | Test Loss: 0.4668 | Test ACC: 84.50\n",
            "Epoch: 2 | Train Loss: 0.2111 | Train ACC: 95.00 | Test Loss: 0.3264 | Test ACC: 86.00\n",
            "Epoch: 3 | Train Loss: 0.0370 | Train ACC: 99.61 | Test Loss: 0.3397 | Test ACC: 85.17\n",
            "Epoch: 4 | Train Loss: 0.0107 | Train ACC: 100.00 | Test Loss: 0.3472 | Test ACC: 85.17\n",
            "Epoch: 5 | Train Loss: 0.0050 | Train ACC: 100.00 | Test Loss: 0.3624 | Test ACC: 85.42\n",
            "Training complete.\n"
          ]
        }
      ]
    },
    {
      "cell_type": "code",
      "source": [
        "testing=['i absolutely loved product it exceeded expectation every way the quality topnotch work perfectly i highly recommend anyone looking reliable highquality option five star']\n",
        "test_tensor=torch.tensor(tfidf.transform(testing).toarray(),dtype=torch.float)\n",
        "\n"
      ],
      "metadata": {
        "id": "3lTXW-9LuZ3U"
      },
      "execution_count": 53,
      "outputs": []
    },
    {
      "cell_type": "code",
      "source": [
        "test_tensor.shape"
      ],
      "metadata": {
        "colab": {
          "base_uri": "https://localhost:8080/"
        },
        "id": "MVrTU77qw39M",
        "outputId": "f4b78018-0036-4ae8-ccfb-29648a909c5c"
      },
      "execution_count": 54,
      "outputs": [
        {
          "output_type": "execute_result",
          "data": {
            "text/plain": [
              "torch.Size([1, 34606])"
            ]
          },
          "metadata": {},
          "execution_count": 54
        }
      ]
    },
    {
      "cell_type": "code",
      "source": [
        "with torch.inference_mode():\n",
        "    out=model(test_tensor.unsqueeze(1).to(device))"
      ],
      "metadata": {
        "id": "ij2rsKX-xPpK"
      },
      "execution_count": 55,
      "outputs": []
    },
    {
      "cell_type": "code",
      "source": [
        "print(f'predicted model {(torch.sigmoid(out)>0.5).int().item()} \\n expected : 1 ')"
      ],
      "metadata": {
        "colab": {
          "base_uri": "https://localhost:8080/"
        },
        "id": "cojnH37kxZRz",
        "outputId": "b03fc78f-70a4-408d-9a84-e92ca0d5d386"
      },
      "execution_count": 58,
      "outputs": [
        {
          "output_type": "stream",
          "name": "stdout",
          "text": [
            "predicted model 1 \n",
            " expected : 1 \n"
          ]
        }
      ]
    },
    {
      "cell_type": "code",
      "source": [
        "preprocess(testing[0])"
      ],
      "metadata": {
        "colab": {
          "base_uri": "https://localhost:8080/",
          "height": 36
        },
        "id": "7C5uvVEAxmZD",
        "outputId": "7f41af6f-ceae-4477-e907-cb6f97330a0e"
      },
      "execution_count": 52,
      "outputs": [
        {
          "output_type": "execute_result",
          "data": {
            "text/plain": [
              "'i absolutely loved product it exceeded expectation every way the quality topnotch work perfectly i highly recommend anyone looking reliable highquality option five star'"
            ],
            "application/vnd.google.colaboratory.intrinsic+json": {
              "type": "string"
            }
          },
          "metadata": {},
          "execution_count": 52
        }
      ]
    },
    {
      "cell_type": "code",
      "source": [
        "test_tfidf.shape"
      ],
      "metadata": {
        "colab": {
          "base_uri": "https://localhost:8080/"
        },
        "id": "oLa_KiOqyjBZ",
        "outputId": "93e88c5f-a909-42c6-b683-4e0f15eb8d8d"
      },
      "execution_count": 57,
      "outputs": [
        {
          "output_type": "execute_result",
          "data": {
            "text/plain": [
              "(1200, 34606)"
            ]
          },
          "metadata": {},
          "execution_count": 57
        }
      ]
    },
    {
      "cell_type": "code",
      "source": [],
      "metadata": {
        "id": "32XAZEy0zAYb"
      },
      "execution_count": null,
      "outputs": []
    }
  ]
}