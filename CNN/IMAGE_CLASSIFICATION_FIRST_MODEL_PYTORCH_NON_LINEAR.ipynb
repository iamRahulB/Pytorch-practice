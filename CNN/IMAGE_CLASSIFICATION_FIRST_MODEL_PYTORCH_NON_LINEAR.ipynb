{
  "nbformat": 4,
  "nbformat_minor": 0,
  "metadata": {
    "colab": {
      "provenance": [],
      "authorship_tag": "ABX9TyNWwqySVtaF5yNyoE6tpkgA",
      "include_colab_link": true
    },
    "kernelspec": {
      "name": "python3",
      "display_name": "Python 3"
    },
    "language_info": {
      "name": "python"
    }
  },
  "cells": [
    {
      "cell_type": "markdown",
      "metadata": {
        "id": "view-in-github",
        "colab_type": "text"
      },
      "source": [
        "<a href=\"https://colab.research.google.com/github/iamRahulB/Pytorch-practice/blob/main/IMAGE_CLASSIFICATION_FIRST_MODEL_PYTORCH_NON_LINEAR.ipynb\" target=\"_parent\"><img src=\"https://colab.research.google.com/assets/colab-badge.svg\" alt=\"Open In Colab\"/></a>"
      ]
    },
    {
      "cell_type": "code",
      "execution_count": 38,
      "metadata": {
        "id": "DvqvlY9NRJmi"
      },
      "outputs": [],
      "source": [
        "import torch\n",
        "from torch import nn\n",
        "import torch.optim as optim\n",
        "from torchvision import datasets, transforms\n",
        "import matplotlib.pyplot as plt\n",
        "import numpy as np\n",
        "from sklearn.metrics import accuracy_score\n",
        "from torch.utils.data import DataLoader"
      ]
    },
    {
      "cell_type": "code",
      "source": [
        "train_data=datasets.FashionMNIST(root=\"data\",\n",
        "                                 download=True,\n",
        "                                 transform=transforms.ToTensor(),\n",
        "                                 target_transform=None,\n",
        "                                 train=True)\n",
        "\n",
        "test_data=datasets.FashionMNIST(root='data',\n",
        "                                download=True,\n",
        "                                transform=transforms.ToTensor(),\n",
        "                                target_transform=None,\n",
        "                                train=False)"
      ],
      "metadata": {
        "id": "y_OnQacqRhFG"
      },
      "execution_count": 13,
      "outputs": []
    },
    {
      "cell_type": "code",
      "source": [
        "len(train_data),len(test_data)"
      ],
      "metadata": {
        "colab": {
          "base_uri": "https://localhost:8080/"
        },
        "id": "98SlDzYxSLiy",
        "outputId": "3d9eaf98-485f-41c4-dc48-ba534638e24f"
      },
      "execution_count": 14,
      "outputs": [
        {
          "output_type": "execute_result",
          "data": {
            "text/plain": [
              "(60000, 10000)"
            ]
          },
          "metadata": {},
          "execution_count": 14
        }
      ]
    },
    {
      "cell_type": "code",
      "source": [
        "train_data.classes\n"
      ],
      "metadata": {
        "colab": {
          "base_uri": "https://localhost:8080/"
        },
        "id": "MDtbvdAbSS8b",
        "outputId": "e2430a84-06e7-4144-e78b-c120c52f077f"
      },
      "execution_count": 15,
      "outputs": [
        {
          "output_type": "execute_result",
          "data": {
            "text/plain": [
              "['T-shirt/top',\n",
              " 'Trouser',\n",
              " 'Pullover',\n",
              " 'Dress',\n",
              " 'Coat',\n",
              " 'Sandal',\n",
              " 'Shirt',\n",
              " 'Sneaker',\n",
              " 'Bag',\n",
              " 'Ankle boot']"
            ]
          },
          "metadata": {},
          "execution_count": 15
        }
      ]
    },
    {
      "cell_type": "code",
      "source": [
        "image,label=train_data[0]\n",
        "\n",
        "image.shape\n",
        "\n",
        "plt.imshow(image.squeeze())\n"
      ],
      "metadata": {
        "colab": {
          "base_uri": "https://localhost:8080/",
          "height": 447
        },
        "id": "D5QLsNtmSXYR",
        "outputId": "c55b0ba4-8ccf-404f-bfa3-6f354c3ca8f9"
      },
      "execution_count": 19,
      "outputs": [
        {
          "output_type": "execute_result",
          "data": {
            "text/plain": [
              "<matplotlib.image.AxesImage at 0x7fe240fab2e0>"
            ]
          },
          "metadata": {},
          "execution_count": 19
        },
        {
          "output_type": "display_data",
          "data": {
            "text/plain": [
              "<Figure size 640x480 with 1 Axes>"
            ],
            "image/png": "[encoded data removed]"
          },
          "metadata": {}
        }
      ]
    },
    {
      "cell_type": "code",
      "source": [
        "train_loader=DataLoader(dataset=train_data,\n",
        "                        batch_size=32,\n",
        "                        shuffle=True,)\n",
        "\n",
        "test_loader=DataLoader(dataset=test_data,\n",
        "                       batch_size=32,\n",
        "                       shuffle=False)"
      ],
      "metadata": {
        "id": "Z4tAY7kBSjAi"
      },
      "execution_count": 20,
      "outputs": []
    },
    {
      "cell_type": "code",
      "source": [
        "image,label=next(iter(train_loader))\n",
        "image,label\n",
        "\n",
        "# above is images of batch 1 and its labels and it contains 32 images in each batch\n",
        "\n",
        "image.shape, label.shape"
      ],
      "metadata": {
        "colab": {
          "base_uri": "https://localhost:8080/"
        },
        "id": "fJ2E88XgTTTX",
        "outputId": "746e1ebb-5c36-4ef6-c5d9-c3131f0657d4"
      },
      "execution_count": 33,
      "outputs": [
        {
          "output_type": "execute_result",
          "data": {
            "text/plain": [
              "(torch.Size([32, 1, 28, 28]), torch.Size([32]))"
            ]
          },
          "metadata": {},
          "execution_count": 33
        }
      ]
    },
    {
      "cell_type": "markdown",
      "source": [
        "Above loader has NCHW format -> batch N, color channels, hight, width"
      ],
      "metadata": {
        "id": "x-_LUwuETvYN"
      }
    },
    {
      "cell_type": "code",
      "source": [
        "flatten_layer=nn.Flatten()\n",
        "\n",
        "flattened_image=flatten_layer(train_data[0][0])\n",
        "\n",
        "flattened_image.shape"
      ],
      "metadata": {
        "colab": {
          "base_uri": "https://localhost:8080/"
        },
        "id": "hpHag1t0TVEI",
        "outputId": "05e97e5b-2739-4f62-e48e-7962b5d0f490"
      },
      "execution_count": 30,
      "outputs": [
        {
          "output_type": "execute_result",
          "data": {
            "text/plain": [
              "torch.Size([1, 784])"
            ]
          },
          "metadata": {},
          "execution_count": 30
        }
      ]
    },
    {
      "cell_type": "code",
      "source": [
        "input_features=784\n",
        "output_shape=len(train_data.classes)\n",
        "\n",
        "print(f\"Input feature shape is {input_features}\")\n",
        "\n",
        "print(f\"Output feature classes are {output_shape}\")"
      ],
      "metadata": {
        "colab": {
          "base_uri": "https://localhost:8080/"
        },
        "id": "AG0CYOFPUbM1",
        "outputId": "b70e723c-e100-4335-a3c6-a22a77f92a4b"
      },
      "execution_count": 32,
      "outputs": [
        {
          "output_type": "stream",
          "name": "stdout",
          "text": [
            "Input feature shape is 784\n",
            "Output feature classes are 10\n"
          ]
        }
      ]
    },
    {
      "cell_type": "code",
      "source": [
        "class CNNBNonLinearModel(nn.Module):\n",
        "    def __init__(self,input_feature,output_shape):\n",
        "        super().__init__()\n",
        "        self.layer_stack=nn.Sequential(\n",
        "            nn.Flatten(),\n",
        "            nn.Linear(input_feature,32),\n",
        "            nn.ReLU(),\n",
        "            nn.Linear(32,64),\n",
        "            nn.ReLU(),\n",
        "            nn.Linear(64,output_shape)\n",
        "        )\n",
        "\n",
        "    def forward(self,x):\n",
        "        return self.layer_stack(x)\n",
        "\n",
        "\n",
        "torch.manual_seed(42)\n",
        "model=CNNBNonLinearModel(input_feature=input_features,output_shape=output_shape)\n",
        "\n",
        "model"
      ],
      "metadata": {
        "colab": {
          "base_uri": "https://localhost:8080/"
        },
        "id": "Ut4vP1oYU7b2",
        "outputId": "232e1f2d-24d6-48f3-91fb-f838a5995183"
      },
      "execution_count": 86,
      "outputs": [
        {
          "output_type": "execute_result",
          "data": {
            "text/plain": [
              "CNNBNonLinearModel(\n",
              "  (layer_stack): Sequential(\n",
              "    (0): Flatten(start_dim=1, end_dim=-1)\n",
              "    (1): Linear(in_features=784, out_features=32, bias=True)\n",
              "    (2): ReLU()\n",
              "    (3): Linear(in_features=32, out_features=64, bias=True)\n",
              "    (4): ReLU()\n",
              "    (5): Linear(in_features=64, out_features=10, bias=True)\n",
              "  )\n",
              ")"
            ]
          },
          "metadata": {},
          "execution_count": 86
        }
      ]
    },
    {
      "cell_type": "code",
      "source": [
        "from tqdm import tqdm"
      ],
      "metadata": {
        "id": "-HfUEJs0gz61"
      },
      "execution_count": 87,
      "outputs": []
    },
    {
      "cell_type": "code",
      "source": [
        "\n",
        "loss_fn=nn.CrossEntropyLoss()\n",
        "\n",
        "optimizer=optim.Adam(params=model.parameters(),lr=0.01)\n",
        "\n",
        "epochs=2\n",
        "\n",
        "for epoch in range(epochs):\n",
        "\n",
        "    model.train()\n",
        "    avg_train_loss=0\n",
        "    avg_train_acc=0\n",
        "    for batch,(X_train,y_train) in enumerate(train_loader):\n",
        "        train_batch_logits=model(X_train)\n",
        "\n",
        "        train_batch_preds=train_batch_logits.argmax(dim=1)\n",
        "\n",
        "        train_batch_loss=loss_fn(train_batch_logits,y_train)\n",
        "\n",
        "        train_batch_acc=accuracy_score(y_train,train_batch_preds)\n",
        "\n",
        "        optimizer.zero_grad()\n",
        "        train_batch_loss.backward()\n",
        "        optimizer.step()\n",
        "\n",
        "        avg_train_loss+=train_batch_loss\n",
        "        avg_train_acc+=train_batch_acc\n",
        "\n",
        "        if batch % 300 == 0:  # Adjust the frequency as needed\n",
        "            print(f\"Batch {batch} | Loss: {train_batch_loss.item():.4f} | Acc: {train_batch_acc*100:.2f}%\")\n",
        "\n",
        "    model.eval()\n",
        "\n",
        "    avg_test_loss=0\n",
        "    avg_test_acc=0\n",
        "    # model evaluation\n",
        "    with torch.inference_mode():\n",
        "        for X_test,y_test in tqdm(test_loader, desc=\"Evaluating\"):\n",
        "            test_logits=model(X_test)\n",
        "\n",
        "            test_preds=test_logits.argmax(dim=1)\n",
        "            test_loss=loss_fn(test_logits,test_preds)\n",
        "\n",
        "            test_acc=accuracy_score(y_test,test_preds)\n",
        "\n",
        "            avg_test_loss+=test_loss\n",
        "            avg_test_acc+=test_acc\n",
        "\n",
        "    # avg_train_loss, acc are the per batch sum of accuracies so we need to calculate over all acc on the data\n",
        "\n",
        "    print(f\"Epoch: {epoch} | Train Loss: {avg_train_loss/len(train_loader):.4f} | Train Acc: {avg_train_acc/len(train_loader)*100:.2f} | Test loss: {avg_test_loss/len(test_loader):.4f} | Test Acc: {avg_test_acc/len(test_loader)*100:.2f}\")\n"
      ],
      "metadata": {
        "colab": {
          "base_uri": "https://localhost:8080/"
        },
        "id": "LaYzxzmRYnEt",
        "outputId": "aac792dc-055b-4acd-a87e-323c9fb80c84"
      },
      "execution_count": 88,
      "outputs": [
        {
          "output_type": "stream",
          "name": "stdout",
          "text": [
            "Batch 0 | Loss: 2.2922 | Acc: 9.38%\n",
            "Batch 300 | Loss: 0.4520 | Acc: 81.25%\n",
            "Batch 600 | Loss: 0.4945 | Acc: 84.38%\n",
            "Batch 900 | Loss: 0.4368 | Acc: 84.38%\n",
            "Batch 1200 | Loss: 0.3225 | Acc: 84.38%\n",
            "Batch 1500 | Loss: 0.3177 | Acc: 90.62%\n",
            "Batch 1800 | Loss: 0.7948 | Acc: 65.62%\n"
          ]
        },
        {
          "output_type": "stream",
          "name": "stderr",
          "text": [
            "Evaluating: 100%|██████████| 313/313 [00:01<00:00, 203.19it/s]\n"
          ]
        },
        {
          "output_type": "stream",
          "name": "stdout",
          "text": [
            "Epoch: 0 | Train Loss: 0.5356 | Train Acc: 80.61 | Test loss: 0.2272 | Test Acc: 83.54\n",
            "Batch 0 | Loss: 0.5345 | Acc: 81.25%\n",
            "Batch 300 | Loss: 0.2801 | Acc: 90.62%\n",
            "Batch 600 | Loss: 0.2588 | Acc: 93.75%\n",
            "Batch 900 | Loss: 0.4362 | Acc: 84.38%\n",
            "Batch 1200 | Loss: 0.2805 | Acc: 90.62%\n",
            "Batch 1500 | Loss: 1.0088 | Acc: 78.12%\n",
            "Batch 1800 | Loss: 0.2825 | Acc: 90.62%\n"
          ]
        },
        {
          "output_type": "stream",
          "name": "stderr",
          "text": [
            "Evaluating: 100%|██████████| 313/313 [00:01<00:00, 200.65it/s]"
          ]
        },
        {
          "output_type": "stream",
          "name": "stdout",
          "text": [
            "Epoch: 1 | Train Loss: 0.4427 | Train Acc: 84.08 | Test loss: 0.1699 | Test Acc: 84.75\n"
          ]
        },
        {
          "output_type": "stream",
          "name": "stderr",
          "text": [
            "\n"
          ]
        }
      ]
    },
    {
      "cell_type": "code",
      "source": [
        "from torchsummary import summary\n",
        "summary(model, input_size=(1, 28, 28))  # Adjust input_size to match your model's input\n"
      ],
      "metadata": {
        "colab": {
          "base_uri": "https://localhost:8080/"
        },
        "id": "CNeYsLzdfF9x",
        "outputId": "93d48db6-afc6-4f4b-d2bf-bf8213a1c572"
      },
      "execution_count": 72,
      "outputs": [
        {
          "output_type": "stream",
          "name": "stdout",
          "text": [
            "----------------------------------------------------------------\n",
            "        Layer (type)               Output Shape         Param #\n",
            "================================================================\n",
            "           Flatten-1                  [-1, 784]               0\n",
            "            Linear-2                   [-1, 32]          25,120\n",
            "              ReLU-3                   [-1, 32]               0\n",
            "            Linear-4                   [-1, 64]           2,112\n",
            "              ReLU-5                   [-1, 64]               0\n",
            "            Linear-6                   [-1, 10]             650\n",
            "================================================================\n",
            "Total params: 27,882\n",
            "Trainable params: 27,882\n",
            "Non-trainable params: 0\n",
            "----------------------------------------------------------------\n",
            "Input size (MB): 0.00\n",
            "Forward/backward pass size (MB): 0.01\n",
            "Params size (MB): 0.11\n",
            "Estimated Total Size (MB): 0.12\n",
            "----------------------------------------------------------------\n"
          ]
        }
      ]
    },
    {
      "cell_type": "code",
      "source": [],
      "metadata": {
        "id": "hUkxNfpah5Op"
      },
      "execution_count": null,
      "outputs": []
    },
    {
      "cell_type": "markdown",
      "source": [
        "rough code below"
      ],
      "metadata": {
        "id": "GyqFcUiGh5qG"
      }
    },
    {
      "cell_type": "code",
      "source": [
        "(x,y)=next(iter(train_loader))"
      ],
      "metadata": {
        "id": "EvkcwqxDaeRP"
      },
      "execution_count": 61,
      "outputs": []
    },
    {
      "cell_type": "code",
      "source": [
        "y"
      ],
      "metadata": {
        "colab": {
          "base_uri": "https://localhost:8080/"
        },
        "id": "m3cnJUN5b4av",
        "outputId": "d5b4cabc-31fd-4b71-8bd4-afb97d383a34"
      },
      "execution_count": 62,
      "outputs": [
        {
          "output_type": "execute_result",
          "data": {
            "text/plain": [
              "tensor([4, 8, 5, 5, 5, 2, 4, 7, 7, 8, 6, 8, 6, 0, 8, 5, 3, 3, 1, 5, 2, 9, 2, 0,\n",
              "        4, 6, 2, 4, 6, 2, 1, 0])"
            ]
          },
          "metadata": {},
          "execution_count": 62
        }
      ]
    },
    {
      "cell_type": "code",
      "source": [
        "with torch.inference_mode():\n",
        "    checks=model(train_data[1][0])"
      ],
      "metadata": {
        "id": "KsYpojXrY9Y5"
      },
      "execution_count": 50,
      "outputs": []
    },
    {
      "cell_type": "code",
      "source": [
        "torch.argmax(checks,dim=1)"
      ],
      "metadata": {
        "colab": {
          "base_uri": "https://localhost:8080/"
        },
        "id": "v-Z0TT-1aiHY",
        "outputId": "a06c3f8c-4348-4bc4-e19b-6bba28f2a80d"
      },
      "execution_count": 54,
      "outputs": [
        {
          "output_type": "execute_result",
          "data": {
            "text/plain": [
              "tensor([5])"
            ]
          },
          "metadata": {},
          "execution_count": 54
        }
      ]
    },
    {
      "cell_type": "code",
      "source": [
        "train_data[0][0].shape"
      ],
      "metadata": {
        "colab": {
          "base_uri": "https://localhost:8080/"
        },
        "id": "nDEgpeRtaj3C",
        "outputId": "ebfbcf0f-077e-45e2-9043-6a46545bf596"
      },
      "execution_count": 52,
      "outputs": [
        {
          "output_type": "execute_result",
          "data": {
            "text/plain": [
              "torch.Size([1, 28, 28])"
            ]
          },
          "metadata": {},
          "execution_count": 52
        }
      ]
    },
    {
      "cell_type": "code",
      "source": [
        "checks.argmax()"
      ],
      "metadata": {
        "colab": {
          "base_uri": "https://localhost:8080/"
        },
        "id": "A6ETX23Qaq06",
        "outputId": "28f33c15-5629-453f-9086-e9543fff484b"
      },
      "execution_count": 55,
      "outputs": [
        {
          "output_type": "execute_result",
          "data": {
            "text/plain": [
              "tensor(5)"
            ]
          },
          "metadata": {},
          "execution_count": 55
        }
      ]
    }
  ]
}
